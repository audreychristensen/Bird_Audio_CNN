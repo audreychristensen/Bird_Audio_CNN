{
  "nbformat": 4,
  "nbformat_minor": 0,
  "metadata": {
    "colab": {
      "provenance": [],
      "mount_file_id": "1I6KD4WXS45q99DjHaF4jpxvBV2HGip6J",
      "authorship_tag": "ABX9TyP4IC+2+euF7AQAmmYkcaqo",
      "include_colab_link": true
    },
    "kernelspec": {
      "name": "python3",
      "display_name": "Python 3"
    },
    "language_info": {
      "name": "python"
    }
  },
  "cells": [
    {
      "cell_type": "markdown",
      "metadata": {
        "id": "view-in-github",
        "colab_type": "text"
      },
      "source": [
        "<a href=\"https://colab.research.google.com/github/audreychristensen/Bird_Audio_CNN/blob/main/0.2%20Query%20Xeno%20Canto.ipynb\" target=\"_parent\"><img src=\"https://colab.research.google.com/assets/colab-badge.svg\" alt=\"Open In Colab\"/></a>"
      ]
    },
    {
      "cell_type": "code",
      "source": [
        "!pip install xenopy"
      ],
      "metadata": {
        "colab": {
          "base_uri": "https://localhost:8080/"
        },
        "id": "Ke7mqdEmNvIE",
        "outputId": "a46ae94e-653b-483e-e385-0b7ec8c1fdad"
      },
      "execution_count": null,
      "outputs": [
        {
          "output_type": "stream",
          "name": "stdout",
          "text": [
            "Requirement already satisfied: xenopy in /usr/local/lib/python3.10/dist-packages (0.0.4)\n",
            "Requirement already satisfied: tqdm in /usr/local/lib/python3.10/dist-packages (from xenopy) (4.66.6)\n",
            "Requirement already satisfied: multiprocess in /usr/local/lib/python3.10/dist-packages (from xenopy) (0.70.17)\n",
            "Requirement already satisfied: dill>=0.3.9 in /usr/local/lib/python3.10/dist-packages (from multiprocess->xenopy) (0.3.9)\n"
          ]
        }
      ]
    },
    {
      "cell_type": "code",
      "source": [
        "import pandas as pd\n",
        "import xenopy\n",
        "from xenopy import Query"
      ],
      "metadata": {
        "id": "_fNnfEh3OIqP"
      },
      "execution_count": null,
      "outputs": []
    },
    {
      "cell_type": "code",
      "source": [
        "base_dir = \"/content/drive/MyDrive/F2024/Applied Data Science/Project 3/\""
      ],
      "metadata": {
        "id": "rAEUNQwwdt5u"
      },
      "execution_count": null,
      "outputs": []
    },
    {
      "cell_type": "code",
      "source": [
        "nj_birds = pd.read_csv(base_dir+'nj_birds.csv')"
      ],
      "metadata": {
        "id": "1JD80SgUZeGh"
      },
      "execution_count": null,
      "outputs": []
    },
    {
      "cell_type": "code",
      "source": [
        "birds_dir = base_dir + 'bird_calls_highest_quality'"
      ],
      "metadata": {
        "id": "4v6DzoWQeyRf"
      },
      "execution_count": null,
      "outputs": []
    },
    {
      "cell_type": "code",
      "source": [
        "birds_list = nj_birds['COMMON NAME'].to_list()"
      ],
      "metadata": {
        "id": "HbqGxExDfDDH"
      },
      "execution_count": null,
      "outputs": []
    },
    {
      "cell_type": "code",
      "source": [
        "# query the xeno canto website for recordings in our birds_list who have a quality > B since 2020"
      ],
      "metadata": {
        "id": "dPo_4FGn8eUR"
      },
      "execution_count": null,
      "outputs": []
    },
    {
      "cell_type": "code",
      "source": [
        "bird_current = 0\n",
        "failed_birds = []\n",
        "\n",
        "for bird in birds_list:\n",
        "  try:\n",
        "      q = Query(name=bird, q_gt=\"B\", since=\"2020-01-01\")\n",
        "      q.retrieve_recordings(multiprocess=True, nproc=10, attempts=10, outdir=birds_dir)\n",
        "  except UnicodeEncodeError as e:\n",
        "      print(f\"Error processing bird '{bird}': {e}\")\n",
        "      failed_birds.append(bird)  # Add the bird name to the failed list\n",
        "  except Exception as e:  # Catch other possible exceptions\n",
        "      print(f\"An unexpected error occurred for bird '{bird}': {e}\")\n",
        "      failed_birds.append(bird)\n",
        "  bird_current += 1"
      ],
      "metadata": {
        "id": "_Zrqhym8gvK2",
        "colab": {
          "base_uri": "https://localhost:8080/"
        },
        "outputId": "17f51e12-2775-4dc6-a809-5624fee9fb68",
        "collapsed": true
      },
      "execution_count": null,
      "outputs": [
        {
          "output_type": "stream",
          "name": "stdout",
          "text": [
            "query: Red-throated Loon q_gt:B since:2020-01-01\n",
            "... retrieving metadata ...\n"
          ]
        },
        {
          "output_type": "stream",
          "name": "stderr",
          "text": [
            "process 9889: 100%|██████████| 2/2 [00:04<00:00,  2.49s/it]\n",
            "process 9886: 100%|██████████| 3/3 [00:05<00:00,  1.69s/it]\n",
            "process 9865: 100%|██████████| 3/3 [00:05<00:00,  1.87s/it]\n",
            "process 9876: 100%|██████████| 3/3 [00:05<00:00,  1.89s/it]\n",
            "process 9881: 100%|██████████| 3/3 [00:06<00:00,  2.26s/it]\n",
            "process 9880: 100%|██████████| 3/3 [00:06<00:00,  2.27s/it]\n",
            "process 9863: 100%|██████████| 3/3 [00:07<00:00,  2.36s/it]\n",
            "process 9868: 100%|██████████| 3/3 [00:07<00:00,  2.46s/it]\n",
            "process 9862: 100%|██████████| 3/3 [00:07<00:00,  2.53s/it]\n",
            "process 9870: 100%|██████████| 3/3 [00:07<00:00,  2.63s/it]\n"
          ]
        },
        {
          "output_type": "stream",
          "name": "stdout",
          "text": [
            "... finished ...\n",
            "query: Common Loon q_gt:B since:2020-01-01\n",
            "... retrieving metadata ...\n"
          ]
        },
        {
          "output_type": "stream",
          "name": "stderr",
          "text": [
            "process 10067: 100%|██████████| 2/2 [00:02<00:00,  1.33s/it]\n",
            "process 10072: 100%|██████████| 2/2 [00:03<00:00,  1.55s/it]\n",
            "process 10053: 100%|██████████| 2/2 [00:03<00:00,  1.74s/it]\n",
            "process 10085: 100%|██████████| 2/2 [00:03<00:00,  1.88s/it]\n",
            "process 10075: 100%|██████████| 2/2 [00:03<00:00,  1.99s/it]\n",
            "process 10066: 100%|██████████| 2/2 [00:04<00:00,  2.09s/it]\n",
            "process 10054: 100%|██████████| 2/2 [00:04<00:00,  2.27s/it]\n",
            "process 10062: 100%|██████████| 2/2 [00:04<00:00,  2.21s/it]\n",
            "process 10055: 100%|██████████| 2/2 [00:04<00:00,  2.36s/it]\n",
            "process 10052: 100%|██████████| 3/3 [00:05<00:00,  1.92s/it]\n"
          ]
        },
        {
          "output_type": "stream",
          "name": "stdout",
          "text": [
            "... finished ...\n",
            "query: Pied-billed Grebe q_gt:B since:2020-01-01\n",
            "... retrieving metadata ...\n"
          ]
        },
        {
          "output_type": "stream",
          "name": "stderr",
          "text": [
            "process 10245: 100%|██████████| 4/4 [00:06<00:00,  1.64s/it]\n",
            "process 10219: 100%|██████████| 5/5 [00:08<00:00,  1.68s/it]\n",
            "process 10240: 100%|██████████| 4/4 [00:08<00:00,  2.22s/it]\n",
            "process 10228: 100%|██████████| 5/5 [00:10<00:00,  2.04s/it]\n",
            "process 10239: 100%|██████████| 5/5 [00:10<00:00,  2.03s/it]\n",
            "process 10230: 100%|██████████| 5/5 [00:10<00:00,  2.05s/it]\n",
            "process 10215: 100%|██████████| 5/5 [00:10<00:00,  2.16s/it]\n",
            "process 10214: 100%|██████████| 5/5 [00:11<00:00,  2.26s/it]\n",
            "process 10241: 100%|██████████| 4/4 [00:11<00:00,  2.78s/it]\n",
            "process 10224: 100%|██████████| 5/5 [00:11<00:00,  2.27s/it]\n"
          ]
        },
        {
          "output_type": "stream",
          "name": "stdout",
          "text": [
            "... finished ...\n",
            "query: Horned Grebe q_gt:B since:2020-01-01\n",
            "... retrieving metadata ...\n"
          ]
        },
        {
          "output_type": "stream",
          "name": "stderr",
          "text": [
            "process 10490: 100%|██████████| 2/2 [00:02<00:00,  1.25s/it]\n",
            "process 10482: 100%|██████████| 2/2 [00:03<00:00,  1.56s/it]\n",
            "process 10487: 100%|██████████| 2/2 [00:03<00:00,  1.77s/it]\n",
            "process 10475: 100%|██████████| 2/2 [00:03<00:00,  1.88s/it]\n",
            "process 10496: 100%|██████████| 2/2 [00:03<00:00,  1.87s/it]\n",
            "process 10479: 100%|██████████| 2/2 [00:04<00:00,  2.20s/it]\n",
            "process 10459: 100%|██████████| 3/3 [00:05<00:00,  1.99s/it]\n",
            "process 10464: 100%|██████████| 3/3 [00:06<00:00,  2.16s/it]\n",
            "process 10461: 100%|██████████| 3/3 [00:07<00:00,  2.52s/it]\n",
            "process 10470: 100%|██████████| 2/2 [00:13<00:00,  6.67s/it]\n"
          ]
        },
        {
          "output_type": "stream",
          "name": "stdout",
          "text": [
            "... finished ...\n",
            "query: Red-necked Grebe q_gt:B since:2020-01-01\n",
            "... retrieving metadata ...\n"
          ]
        },
        {
          "output_type": "stream",
          "name": "stderr",
          "text": [
            "process 10688: 100%|██████████| 1/1 [00:01<00:00,  1.79s/it]\n",
            "process 10669: 100%|██████████| 1/1 [00:02<00:00,  2.00s/it]\n",
            "process 10683: 100%|██████████| 1/1 [00:01<00:00,  1.98s/it]\n",
            "process 10684: 100%|██████████| 1/1 [00:02<00:00,  2.02s/it]\n",
            "process 10677: 100%|██████████| 1/1 [00:02<00:00,  2.22s/it]\n",
            "process 10664: 100%|██████████| 1/1 [00:02<00:00,  2.41s/it]\n",
            "process 10696: 100%|██████████| 1/1 [00:02<00:00,  2.70s/it]\n",
            "process 10673: 100%|██████████| 1/1 [00:03<00:00,  3.79s/it]\n",
            "process 10692: 100%|██████████| 1/1 [00:03<00:00,  3.70s/it]\n",
            "process 10663: 100%|██████████| 2/2 [00:04<00:00,  2.36s/it]\n"
          ]
        },
        {
          "output_type": "stream",
          "name": "stdout",
          "text": [
            "... finished ...\n",
            "query: Corys Shearwater q_gt:B since:2020-01-01\n",
            "... retrieving metadata ...\n",
            "Error processing bird 'Corys Shearwater': 'ascii' codec can't encode character '\\x92' in position 32: ordinal not in range(128)\n",
            "query: Greater Shearwater q_gt:B since:2020-01-01\n",
            "... retrieving metadata ...\n",
            "An unexpected error occurred for bird 'Greater Shearwater': integer division or modulo by zero\n",
            "query: Sooty Shearwater q_gt:B since:2020-01-01\n",
            "... retrieving metadata ...\n"
          ]
        },
        {
          "output_type": "stream",
          "name": "stderr",
          "text": [
            "process 10817: 100%|██████████| 1/1 [00:02<00:00,  2.09s/it]\n"
          ]
        },
        {
          "output_type": "stream",
          "name": "stdout",
          "text": [
            "... finished ...\n",
            "query: Wilsons Storm-petrel q_gt:B since:2020-01-01\n",
            "... retrieving metadata ...\n",
            "Error processing bird 'Wilsons Storm-petrel': 'ascii' codec can't encode character '\\x92' in position 34: ordinal not in range(128)\n",
            "query: Leachs Storm-petrel q_gt:B since:2020-01-01\n",
            "... retrieving metadata ...\n",
            "Error processing bird 'Leachs Storm-petrel': 'ascii' codec can't encode character '\\x92' in position 33: ordinal not in range(128)\n",
            "query: Northern Gannet q_gt:B since:2020-01-01\n",
            "... retrieving metadata ...\n"
          ]
        },
        {
          "output_type": "stream",
          "name": "stderr",
          "text": [
            "process 10877: 100%|██████████| 1/1 [00:01<00:00,  1.56s/it]\n",
            "process 10882: 100%|██████████| 1/1 [00:01<00:00,  1.82s/it]\n",
            "process 10888: 100%|██████████| 1/1 [00:02<00:00,  2.38s/it]\n",
            "process 10876: 100%|██████████| 1/1 [00:02<00:00,  2.49s/it]\n",
            "process 10868: 100%|██████████| 2/2 [00:04<00:00,  2.15s/it]\n",
            "process 10863: 100%|██████████| 2/2 [00:04<00:00,  2.16s/it]\n",
            "process 10855: 100%|██████████| 2/2 [00:04<00:00,  2.40s/it]\n",
            "process 10857: 100%|██████████| 2/2 [00:04<00:00,  2.42s/it]\n",
            "process 10870: 100%|██████████| 2/2 [00:05<00:00,  2.98s/it]\n",
            "process 10860: 100%|██████████| 2/2 [00:06<00:00,  3.38s/it]\n"
          ]
        },
        {
          "output_type": "stream",
          "name": "stdout",
          "text": [
            "... finished ...\n",
            "query: Brown Pelican q_gt:B since:2020-01-01\n",
            "... retrieving metadata ...\n"
          ]
        },
        {
          "output_type": "stream",
          "name": "stderr",
          "text": [
            "process 11023: 100%|██████████| 1/1 [00:01<00:00,  1.58s/it]\n",
            "process 11017: 100%|██████████| 1/1 [00:01<00:00,  1.98s/it]\n",
            "process 11011: 100%|██████████| 1/1 [00:02<00:00,  2.14s/it]\n",
            "process 11013: 100%|██████████| 1/1 [00:02<00:00,  2.27s/it]\n",
            "process 11025: 100%|██████████| 1/1 [00:02<00:00,  2.25s/it]\n"
          ]
        },
        {
          "output_type": "stream",
          "name": "stdout",
          "text": [
            "... finished ...\n",
            "query: Great Cormorant q_gt:B since:2020-01-01\n",
            "... retrieving metadata ...\n"
          ]
        },
        {
          "output_type": "stream",
          "name": "stderr",
          "text": [
            "process 11122: 100%|██████████| 7/7 [00:13<00:00,  1.93s/it]\n",
            "process 11114: 100%|██████████| 8/8 [00:14<00:00,  1.87s/it]\n",
            "process 11104: 100%|██████████| 8/8 [00:15<00:00,  1.95s/it]\n",
            "process 11102: 100%|██████████| 8/8 [00:15<00:00,  1.96s/it]\n",
            "process 11119: 100%|██████████| 7/7 [00:15<00:00,  2.25s/it]\n",
            "process 11095: 100%|██████████| 8/8 [00:16<00:00,  2.00s/it]\n",
            "process 11118: 100%|██████████| 8/8 [00:16<00:00,  2.02s/it]\n",
            "process 11109: 100%|██████████| 8/8 [00:17<00:00,  2.13s/it]\n",
            "process 11093: 100%|██████████| 8/8 [00:18<00:00,  2.27s/it]\n",
            "process 11098: 100%|██████████| 8/8 [00:21<00:00,  2.70s/it]\n"
          ]
        },
        {
          "output_type": "stream",
          "name": "stdout",
          "text": [
            "... finished ...\n",
            "query: Double-crested Cormorant q_gt:B since:2020-01-01\n",
            "... retrieving metadata ...\n"
          ]
        },
        {
          "output_type": "stream",
          "name": "stderr",
          "text": [
            "process 11435: 100%|██████████| 1/1 [00:01<00:00,  1.74s/it]\n",
            "process 11444: 100%|██████████| 1/1 [00:01<00:00,  1.77s/it]\n",
            "process 11452: 100%|██████████| 1/1 [00:01<00:00,  1.73s/it]\n",
            "process 11454: 100%|██████████| 1/1 [00:01<00:00,  1.77s/it]\n",
            "process 11448: 100%|██████████| 1/1 [00:01<00:00,  1.92s/it]\n",
            "process 11436: 100%|██████████| 1/1 [00:02<00:00,  2.19s/it]\n",
            "process 11440: 100%|██████████| 1/1 [00:02<00:00,  2.38s/it]\n"
          ]
        },
        {
          "output_type": "stream",
          "name": "stdout",
          "text": [
            "... finished ...\n",
            "query: American Bittern q_gt:B since:2020-01-01\n",
            "... retrieving metadata ...\n"
          ]
        },
        {
          "output_type": "stream",
          "name": "stderr",
          "text": [
            "process 11532: 100%|██████████| 1/1 [00:01<00:00,  1.92s/it]\n",
            "process 11538: 100%|██████████| 1/1 [00:02<00:00,  2.08s/it]\n",
            "process 11529: 100%|██████████| 1/1 [00:02<00:00,  2.18s/it]\n",
            "process 11530: 100%|██████████| 1/1 [00:02<00:00,  2.44s/it]\n",
            "process 11540: 100%|██████████| 1/1 [00:03<00:00,  3.22s/it]\n"
          ]
        },
        {
          "output_type": "stream",
          "name": "stdout",
          "text": [
            "... finished ...\n",
            "query: Least Bittern q_gt:B since:2020-01-01\n",
            "... retrieving metadata ...\n"
          ]
        },
        {
          "output_type": "stream",
          "name": "stderr",
          "text": [
            "process 11638: 100%|██████████| 2/2 [00:02<00:00,  1.22s/it]\n",
            "process 11635: 100%|██████████| 2/2 [00:02<00:00,  1.32s/it]\n",
            "process 11612: 100%|██████████| 3/3 [00:03<00:00,  1.25s/it]\n",
            "process 11633: 100%|██████████| 2/2 [00:04<00:00,  2.05s/it]\n",
            "process 11615: 100%|██████████| 3/3 [00:04<00:00,  1.47s/it]\n",
            "process 11648: 100%|██████████| 2/2 [00:04<00:00,  2.46s/it]\n",
            "process 11619: 100%|██████████| 3/3 [00:05<00:00,  1.72s/it]\n",
            "process 11623: 100%|██████████| 3/3 [00:05<00:00,  1.80s/it]\n",
            "process 11627: 100%|██████████| 3/3 [00:05<00:00,  1.82s/it]\n",
            "process 11613: 100%|██████████| 3/3 [00:05<00:00,  1.91s/it]\n"
          ]
        },
        {
          "output_type": "stream",
          "name": "stdout",
          "text": [
            "... finished ...\n",
            "query: Great Blue Heron q_gt:B since:2020-01-01\n",
            "... retrieving metadata ...\n"
          ]
        },
        {
          "output_type": "stream",
          "name": "stderr",
          "text": [
            "process 11814: 100%|██████████| 2/2 [00:02<00:00,  1.37s/it]\n",
            "process 11801: 100%|██████████| 2/2 [00:03<00:00,  1.61s/it]\n",
            "process 11797: 100%|██████████| 2/2 [00:03<00:00,  1.64s/it]\n",
            "process 11805: 100%|██████████| 2/2 [00:03<00:00,  1.72s/it]\n",
            "process 11818: 100%|██████████| 2/2 [00:03<00:00,  1.76s/it]\n",
            "process 11812: 100%|██████████| 2/2 [00:03<00:00,  1.78s/it]\n",
            "process 11784: 100%|██████████| 3/3 [00:05<00:00,  1.69s/it]\n",
            "process 11793: 100%|██████████| 3/3 [00:05<00:00,  1.77s/it]\n",
            "process 11790: 100%|██████████| 3/3 [00:06<00:00,  2.10s/it]\n",
            "process 11786: 100%|██████████| 3/3 [00:07<00:00,  2.41s/it]\n"
          ]
        },
        {
          "output_type": "stream",
          "name": "stdout",
          "text": [
            "... finished ...\n",
            "query: Great Egret q_gt:B since:2020-01-01\n",
            "... retrieving metadata ...\n"
          ]
        },
        {
          "output_type": "stream",
          "name": "stderr",
          "text": [
            "process 11987: 100%|██████████| 5/5 [00:07<00:00,  1.56s/it]\n",
            "process 11985: 100%|██████████| 5/5 [00:07<00:00,  1.57s/it]\n",
            "process 11997: 100%|██████████| 5/5 [00:08<00:00,  1.66s/it]\n",
            "process 11979: 100%|██████████| 5/5 [00:08<00:00,  1.70s/it]\n",
            "process 11972: 100%|██████████| 6/6 [00:09<00:00,  1.54s/it]\n",
            "process 11974: 100%|██████████| 6/6 [00:09<00:00,  1.55s/it]\n",
            "process 11964: 100%|██████████| 6/6 [00:09<00:00,  1.61s/it]\n",
            "process 11968: 100%|██████████| 6/6 [00:09<00:00,  1.63s/it]\n",
            "process 11960: 100%|██████████| 6/6 [00:12<00:00,  2.08s/it]\n",
            "process 11977: 100%|██████████| 6/6 [00:14<00:00,  2.38s/it]\n"
          ]
        },
        {
          "output_type": "stream",
          "name": "stdout",
          "text": [
            "... finished ...\n",
            "query: Snowy Egret q_gt:B since:2020-01-01\n",
            "... retrieving metadata ...\n"
          ]
        },
        {
          "output_type": "stream",
          "name": "stderr",
          "text": [
            "process 12244: 100%|██████████| 1/1 [00:01<00:00,  1.32s/it]\n",
            "process 12260: 100%|██████████| 1/1 [00:01<00:00,  1.37s/it]\n",
            "process 12248: 100%|██████████| 1/1 [00:01<00:00,  1.56s/it]\n",
            "process 12262: 100%|██████████| 1/1 [00:01<00:00,  1.63s/it]\n",
            "process 12253: 100%|██████████| 1/1 [00:01<00:00,  1.76s/it]\n",
            "process 12259: 100%|██████████| 1/1 [00:01<00:00,  1.80s/it]\n",
            "process 12238: 100%|██████████| 1/1 [00:01<00:00,  1.95s/it]\n",
            "process 12232: 100%|██████████| 2/2 [00:03<00:00,  1.92s/it]\n",
            "process 12232: 100%|██████████| 2/2 [00:03<00:00,  1.77s/it]\n",
            "process 12231: 100%|██████████| 2/2 [00:05<00:00,  2.55s/it]\n"
          ]
        },
        {
          "output_type": "stream",
          "name": "stdout",
          "text": [
            "... finished ...\n",
            "query: Little Blue Heron q_gt:B since:2020-01-01\n",
            "... retrieving metadata ...\n"
          ]
        },
        {
          "output_type": "stream",
          "name": "stderr",
          "text": [
            "process 12410: 100%|██████████| 1/1 [00:02<00:00,  2.46s/it]\n",
            "process 12410: 100%|██████████| 1/1 [00:02<00:00,  2.49s/it]\n",
            "process 12392: 100%|██████████| 2/2 [00:02<00:00,  1.38s/it]\n",
            "process 12389: 100%|██████████| 2/2 [00:02<00:00,  1.43s/it]\n",
            "process 12412: 100%|██████████| 1/1 [00:02<00:00,  2.67s/it]\n",
            "process 12377: 100%|██████████| 2/2 [00:03<00:00,  1.66s/it]\n",
            "process 12403: 100%|██████████| 2/2 [00:03<00:00,  1.78s/it]\n",
            "process 12381: 100%|██████████| 2/2 [00:03<00:00,  1.86s/it]\n",
            "process 12409: 100%|██████████| 2/2 [00:04<00:00,  2.21s/it]\n",
            "process 12382: 100%|██████████| 2/2 [00:04<00:00,  2.42s/it]\n"
          ]
        },
        {
          "output_type": "stream",
          "name": "stdout",
          "text": [
            "... finished ...\n",
            "query: tricolored Heron q_gt:B since:2020-01-01\n",
            "... retrieving metadata ...\n"
          ]
        },
        {
          "output_type": "stream",
          "name": "stderr",
          "text": [
            "process 12542: 100%|██████████| 1/1 [00:01<00:00,  1.16s/it]\n",
            "process 12545: 100%|██████████| 1/1 [00:01<00:00,  1.28s/it]\n",
            "process 12530: 100%|██████████| 1/1 [00:01<00:00,  1.58s/it]\n",
            "process 12529: 100%|██████████| 1/1 [00:01<00:00,  1.77s/it]\n",
            "process 12538: 100%|██████████| 1/1 [00:01<00:00,  1.77s/it]\n",
            "process 12531: 100%|██████████| 1/1 [00:02<00:00,  2.21s/it]\n"
          ]
        },
        {
          "output_type": "stream",
          "name": "stdout",
          "text": [
            "... finished ...\n",
            "query: Cattle Egret q_gt:B since:2020-01-01\n",
            "... retrieving metadata ...\n"
          ]
        },
        {
          "output_type": "stream",
          "name": "stderr",
          "text": [
            "process 12653: 100%|██████████| 3/3 [00:06<00:00,  2.11s/it]\n",
            "process 12649: 100%|██████████| 3/3 [00:06<00:00,  2.29s/it]\n",
            "process 12645: 100%|██████████| 3/3 [00:06<00:00,  2.33s/it]\n",
            "process 12619: 100%|██████████| 4/4 [00:08<00:00,  2.05s/it]\n",
            "process 12626: 100%|██████████| 4/4 [00:09<00:00,  2.31s/it]\n",
            "process 12617: 100%|██████████| 4/4 [00:09<00:00,  2.46s/it]\n",
            "process 12641: 100%|██████████| 4/4 [00:11<00:00,  2.83s/it]\n",
            "process 12632: 100%|██████████| 4/4 [00:12<00:00,  3.11s/it]\n",
            "process 12622: 100%|██████████| 4/4 [00:15<00:00,  3.77s/it]\n",
            "process 12635: 100%|██████████| 4/4 [00:24<00:00,  6.11s/it]\n"
          ]
        },
        {
          "output_type": "stream",
          "name": "stdout",
          "text": [
            "... finished ...\n",
            "query: Green Heron q_gt:B since:2020-01-01\n",
            "... retrieving metadata ...\n"
          ]
        },
        {
          "output_type": "stream",
          "name": "stderr",
          "text": [
            "process 12924: 100%|██████████| 1/1 [00:02<00:00,  2.66s/it]\n",
            "process 12919: 100%|██████████| 1/1 [00:03<00:00,  3.55s/it]\n",
            "process 12895: 100%|██████████| 2/2 [00:03<00:00,  1.87s/it]\n",
            "process 12906: 100%|██████████| 2/2 [00:03<00:00,  1.89s/it]\n",
            "process 12890: 100%|██████████| 2/2 [00:04<00:00,  2.12s/it]\n",
            "process 12908: 100%|██████████| 2/2 [00:04<00:00,  2.23s/it]\n",
            "process 12915: 100%|██████████| 2/2 [00:04<00:00,  2.38s/it]\n",
            "process 12891: 100%|██████████| 2/2 [00:05<00:00,  2.68s/it]\n",
            "process 12912: 100%|██████████| 2/2 [00:07<00:00,  3.57s/it]\n",
            "process 12900: 100%|██████████| 2/2 [00:07<00:00,  3.73s/it]\n"
          ]
        },
        {
          "output_type": "stream",
          "name": "stdout",
          "text": [
            "... finished ...\n",
            "query: Black-crowned Night Heron q_gt:B since:2020-01-01\n",
            "... retrieving metadata ...\n"
          ]
        },
        {
          "output_type": "stream",
          "name": "stderr",
          "text": [
            "process 13094: 100%|██████████| 21/21 [00:33<00:00,  1.59s/it]\n",
            "process 13091: 100%|██████████| 21/21 [00:35<00:00,  1.69s/it]\n",
            "process 13087: 100%|██████████| 21/21 [00:39<00:00,  1.90s/it]\n",
            "process 13060: 100%|██████████| 22/22 [00:45<00:00,  2.05s/it]\n",
            "process 13067: 100%|██████████| 22/22 [00:46<00:00,  2.14s/it]\n",
            "process 13083: 100%|██████████| 22/22 [00:47<00:00,  2.16s/it]\n",
            "process 13055: 100%|██████████| 22/22 [00:51<00:00,  2.34s/it]\n",
            "process 13070: 100%|██████████| 22/22 [00:52<00:00,  2.39s/it]\n",
            "process 13057: 100%|██████████| 22/22 [00:54<00:00,  2.49s/it]\n",
            "process 13079: 100%|██████████| 22/22 [01:02<00:00,  2.86s/it]\n"
          ]
        },
        {
          "output_type": "stream",
          "name": "stdout",
          "text": [
            "... finished ...\n",
            "query: Yellow-crowned Night Heron q_gt:B since:2020-01-01\n",
            "... retrieving metadata ...\n"
          ]
        },
        {
          "output_type": "stream",
          "name": "stderr",
          "text": [
            "process 13847: 100%|██████████| 1/1 [00:01<00:00,  1.12s/it]\n",
            "process 13850: 100%|██████████| 1/1 [00:01<00:00,  1.17s/it]\n",
            "process 13854: 100%|██████████| 1/1 [00:01<00:00,  1.34s/it]\n",
            "process 13860: 100%|██████████| 1/1 [00:01<00:00,  1.36s/it]\n",
            "process 13887: 100%|██████████| 1/1 [00:01<00:00,  1.32s/it]\n",
            "process 13848: 100%|██████████| 1/1 [00:01<00:00,  1.81s/it]\n",
            "process 13880: 100%|██████████| 1/1 [00:01<00:00,  1.66s/it]\n",
            "process 13866: 100%|██████████| 1/1 [00:01<00:00,  1.71s/it]\n",
            "process 13863: 100%|██████████| 1/1 [00:01<00:00,  1.78s/it]\n",
            "process 13870: 100%|██████████| 1/1 [00:01<00:00,  1.85s/it]\n"
          ]
        },
        {
          "output_type": "stream",
          "name": "stdout",
          "text": [
            "... finished ...\n",
            "query: Glossy Ibis q_gt:B since:2020-01-01\n",
            "... retrieving metadata ...\n"
          ]
        },
        {
          "output_type": "stream",
          "name": "stderr",
          "text": [
            "process 14003: 100%|██████████| 4/4 [00:05<00:00,  1.47s/it]\n",
            "process 14009: 100%|██████████| 4/4 [00:07<00:00,  1.78s/it]\n",
            "process 14007: 100%|██████████| 4/4 [00:07<00:00,  1.83s/it]\n",
            "process 13977: 100%|██████████| 4/4 [00:07<00:00,  1.88s/it]\n",
            "process 13991: 100%|██████████| 4/4 [00:07<00:00,  1.88s/it]\n",
            "process 13986: 100%|██████████| 4/4 [00:07<00:00,  1.80s/it]\n",
            "process 13975: 100%|██████████| 4/4 [00:08<00:00,  2.00s/it]\n",
            "process 13999: 100%|██████████| 4/4 [00:08<00:00,  2.03s/it]\n",
            "process 13984: 100%|██████████| 4/4 [00:09<00:00,  2.41s/it]\n",
            "process 13981: 100%|██████████| 4/4 [00:09<00:00,  2.44s/it]\n"
          ]
        },
        {
          "output_type": "stream",
          "name": "stdout",
          "text": [
            "... finished ...\n",
            "query: Fulvous Whistling Duck q_gt:B since:2020-01-01\n",
            "... retrieving metadata ...\n"
          ]
        },
        {
          "output_type": "stream",
          "name": "stderr",
          "text": [
            "process 14207: 100%|██████████| 1/1 [00:01<00:00,  1.36s/it]\n",
            "process 14204: 100%|██████████| 1/1 [00:01<00:00,  1.46s/it]\n",
            "process 14210: 100%|██████████| 1/1 [00:01<00:00,  1.64s/it]\n",
            "process 14197: 100%|██████████| 1/1 [00:01<00:00,  1.79s/it]\n",
            "process 14194: 100%|██████████| 1/1 [00:01<00:00,  1.86s/it]\n",
            "process 14216: 100%|██████████| 1/1 [00:01<00:00,  1.77s/it]\n",
            "process 14192: 100%|██████████| 1/1 [00:02<00:00,  2.66s/it]\n"
          ]
        },
        {
          "output_type": "stream",
          "name": "stdout",
          "text": [
            "... finished ...\n",
            "query: Tundra Swan q_gt:B since:2020-01-01\n",
            "... retrieving metadata ...\n"
          ]
        },
        {
          "output_type": "stream",
          "name": "stderr",
          "text": [
            "process 14290: 100%|██████████| 7/7 [00:12<00:00,  1.77s/it]\n",
            "process 14323: 100%|██████████| 7/7 [00:13<00:00,  1.90s/it]\n",
            "process 14319: 100%|██████████| 7/7 [00:14<00:00,  2.06s/it]\n",
            "process 14310: 100%|██████████| 7/7 [00:14<00:00,  2.12s/it]\n",
            "process 14301: 100%|██████████| 7/7 [00:16<00:00,  2.30s/it]\n",
            "process 14293: 100%|██████████| 7/7 [00:16<00:00,  2.31s/it]\n",
            "process 14296: 100%|██████████| 7/7 [00:16<00:00,  2.35s/it]\n",
            "process 14291: 100%|██████████| 7/7 [00:16<00:00,  2.37s/it]\n",
            "process 14312: 100%|██████████| 7/7 [00:17<00:00,  2.53s/it]\n",
            "process 14311: 100%|██████████| 7/7 [00:18<00:00,  2.69s/it]\n"
          ]
        },
        {
          "output_type": "stream",
          "name": "stdout",
          "text": [
            "... finished ...\n",
            "query: Mute Swan q_gt:B since:2020-01-01\n",
            "... retrieving metadata ...\n"
          ]
        },
        {
          "output_type": "stream",
          "name": "stderr",
          "text": [
            "process 14625: 100%|██████████| 4/4 [00:07<00:00,  1.79s/it]\n",
            "process 14634:  75%|███████▌  | 3/4 [00:07<00:02,  2.42s/it]\n",
            "process 14640: 100%|██████████| 4/4 [00:07<00:00,  1.87s/it]\n",
            "process 14621: 100%|██████████| 4/4 [00:07<00:00,  1.92s/it]\n",
            "process 14642: 100%|██████████| 4/4 [00:08<00:00,  2.02s/it]\n",
            "process 14613: 100%|██████████| 4/4 [00:08<00:00,  2.07s/it]\n",
            "process 14632: 100%|██████████| 4/4 [00:08<00:00,  2.19s/it]\n",
            "process 14634: 100%|██████████| 4/4 [00:09<00:00,  2.28s/it]\n",
            "process 14608: 100%|██████████| 5/5 [00:09<00:00,  1.90s/it]\n",
            "process 14610: 100%|██████████| 5/5 [00:22<00:00,  4.41s/it]\n"
          ]
        },
        {
          "output_type": "stream",
          "name": "stdout",
          "text": [
            "... finished ...\n",
            "query: Snow Goose q_gt:B since:2020-01-01\n",
            "... retrieving metadata ...\n"
          ]
        },
        {
          "output_type": "stream",
          "name": "stderr",
          "text": [
            "process 14886: 100%|██████████| 1/1 [00:01<00:00,  1.53s/it]\n",
            "process 14889: 100%|██████████| 1/1 [00:01<00:00,  1.79s/it]\n",
            "process 14897: 100%|██████████| 1/1 [00:01<00:00,  1.82s/it]\n",
            "process 14913: 100%|██████████| 1/1 [00:01<00:00,  1.87s/it]\n",
            "process 14901: 100%|██████████| 1/1 [00:01<00:00,  1.97s/it]\n",
            "process 14901: 100%|██████████| 1/1 [00:01<00:00,  1.98s/it]\n",
            "process 14907: 100%|██████████| 1/1 [00:02<00:00,  2.04s/it]\n",
            "process 14905: 100%|██████████| 1/1 [00:02<00:00,  2.16s/it]\n",
            "process 14884: 100%|██████████| 1/1 [00:02<00:00,  2.39s/it]\n",
            "process 14893: 100%|██████████| 1/1 [00:03<00:00,  3.30s/it]\n"
          ]
        },
        {
          "output_type": "stream",
          "name": "stdout",
          "text": [
            "... finished ...\n",
            "query: Brant q_gt:B since:2020-01-01\n",
            "... retrieving metadata ...\n"
          ]
        },
        {
          "output_type": "stream",
          "name": "stderr",
          "text": [
            "process 15086: 100%|██████████| 6/6 [00:11<00:00,  1.99s/it]\n",
            "process 15088: 100%|██████████| 6/6 [00:11<00:00,  1.99s/it]\n",
            "process 15082: 100%|██████████| 7/7 [00:12<00:00,  1.74s/it]\n",
            "process 15076: 100%|██████████| 7/7 [00:12<00:00,  1.84s/it]\n",
            "process 15072: 100%|██████████| 7/7 [00:13<00:00,  1.92s/it]\n",
            "process 15069: 100%|██████████| 7/7 [00:14<00:00,  2.13s/it]\n",
            "process 15054: 100%|██████████| 7/7 [00:16<00:00,  2.33s/it]\n",
            "process 15058: 100%|██████████| 7/7 [00:16<00:00,  2.33s/it]\n",
            "process 15066: 100%|██████████| 7/7 [00:20<00:00,  2.94s/it]\n",
            "process 15062: 100%|██████████| 7/7 [00:31<00:00,  4.48s/it]\n"
          ]
        },
        {
          "output_type": "stream",
          "name": "stdout",
          "text": [
            "... finished ...\n",
            "query: Canada Goose q_gt:B since:2020-01-01\n",
            "... retrieving metadata ...\n"
          ]
        },
        {
          "output_type": "stream",
          "name": "stderr",
          "text": [
            "process 15446: 100%|██████████| 5/5 [00:08<00:00,  1.72s/it]\n",
            "process 15440: 100%|██████████| 5/5 [00:09<00:00,  1.90s/it]\n",
            "process 15452: 100%|██████████| 5/5 [00:09<00:00,  1.91s/it]\n",
            "process 15454: 100%|██████████| 5/5 [00:09<00:00,  1.95s/it]\n",
            "process 15462: 100%|██████████| 5/5 [00:10<00:00,  2.04s/it]\n",
            "process 15444: 100%|██████████| 5/5 [00:10<00:00,  2.07s/it]\n",
            "process 15428: 100%|██████████| 5/5 [00:10<00:00,  2.17s/it]\n",
            "process 15434: 100%|██████████| 5/5 [00:11<00:00,  2.31s/it]\n",
            "process 15458: 100%|██████████| 5/5 [00:12<00:00,  2.49s/it]\n",
            "process 15430: 100%|██████████| 5/5 [00:12<00:00,  2.59s/it]\n"
          ]
        },
        {
          "output_type": "stream",
          "name": "stdout",
          "text": [
            "... finished ...\n",
            "query: Wood Duck q_gt:B since:2020-01-01\n",
            "... retrieving metadata ...\n"
          ]
        },
        {
          "output_type": "stream",
          "name": "stderr",
          "text": [
            "process 15692: 100%|██████████| 1/1 [00:01<00:00,  1.56s/it]\n",
            "process 15699: 100%|██████████| 1/1 [00:01<00:00,  1.71s/it]\n",
            "process 15685: 100%|██████████| 1/1 [00:02<00:00,  2.06s/it]\n",
            "process 15689: 100%|██████████| 1/1 [00:02<00:00,  2.30s/it]\n",
            "process 15678: 100%|██████████| 1/1 [00:02<00:00,  2.55s/it]\n",
            "process 15681: 100%|██████████| 1/1 [00:02<00:00,  2.61s/it]\n",
            "process 15676: 100%|██████████| 1/1 [00:02<00:00,  2.87s/it]\n",
            "process 15697: 100%|██████████| 1/1 [00:04<00:00,  4.55s/it]\n"
          ]
        },
        {
          "output_type": "stream",
          "name": "stdout",
          "text": [
            "... finished ...\n",
            "query: Green-winged Teal q_gt:B since:2020-01-01\n",
            "... retrieving metadata ...\n"
          ]
        },
        {
          "output_type": "stream",
          "name": "stderr",
          "text": [
            "process 15794: 100%|██████████| 1/1 [00:08<00:00,  8.78s/it]\n"
          ]
        },
        {
          "output_type": "stream",
          "name": "stdout",
          "text": [
            "... finished ...\n",
            "query: American Black Duck q_gt:B since:2020-01-01\n",
            "... retrieving metadata ...\n"
          ]
        },
        {
          "output_type": "stream",
          "name": "stderr",
          "text": [
            "process 15856: 100%|██████████| 1/1 [00:01<00:00,  1.98s/it]\n",
            "process 15861: 100%|██████████| 1/1 [00:02<00:00,  2.12s/it]\n",
            "process 15858: 100%|██████████| 1/1 [00:02<00:00,  2.41s/it]\n"
          ]
        },
        {
          "output_type": "stream",
          "name": "stdout",
          "text": [
            "... finished ...\n",
            "query: Mallard q_gt:B since:2020-01-01\n",
            "... retrieving metadata ...\n"
          ]
        },
        {
          "output_type": "stream",
          "name": "stderr",
          "text": [
            "process 15944: 100%|██████████| 10/10 [00:15<00:00,  1.52s/it]\n",
            "process 15966: 100%|██████████| 10/10 [00:16<00:00,  1.61s/it]\n",
            "process 15935: 100%|██████████| 10/10 [00:17<00:00,  1.71s/it]\n",
            "process 15948: 100%|██████████| 10/10 [00:17<00:00,  1.71s/it]\n",
            "process 15951: 100%|██████████| 10/10 [00:17<00:00,  1.74s/it]\n",
            "process 15941: 100%|██████████| 10/10 [00:17<00:00,  1.77s/it]\n",
            "process 15932: 100%|██████████| 11/11 [00:18<00:00,  1.65s/it]\n",
            "process 15962: 100%|██████████| 10/10 [00:18<00:00,  1.82s/it]\n",
            "process 15953: 100%|██████████| 10/10 [00:22<00:00,  2.30s/it]\n",
            "process 15930: 100%|██████████| 11/11 [00:23<00:00,  2.12s/it]\n"
          ]
        },
        {
          "output_type": "stream",
          "name": "stdout",
          "text": [
            "... finished ...\n",
            "query: Northern Pintail q_gt:B since:2020-01-01\n",
            "... retrieving metadata ...\n"
          ]
        },
        {
          "output_type": "stream",
          "name": "stderr",
          "text": [
            "process 16359: 100%|██████████| 2/2 [00:03<00:00,  1.66s/it]\n",
            "process 16353: 100%|██████████| 2/2 [00:03<00:00,  1.75s/it]\n",
            "process 16343: 100%|██████████| 2/2 [00:03<00:00,  1.84s/it]\n",
            "process 16347: 100%|██████████| 2/2 [00:04<00:00,  2.02s/it]\n",
            "process 16348: 100%|██████████| 2/2 [00:04<00:00,  2.04s/it]\n",
            "process 16323: 100%|██████████| 3/3 [00:04<00:00,  1.54s/it]\n",
            "process 16328: 100%|██████████| 3/3 [00:05<00:00,  1.91s/it]\n",
            "process 16338: 100%|██████████| 3/3 [00:05<00:00,  1.93s/it]\n",
            "process 16325: 100%|██████████| 3/3 [00:07<00:00,  2.35s/it]\n",
            "process 16333: 100%|██████████| 3/3 [00:11<00:00,  3.72s/it]\n"
          ]
        },
        {
          "output_type": "stream",
          "name": "stdout",
          "text": [
            "... finished ...\n",
            "query: Blue-winged Teal q_gt:B since:2020-01-01\n",
            "... retrieving metadata ...\n"
          ]
        },
        {
          "output_type": "stream",
          "name": "stderr",
          "text": [
            "process 16524: 100%|██████████| 1/1 [00:01<00:00,  1.75s/it]\n",
            "process 16520: 100%|██████████| 1/1 [00:02<00:00,  2.40s/it]\n"
          ]
        },
        {
          "output_type": "stream",
          "name": "stdout",
          "text": [
            "... finished ...\n",
            "query: Northern Shoveler q_gt:B since:2020-01-01\n",
            "... retrieving metadata ...\n"
          ]
        },
        {
          "output_type": "stream",
          "name": "stderr",
          "text": [
            "process 16581: 100%|██████████| 1/1 [00:01<00:00,  1.37s/it]\n",
            "process 16593: 100%|██████████| 1/1 [00:01<00:00,  1.31s/it]\n",
            "\n",
            "process 16601: 100%|██████████| 1/1 [00:01<00:00,  1.33s/it]\n",
            "process 16596: 100%|██████████| 1/1 [00:01<00:00,  1.39s/it]\n",
            "process 16585: 100%|██████████| 1/1 [00:01<00:00,  1.80s/it]\n",
            "process 16568: 100%|██████████| 2/2 [00:04<00:00,  2.06s/it]\n",
            "process 16569: 100%|██████████| 2/2 [00:04<00:00,  2.35s/it]\n",
            "process 16575: 100%|██████████| 2/2 [00:05<00:00,  2.75s/it]\n",
            "process 16571: 100%|██████████| 2/2 [00:06<00:00,  3.34s/it]\n"
          ]
        },
        {
          "output_type": "stream",
          "name": "stdout",
          "text": [
            "... finished ...\n",
            "query: Gadwall q_gt:B since:2020-01-01\n",
            "... retrieving metadata ...\n"
          ]
        },
        {
          "output_type": "stream",
          "name": "stderr",
          "text": [
            "process 16765: 100%|██████████| 11/11 [00:19<00:00,  1.79s/it]\n",
            "process 16767: 100%|██████████| 11/11 [00:20<00:00,  1.86s/it]\n",
            "process 16746: 100%|██████████| 11/11 [00:21<00:00,  1.93s/it]\n",
            "process 16751: 100%|██████████| 11/11 [00:21<00:00,  1.96s/it]\n",
            "process 16762: 100%|██████████| 11/11 [00:22<00:00,  2.06s/it]\n",
            "process 16771: 100%|██████████| 11/11 [00:23<00:00,  2.09s/it]\n",
            "process 16749: 100%|██████████| 11/11 [00:23<00:00,  2.17s/it]\n",
            "process 16736: 100%|██████████| 11/11 [00:26<00:00,  2.45s/it]\n",
            "process 16740: 100%|██████████| 11/11 [00:29<00:00,  2.66s/it]\n",
            "process 16744: 100%|██████████| 11/11 [00:29<00:00,  2.66s/it]\n"
          ]
        },
        {
          "output_type": "stream",
          "name": "stdout",
          "text": [
            "... finished ...\n",
            "query: Eurasian Wigeon q_gt:B since:2020-01-01\n",
            "... retrieving metadata ...\n"
          ]
        },
        {
          "output_type": "stream",
          "name": "stderr",
          "text": [
            "process 17190: 100%|██████████| 26/26 [00:45<00:00,  1.75s/it]\n",
            "process 17214: 100%|██████████| 25/25 [00:45<00:00,  1.81s/it]\n",
            "process 17198: 100%|██████████| 26/26 [00:45<00:00,  1.76s/it]\n",
            "process 17201: 100%|██████████| 26/26 [00:48<00:00,  1.88s/it]\n",
            "process 17212: 100%|██████████| 25/25 [00:49<00:00,  1.97s/it]\n",
            "process 17206: 100%|██████████| 26/26 [00:49<00:00,  1.90s/it]\n",
            "process 17194: 100%|██████████| 26/26 [00:51<00:00,  1.97s/it]\n",
            "process 17180: 100%|██████████| 26/26 [00:53<00:00,  2.07s/it]\n",
            "process 17188: 100%|██████████| 26/26 [00:55<00:00,  2.14s/it]\n",
            "process 17182: 100%|██████████| 26/26 [01:13<00:00,  2.82s/it]\n"
          ]
        },
        {
          "output_type": "stream",
          "name": "stdout",
          "text": [
            "... finished ...\n",
            "query: American Wigeon q_gt:B since:2020-01-01\n",
            "... retrieving metadata ...\n"
          ]
        },
        {
          "output_type": "stream",
          "name": "stderr",
          "text": [
            "process 18094: 100%|██████████| 1/1 [00:01<00:00,  1.21s/it]\n",
            "process 18098: 100%|██████████| 1/1 [00:01<00:00,  1.55s/it]\n",
            "process 18106: 100%|██████████| 1/1 [00:01<00:00,  1.77s/it]\n",
            "process 18089: 100%|██████████| 1/1 [00:02<00:00,  2.42s/it]\n",
            "process 18090: 100%|██████████| 1/1 [00:02<00:00,  2.69s/it]\n"
          ]
        },
        {
          "output_type": "stream",
          "name": "stdout",
          "text": [
            "... finished ...\n",
            "query: Canvasback q_gt:B since:2020-01-01\n",
            "... retrieving metadata ...\n",
            "An unexpected error occurred for bird 'Canvasback': integer division or modulo by zero\n",
            "query: Redhead q_gt:B since:2020-01-01\n",
            "... retrieving metadata ...\n"
          ]
        },
        {
          "output_type": "stream",
          "name": "stderr",
          "text": [
            "process 18219: 100%|██████████| 1/1 [00:02<00:00,  2.09s/it]\n"
          ]
        },
        {
          "output_type": "stream",
          "name": "stdout",
          "text": [
            "... finished ...\n",
            "query: Ring-necked Duck q_gt:B since:2020-01-01\n",
            "... retrieving metadata ...\n"
          ]
        },
        {
          "output_type": "stream",
          "name": "stderr",
          "text": [
            "process 18253: 100%|██████████| 1/1 [00:01<00:00,  1.98s/it]\n",
            "process 18265: 100%|██████████| 1/1 [00:02<00:00,  2.01s/it]\n",
            "\n",
            "process 18255: 100%|██████████| 1/1 [00:02<00:00,  2.28s/it]\n",
            "process 18258: 100%|██████████| 1/1 [00:04<00:00,  4.91s/it]\n"
          ]
        },
        {
          "output_type": "stream",
          "name": "stdout",
          "text": [
            "... finished ...\n",
            "query: Greater Scaup q_gt:B since:2020-01-01\n",
            "... retrieving metadata ...\n"
          ]
        },
        {
          "output_type": "stream",
          "name": "stderr",
          "text": [
            "process 18339: 100%|██████████| 1/1 [00:02<00:00,  2.24s/it]\n"
          ]
        },
        {
          "output_type": "stream",
          "name": "stdout",
          "text": [
            "... finished ...\n",
            "query: Lesser Scaup q_gt:B since:2020-01-01\n",
            "... retrieving metadata ...\n"
          ]
        },
        {
          "output_type": "stream",
          "name": "stderr",
          "text": [
            "process 18381: 100%|██████████| 1/1 [00:03<00:00,  3.11s/it]\n",
            "process 18385: 100%|██████████| 1/1 [00:03<00:00,  3.89s/it]\n"
          ]
        },
        {
          "output_type": "stream",
          "name": "stdout",
          "text": [
            "... finished ...\n",
            "query: Common Eider q_gt:B since:2020-01-01\n",
            "... retrieving metadata ...\n"
          ]
        },
        {
          "output_type": "stream",
          "name": "stderr",
          "text": [
            "process 18469: 100%|██████████| 1/1 [00:02<00:00,  2.15s/it]\n",
            "process 18468: 100%|██████████| 1/1 [00:02<00:00,  2.34s/it]\n",
            "process 18464: 100%|██████████| 1/1 [00:02<00:00,  2.51s/it]\n",
            "process 18445: 100%|██████████| 2/2 [00:03<00:00,  1.67s/it]\n",
            "process 18441: 100%|██████████| 2/2 [00:03<00:00,  1.88s/it]\n",
            "process 18456: 100%|██████████| 2/2 [00:03<00:00,  1.86s/it]\n",
            "process 18439: 100%|██████████| 2/2 [00:04<00:00,  2.10s/it]\n",
            "process 18458: 100%|██████████| 2/2 [00:04<00:00,  2.07s/it]\n",
            "process 18451: 100%|██████████| 2/2 [00:06<00:00,  3.46s/it]\n",
            "process 18454: 100%|██████████| 2/2 [00:07<00:00,  3.81s/it]\n"
          ]
        },
        {
          "output_type": "stream",
          "name": "stdout",
          "text": [
            "... finished ...\n",
            "query: King Eider q_gt:B since:2020-01-01\n",
            "... retrieving metadata ...\n"
          ]
        },
        {
          "output_type": "stream",
          "name": "stderr",
          "text": [
            "process 18601: 100%|██████████| 1/1 [00:01<00:00,  1.74s/it]\n"
          ]
        },
        {
          "output_type": "stream",
          "name": "stdout",
          "text": [
            "... finished ...\n",
            "query: Harlequin Duck q_gt:B since:2020-01-01\n",
            "... retrieving metadata ...\n"
          ]
        },
        {
          "output_type": "stream",
          "name": "stderr",
          "text": [
            "process 18635: 100%|██████████| 1/1 [00:01<00:00,  1.95s/it]\n"
          ]
        },
        {
          "output_type": "stream",
          "name": "stdout",
          "text": [
            "... finished ...\n",
            "query: Oldsquaw q_gt:B since:2020-01-01\n",
            "... retrieving metadata ...\n",
            "An unexpected error occurred for bird 'Oldsquaw': integer division or modulo by zero\n",
            "query: Black Scoter q_gt:B since:2020-01-01\n",
            "... retrieving metadata ...\n",
            "An unexpected error occurred for bird 'Black Scoter': integer division or modulo by zero\n",
            "query: Surf Scoter q_gt:B since:2020-01-01\n",
            "... retrieving metadata ...\n",
            "An unexpected error occurred for bird 'Surf Scoter': integer division or modulo by zero\n",
            "query: White-winged Scoter q_gt:B since:2020-01-01\n",
            "... retrieving metadata ...\n",
            "An unexpected error occurred for bird 'White-winged Scoter': integer division or modulo by zero\n",
            "query: Common Goldeneye q_gt:B since:2020-01-01\n",
            "... retrieving metadata ...\n"
          ]
        },
        {
          "output_type": "stream",
          "name": "stderr",
          "text": [
            "process 18809: 100%|██████████| 7/7 [00:14<00:00,  2.03s/it]\n",
            "process 18791: 100%|██████████| 7/7 [00:14<00:00,  2.09s/it]\n",
            "process 18795: 100%|██████████| 7/7 [00:14<00:00,  2.11s/it]\n",
            "process 18787: 100%|██████████| 7/7 [00:14<00:00,  2.14s/it]\n",
            "process 18773: 100%|██████████| 8/8 [00:15<00:00,  1.96s/it]\n",
            "process 18801: 100%|██████████| 7/7 [00:15<00:00,  2.21s/it]\n",
            "process 18802: 100%|██████████| 7/7 [00:15<00:00,  2.22s/it]\n",
            "process 18784: 100%|██████████| 7/7 [00:15<00:00,  2.27s/it]\n",
            "process 18781: 100%|██████████| 7/7 [00:16<00:00,  2.34s/it]\n",
            "process 18777: 100%|██████████| 8/8 [00:19<00:00,  2.48s/it]\n"
          ]
        },
        {
          "output_type": "stream",
          "name": "stdout",
          "text": [
            "... finished ...\n",
            "query: Bufflehead q_gt:B since:2020-01-01\n",
            "... retrieving metadata ...\n"
          ]
        },
        {
          "output_type": "stream",
          "name": "stderr",
          "text": [
            "process 19111: 100%|██████████| 1/1 [00:01<00:00,  1.56s/it]\n",
            "process 19109: 100%|██████████| 1/1 [00:02<00:00,  2.21s/it]\n"
          ]
        },
        {
          "output_type": "stream",
          "name": "stdout",
          "text": [
            "... finished ...\n",
            "query: Hooded Merganser q_gt:B since:2020-01-01\n",
            "... retrieving metadata ...\n",
            "An unexpected error occurred for bird 'Hooded Merganser': integer division or modulo by zero\n",
            "query: Common Merganser q_gt:B since:2020-01-01\n",
            "... retrieving metadata ...\n"
          ]
        },
        {
          "output_type": "stream",
          "name": "stderr",
          "text": [
            "process 19205: 100%|██████████| 2/2 [00:03<00:00,  1.68s/it]\n",
            "process 19207: 100%|██████████| 2/2 [00:03<00:00,  1.97s/it]\n",
            "process 19197: 100%|██████████| 3/3 [00:04<00:00,  1.51s/it]\n",
            "process 19186: 100%|██████████| 3/3 [00:05<00:00,  1.83s/it]\n",
            "process 19179: 100%|██████████| 3/3 [00:06<00:00,  2.05s/it]\n",
            "process 19189: 100%|██████████| 3/3 [00:06<00:00,  2.21s/it]\n",
            "process 19201: 100%|██████████| 3/3 [00:06<00:00,  2.30s/it]\n",
            "process 19175: 100%|██████████| 3/3 [00:07<00:00,  2.36s/it]\n",
            "process 19173: 100%|██████████| 3/3 [00:08<00:00,  2.84s/it]\n",
            "process 19182: 100%|██████████| 3/3 [00:09<00:00,  3.17s/it]\n"
          ]
        },
        {
          "output_type": "stream",
          "name": "stdout",
          "text": [
            "... finished ...\n",
            "query: Red-breasted Merganser q_gt:B since:2020-01-01\n",
            "... retrieving metadata ...\n"
          ]
        },
        {
          "output_type": "stream",
          "name": "stderr",
          "text": [
            "process 19399: 100%|██████████| 1/1 [00:02<00:00,  2.06s/it]\n",
            "process 19394: 100%|██████████| 1/1 [00:02<00:00,  2.92s/it]\n",
            "process 19391:  50%|█████     | 1/2 [00:02<00:02,  2.96s/it]\n",
            "process 19386: 100%|██████████| 2/2 [00:03<00:00,  1.95s/it]\n",
            "process 19374: 100%|██████████| 2/2 [00:04<00:00,  2.10s/it]\n",
            "process 19378: 100%|██████████| 2/2 [00:04<00:00,  2.13s/it]\n",
            "process 19382: 100%|██████████| 2/2 [00:04<00:00,  2.10s/it]\n",
            "process 19371: 100%|██████████| 2/2 [00:04<00:00,  2.17s/it]\n",
            "process 19365: 100%|██████████| 2/2 [00:04<00:00,  2.26s/it]\n",
            "process 19391: 100%|██████████| 2/2 [00:04<00:00,  2.36s/it]\n"
          ]
        },
        {
          "output_type": "stream",
          "name": "stdout",
          "text": [
            "... finished ...\n",
            "query: Ruddy Duck q_gt:B since:2020-01-01\n",
            "... retrieving metadata ...\n"
          ]
        },
        {
          "output_type": "stream",
          "name": "stderr",
          "text": [
            "process 19525: 100%|██████████| 1/1 [00:01<00:00,  1.33s/it]\n",
            "process 19521: 100%|██████████| 1/1 [00:01<00:00,  1.56s/it]\n",
            "process 19536: 100%|██████████| 1/1 [00:02<00:00,  2.08s/it]\n",
            "process 19519: 100%|██████████| 1/1 [00:02<00:00,  2.21s/it]\n",
            "process 19540: 100%|██████████| 1/1 [00:02<00:00,  2.12s/it]\n",
            "process 19548: 100%|██████████| 1/1 [00:02<00:00,  2.13s/it]\n",
            "process 19535: 100%|██████████| 1/1 [00:02<00:00,  2.36s/it]\n",
            "process 19531: 100%|██████████| 1/1 [00:02<00:00,  2.43s/it]\n",
            "process 19544: 100%|██████████| 1/1 [00:02<00:00,  2.68s/it]\n"
          ]
        },
        {
          "output_type": "stream",
          "name": "stdout",
          "text": [
            "... finished ...\n",
            "query: Black Vulture q_gt:B since:2020-01-01\n",
            "... retrieving metadata ...\n"
          ]
        },
        {
          "output_type": "stream",
          "name": "stderr",
          "text": [
            "process 19661: 100%|██████████| 1/1 [00:01<00:00,  1.45s/it]\n",
            "process 19647: 100%|██████████| 1/1 [00:01<00:00,  1.74s/it]\n",
            "process 19648: 100%|██████████| 1/1 [00:01<00:00,  1.72s/it]\n",
            "process 19659: 100%|██████████| 1/1 [00:01<00:00,  1.66s/it]\n",
            "process 19676: 100%|██████████| 1/1 [00:01<00:00,  1.69s/it]\n",
            "process 19665: 100%|██████████| 1/1 [00:01<00:00,  1.87s/it]\n",
            "process 19671: 100%|██████████| 1/1 [00:01<00:00,  1.93s/it]\n",
            "process 19675: 100%|██████████| 1/1 [00:01<00:00,  1.93s/it]\n",
            "process 19655: 100%|██████████| 1/1 [00:02<00:00,  2.19s/it]\n"
          ]
        },
        {
          "output_type": "stream",
          "name": "stdout",
          "text": [
            "... finished ...\n",
            "query: Turkey Vulture q_gt:B since:2020-01-01\n",
            "... retrieving metadata ...\n"
          ]
        },
        {
          "output_type": "stream",
          "name": "stderr",
          "text": [
            "process 19781: 100%|██████████| 1/1 [00:02<00:00,  2.35s/it]\n"
          ]
        },
        {
          "output_type": "stream",
          "name": "stdout",
          "text": [
            "... finished ...\n",
            "query: Osprey q_gt:B since:2020-01-01\n",
            "... retrieving metadata ...\n"
          ]
        },
        {
          "output_type": "stream",
          "name": "stderr",
          "text": [
            "process 20008: 100%|██████████| 8/8 [00:13<00:00,  1.67s/it]\n",
            "process 20004: 100%|██████████| 8/8 [00:16<00:00,  2.01s/it]\n",
            "process 20011: 100%|██████████| 8/8 [00:16<00:00,  2.04s/it]\n",
            "process 19990: 100%|██████████| 8/8 [00:17<00:00,  2.13s/it]\n",
            "process 19994: 100%|██████████| 8/8 [00:17<00:00,  2.24s/it]\n",
            "process 19997: 100%|██████████| 8/8 [00:18<00:00,  2.25s/it]\n",
            "process 19984: 100%|██████████| 9/9 [00:19<00:00,  2.20s/it]\n",
            "process 19976: 100%|██████████| 9/9 [00:20<00:00,  2.30s/it]\n",
            "process 19987: 100%|██████████| 9/9 [00:26<00:00,  2.98s/it]\n",
            "process 19978: 100%|██████████| 9/9 [00:28<00:00,  3.17s/it]\n"
          ]
        },
        {
          "output_type": "stream",
          "name": "stdout",
          "text": [
            "... finished ...\n",
            "query: Amer. Swallowtail Kite q_gt:B since:2020-01-01\n",
            "... retrieving metadata ...\n",
            "An unexpected error occurred for bird 'Amer. Swallowtail Kite': integer division or modulo by zero\n",
            "query: Mississippi Kite q_gt:B since:2020-01-01\n",
            "... retrieving metadata ...\n"
          ]
        },
        {
          "output_type": "stream",
          "name": "stderr",
          "text": [
            "process 20558: 100%|██████████| 1/1 [00:07<00:00,  7.15s/it]\n",
            "process 20552: 100%|██████████| 1/1 [00:07<00:00,  7.62s/it]\n",
            "process 20564: 100%|██████████| 1/1 [00:07<00:00,  7.78s/it]\n",
            "process 20554: 100%|██████████| 1/1 [00:07<00:00,  7.93s/it]\n"
          ]
        },
        {
          "output_type": "stream",
          "name": "stdout",
          "text": [
            "... finished ...\n",
            "query: Bald Eagle q_gt:B since:2020-01-01\n",
            "... retrieving metadata ...\n"
          ]
        },
        {
          "output_type": "stream",
          "name": "stderr",
          "text": [
            "process 20753: 100%|██████████| 1/1 [00:09<00:00,  9.55s/it]\n",
            "process 20761: 100%|██████████| 1/1 [00:09<00:00,  9.95s/it]\n",
            "process 20757: 100%|██████████| 1/1 [00:10<00:00, 10.01s/it]\n",
            "\n",
            "process 20765: 100%|██████████| 1/1 [00:10<00:00, 10.59s/it]\n",
            "process 20738: 100%|██████████| 2/2 [00:20<00:00, 10.40s/it]\n",
            "process 20733: 100%|██████████| 2/2 [00:20<00:00, 10.49s/it]\n",
            "process 20744: 100%|██████████| 2/2 [00:21<00:00, 10.51s/it]\n",
            "process 20728: 100%|██████████| 2/2 [00:21<00:00, 10.70s/it]\n",
            "process 20730: 100%|██████████| 2/2 [00:21<00:00, 10.69s/it]\n"
          ]
        },
        {
          "output_type": "stream",
          "name": "stdout",
          "text": [
            "... finished ...\n",
            "query: Northern Harrier q_gt:B since:2020-01-01\n",
            "... retrieving metadata ...\n"
          ]
        },
        {
          "output_type": "stream",
          "name": "stderr",
          "text": [
            "process 21018: 100%|██████████| 1/1 [00:06<00:00,  6.01s/it]\n",
            "process 21016: 100%|██████████| 1/1 [00:06<00:00,  6.41s/it]\n"
          ]
        },
        {
          "output_type": "stream",
          "name": "stdout",
          "text": [
            "... finished ...\n",
            "query: Sharp-shinned Hawk q_gt:B since:2020-01-01\n",
            "... retrieving metadata ...\n"
          ]
        },
        {
          "output_type": "stream",
          "name": "stderr",
          "text": [
            "process 21136: 100%|██████████| 1/1 [00:05<00:00,  5.15s/it]\n",
            "process 21139: 100%|██████████| 1/1 [00:05<00:00,  5.60s/it]\n",
            "process 21147: 100%|██████████| 1/1 [00:05<00:00,  5.61s/it]\n",
            "process 21146: 100%|██████████| 1/1 [00:06<00:00,  6.17s/it]\n",
            "process 21134: 100%|██████████| 1/1 [00:07<00:00,  7.26s/it]\n"
          ]
        },
        {
          "output_type": "stream",
          "name": "stdout",
          "text": [
            "... finished ...\n",
            "query: Coopers Hawk q_gt:B since:2020-01-01\n",
            "... retrieving metadata ...\n",
            "Error processing bird 'Coopers Hawk': 'ascii' codec can't encode character '\\x92' in position 34: ordinal not in range(128)\n",
            "query: Northern Goshawk q_gt:B since:2020-01-01\n",
            "... retrieving metadata ...\n"
          ]
        },
        {
          "output_type": "stream",
          "name": "stderr",
          "text": [
            "process 21321: 100%|██████████| 5/5 [00:12<00:00,  2.55s/it]\n",
            "process 21311: 100%|██████████| 5/5 [00:12<00:00,  2.58s/it]\n",
            "process 21322: 100%|██████████| 5/5 [00:13<00:00,  2.64s/it]\n",
            "process 21317: 100%|██████████| 5/5 [00:13<00:00,  2.73s/it]\n",
            "process 21300: 100%|██████████| 5/5 [00:14<00:00,  2.82s/it]\n",
            "process 21307: 100%|██████████| 5/5 [00:14<00:00,  2.82s/it]\n",
            "process 21297: 100%|██████████| 5/5 [00:14<00:00,  2.93s/it]\n",
            "process 21305: 100%|██████████| 5/5 [00:17<00:00,  3.47s/it]\n",
            "process 21292: 100%|██████████| 6/6 [00:17<00:00,  2.92s/it]\n",
            "process 21294: 100%|██████████| 6/6 [00:21<00:00,  3.55s/it]\n"
          ]
        },
        {
          "output_type": "stream",
          "name": "stdout",
          "text": [
            "... finished ...\n",
            "query: Red-shouldered Hawk q_gt:B since:2020-01-01\n",
            "... retrieving metadata ...\n"
          ]
        },
        {
          "output_type": "stream",
          "name": "stderr",
          "text": [
            "process 21627: 100%|██████████| 2/2 [00:02<00:00,  1.45s/it]\n",
            "process 21631: 100%|██████████| 2/2 [00:03<00:00,  1.54s/it]\n",
            "process 21617: 100%|██████████| 3/3 [00:07<00:00,  2.35s/it]\n",
            "process 21635: 100%|██████████| 2/2 [00:07<00:00,  3.81s/it]\n",
            "process 21616: 100%|██████████| 3/3 [00:08<00:00,  2.85s/it]\n",
            "process 21622: 100%|██████████| 3/3 [00:08<00:00,  3.00s/it]\n",
            "process 21608: 100%|██████████| 3/3 [00:09<00:00,  3.31s/it]\n",
            "process 21604: 100%|██████████| 3/3 [00:10<00:00,  3.44s/it]\n",
            "process 21625: 100%|██████████| 3/3 [00:10<00:00,  3.41s/it]\n",
            "process 21609: 100%|██████████| 3/3 [00:10<00:00,  3.59s/it]\n"
          ]
        },
        {
          "output_type": "stream",
          "name": "stdout",
          "text": [
            "... finished ...\n",
            "query: Broad-winged hawk q_gt:B since:2020-01-01\n",
            "... retrieving metadata ...\n"
          ]
        },
        {
          "output_type": "stream",
          "name": "stderr",
          "text": [
            "process 21835: 100%|██████████| 2/2 [00:03<00:00,  1.58s/it]\n",
            "process 21841: 100%|██████████| 2/2 [00:04<00:00,  2.09s/it]\n",
            "process 21851: 100%|██████████| 2/2 [00:04<00:00,  2.19s/it]\n",
            "process 21856: 100%|██████████| 2/2 [00:04<00:00,  2.39s/it]\n",
            "process 21838: 100%|██████████| 2/2 [00:04<00:00,  2.45s/it]\n",
            "process 21847: 100%|██████████| 2/2 [00:05<00:00,  2.59s/it]\n",
            "process 21852: 100%|██████████| 2/2 [00:06<00:00,  3.18s/it]\n",
            "process 21829: 100%|██████████| 3/3 [00:06<00:00,  2.27s/it]\n",
            "process 21823: 100%|██████████| 3/3 [00:09<00:00,  3.07s/it]\n",
            "process 21825: 100%|██████████| 3/3 [00:10<00:00,  3.43s/it]\n"
          ]
        },
        {
          "output_type": "stream",
          "name": "stdout",
          "text": [
            "... finished ...\n",
            "query: Red-tailed Hawk q_gt:B since:2020-01-01\n",
            "... retrieving metadata ...\n"
          ]
        },
        {
          "output_type": "stream",
          "name": "stderr",
          "text": [
            "process 22030: 100%|██████████| 2/2 [00:03<00:00,  1.59s/it]\n",
            "process 22046: 100%|██████████| 2/2 [00:03<00:00,  1.69s/it]\n",
            "process 22059: 100%|██████████| 2/2 [00:03<00:00,  1.73s/it]\n",
            "process 22043: 100%|██████████| 2/2 [00:03<00:00,  1.79s/it]\n",
            "process 22050: 100%|██████████| 2/2 [00:03<00:00,  1.89s/it]\n",
            "process 22054: 100%|██████████| 2/2 [00:03<00:00,  1.99s/it]\n",
            "process 22040: 100%|██████████| 2/2 [00:04<00:00,  2.09s/it]\n",
            "process 22034: 100%|██████████| 2/2 [00:04<00:00,  2.39s/it]\n",
            "process 22027: 100%|██████████| 2/2 [00:05<00:00,  2.72s/it]\n",
            "process 22025: 100%|██████████| 3/3 [00:07<00:00,  2.42s/it]\n"
          ]
        },
        {
          "output_type": "stream",
          "name": "stdout",
          "text": [
            "... finished ...\n",
            "query: Rough-legged Hawk q_gt:B since:2020-01-01\n",
            "... retrieving metadata ...\n",
            "An unexpected error occurred for bird 'Rough-legged Hawk': integer division or modulo by zero\n",
            "query: Golden Eagle q_gt:B since:2020-01-01\n",
            "... retrieving metadata ...\n"
          ]
        },
        {
          "output_type": "stream",
          "name": "stderr",
          "text": [
            "process 22250: 100%|██████████| 4/4 [00:05<00:00,  1.28s/it]\n",
            "process 22242: 100%|██████████| 4/4 [00:05<00:00,  1.38s/it]\n",
            "process 22244: 100%|██████████| 4/4 [00:05<00:00,  1.37s/it]\n",
            "process 22237: 100%|██████████| 5/5 [00:07<00:00,  1.42s/it]\n",
            "process 22259: 100%|██████████| 4/4 [00:07<00:00,  1.79s/it]\n",
            "process 22239: 100%|██████████| 5/5 [00:07<00:00,  1.49s/it]\n",
            "process 22255: 100%|██████████| 4/4 [00:08<00:00,  2.02s/it]\n",
            "process 22263: 100%|██████████| 4/4 [00:08<00:00,  2.04s/it]\n",
            "process 22231: 100%|██████████| 5/5 [00:09<00:00,  1.96s/it]\n",
            "process 22229: 100%|██████████| 5/5 [00:11<00:00,  2.20s/it]\n"
          ]
        },
        {
          "output_type": "stream",
          "name": "stdout",
          "text": [
            "... finished ...\n",
            "query: American Kestrel q_gt:B since:2020-01-01\n",
            "... retrieving metadata ...\n"
          ]
        },
        {
          "output_type": "stream",
          "name": "stderr",
          "text": [
            "process 22482: 100%|██████████| 2/2 [00:03<00:00,  1.68s/it]\n",
            "process 22468: 100%|██████████| 2/2 [00:03<00:00,  1.85s/it]\n",
            "process 22486: 100%|██████████| 2/2 [00:03<00:00,  1.86s/it]\n",
            "process 22492: 100%|██████████| 2/2 [00:03<00:00,  1.85s/it]\n",
            "process 22476: 100%|██████████| 2/2 [00:03<00:00,  1.97s/it]\n",
            "process 22488: 100%|██████████| 2/2 [00:03<00:00,  1.95s/it]\n",
            "process 22472: 100%|██████████| 2/2 [00:04<00:00,  2.10s/it]\n",
            "process 22500: 100%|██████████| 2/2 [00:04<00:00,  2.13s/it]\n",
            "process 22462: 100%|██████████| 3/3 [00:06<00:00,  2.24s/it]\n",
            "process 22464: 100%|██████████| 3/3 [00:07<00:00,  2.49s/it]\n"
          ]
        },
        {
          "output_type": "stream",
          "name": "stdout",
          "text": [
            "... finished ...\n",
            "query: Merlin q_gt:B since:2020-01-01\n",
            "... retrieving metadata ...\n"
          ]
        },
        {
          "output_type": "stream",
          "name": "stderr",
          "text": [
            "process 22659: 100%|██████████| 4/4 [00:06<00:00,  1.60s/it]\n",
            "process 22691: 100%|██████████| 4/4 [00:06<00:00,  1.68s/it]\n",
            "process 22674: 100%|██████████| 4/4 [00:07<00:00,  1.79s/it]\n",
            "process 22695: 100%|██████████| 4/4 [00:07<00:00,  1.92s/it]\n",
            "process 22676: 100%|██████████| 4/4 [00:08<00:00,  2.01s/it]\n",
            "process 22669: 100%|██████████| 4/4 [00:08<00:00,  2.09s/it]\n",
            "process 22665: 100%|██████████| 4/4 [00:09<00:00,  2.27s/it]\n",
            "process 22684: 100%|██████████| 4/4 [00:09<00:00,  2.48s/it]\n",
            "process 22658: 100%|██████████| 5/5 [00:10<00:00,  2.12s/it]\n",
            "process 22661: 100%|██████████| 4/4 [00:13<00:00,  3.26s/it]\n"
          ]
        },
        {
          "output_type": "stream",
          "name": "stdout",
          "text": [
            "... finished ...\n",
            "query: Peregrine Falcon q_gt:B since:2020-01-01\n",
            "... retrieving metadata ...\n"
          ]
        },
        {
          "output_type": "stream",
          "name": "stderr",
          "text": [
            "process 22924: 100%|██████████| 10/10 [00:19<00:00,  1.97s/it]\n",
            "process 22914: 100%|██████████| 10/10 [00:20<00:00,  2.06s/it]\n",
            "process 22905: 100%|██████████| 10/10 [00:21<00:00,  2.14s/it]\n",
            "process 22912: 100%|██████████| 10/10 [00:21<00:00,  2.14s/it]\n",
            "process 22925: 100%|██████████| 10/10 [00:22<00:00,  2.20s/it]\n",
            "process 22929: 100%|██████████| 10/10 [00:22<00:00,  2.24s/it]\n",
            "process 22934: 100%|██████████| 10/10 [00:22<00:00,  2.27s/it]\n",
            "process 22918: 100%|██████████| 10/10 [00:22<00:00,  2.29s/it]\n",
            "process 22900: 100%|██████████| 11/11 [00:26<00:00,  2.40s/it]\n",
            "process 22902: 100%|██████████| 11/11 [00:28<00:00,  2.55s/it]\n"
          ]
        },
        {
          "output_type": "stream",
          "name": "stdout",
          "text": [
            "... finished ...\n",
            "query: Ring-necked Pheasant q_gt:B since:2020-01-01\n",
            "... retrieving metadata ...\n",
            "An unexpected error occurred for bird 'Ring-necked Pheasant': integer division or modulo by zero\n",
            "query: Ruffed Grouse q_gt:B since:2020-01-01\n",
            "... retrieving metadata ...\n"
          ]
        },
        {
          "output_type": "stream",
          "name": "stderr",
          "text": [
            "process 23406: 100%|██████████| 1/1 [00:01<00:00,  1.79s/it]\n",
            "process 23406: 100%|██████████| 1/1 [00:01<00:00,  1.80s/it]\n",
            "process 23418: 100%|██████████| 1/1 [00:01<00:00,  1.75s/it]\n",
            "process 23417: 100%|██████████| 1/1 [00:02<00:00,  2.02s/it]\n",
            "process 23401: 100%|██████████| 1/1 [00:02<00:00,  2.14s/it]\n",
            "process 23402: 100%|██████████| 1/1 [00:02<00:00,  2.19s/it]\n",
            "process 23422: 100%|██████████| 1/1 [00:02<00:00,  2.42s/it]\n"
          ]
        },
        {
          "output_type": "stream",
          "name": "stdout",
          "text": [
            "... finished ...\n",
            "query: Eastern Wild Turkey q_gt:B since:2020-01-01\n",
            "... retrieving metadata ...\n",
            "An unexpected error occurred for bird 'Eastern Wild Turkey': integer division or modulo by zero\n",
            "query: Chukar q_gt:B since:2020-01-01\n",
            "... retrieving metadata ...\n"
          ]
        },
        {
          "output_type": "stream",
          "name": "stderr",
          "text": [
            "process 23689: 100%|██████████| 1/1 [00:02<00:00,  2.75s/it]\n",
            "process 23707: 100%|██████████| 1/1 [00:02<00:00,  2.95s/it]\n",
            "process 23710: 100%|██████████| 1/1 [00:03<00:00,  3.02s/it]\n",
            "process 23714: 100%|██████████| 1/1 [00:03<00:00,  3.35s/it]\n",
            "process 23701: 100%|██████████| 1/1 [00:03<00:00,  3.82s/it]\n",
            "process 23694: 100%|██████████| 1/1 [00:03<00:00,  3.87s/it]\n",
            "process 23694: 100%|██████████| 1/1 [00:03<00:00,  3.89s/it]\n",
            "process 23716: 100%|██████████| 1/1 [00:03<00:00,  3.74s/it]\n",
            "process 23705: 100%|██████████| 1/1 [00:04<00:00,  4.02s/it]\n",
            "process 23722: 100%|██████████| 1/1 [00:04<00:00,  4.03s/it]\n"
          ]
        },
        {
          "output_type": "stream",
          "name": "stdout",
          "text": [
            "... finished ...\n",
            "query: Northern Bobwhite q_gt:B since:2020-01-01\n",
            "... retrieving metadata ...\n"
          ]
        },
        {
          "output_type": "stream",
          "name": "stderr",
          "text": [
            "process 23928: 100%|██████████| 2/2 [00:10<00:00,  5.04s/it]\n",
            "process 23917: 100%|██████████| 2/2 [00:10<00:00,  5.16s/it]\n",
            "process 23913: 100%|██████████| 2/2 [00:10<00:00,  5.41s/it]\n",
            "process 23923: 100%|██████████| 2/2 [00:11<00:00,  5.54s/it]\n",
            "process 23911: 100%|██████████| 2/2 [00:11<00:00,  5.59s/it]\n",
            "process 23932: 100%|██████████| 2/2 [00:11<00:00,  5.57s/it]\n",
            "process 23905: 100%|██████████| 2/2 [00:11<00:00,  5.68s/it]\n",
            "process 23901: 100%|██████████| 2/2 [00:11<00:00,  5.79s/it]\n",
            "process 23927: 100%|██████████| 2/2 [00:12<00:00,  6.10s/it]\n",
            "process 23899: 100%|██████████| 3/3 [00:19<00:00,  6.46s/it]\n"
          ]
        },
        {
          "output_type": "stream",
          "name": "stdout",
          "text": [
            "... finished ...\n",
            "query: Yellow Rail q_gt:B since:2020-01-01\n",
            "... retrieving metadata ...\n"
          ]
        },
        {
          "output_type": "stream",
          "name": "stderr",
          "text": [
            "process 24191: 100%|██████████| 1/1 [00:03<00:00,  3.25s/it]\n",
            "process 24196: 100%|██████████| 1/1 [00:04<00:00,  4.51s/it]\n",
            "process 24193: 100%|██████████| 1/1 [00:04<00:00,  4.58s/it]\n",
            "process 24203: 100%|██████████| 1/1 [00:04<00:00,  4.83s/it]\n"
          ]
        },
        {
          "output_type": "stream",
          "name": "stdout",
          "text": [
            "... finished ...\n",
            "query: Black Rail q_gt:B since:2020-01-01\n",
            "... retrieving metadata ...\n"
          ]
        },
        {
          "output_type": "stream",
          "name": "stderr",
          "text": [
            "process 24352: 100%|██████████| 2/2 [00:03<00:00,  1.59s/it]\n",
            "process 24357: 100%|██████████| 2/2 [00:03<00:00,  1.64s/it]\n",
            "process 24358: 100%|██████████| 2/2 [00:03<00:00,  1.86s/it]\n",
            "process 24367: 100%|██████████| 2/2 [00:04<00:00,  2.03s/it]\n",
            "process 24362: 100%|██████████| 2/2 [00:04<00:00,  2.07s/it]\n",
            "process 24364: 100%|██████████| 2/2 [00:04<00:00,  2.09s/it]\n",
            "process 24347: 100%|██████████| 2/2 [00:05<00:00,  2.73s/it]\n",
            "process 24342: 100%|██████████| 3/3 [00:06<00:00,  2.10s/it]\n",
            "process 24339: 100%|██████████| 3/3 [00:06<00:00,  2.32s/it]\n",
            "process 24337: 100%|██████████| 3/3 [00:08<00:00,  2.71s/it]\n"
          ]
        },
        {
          "output_type": "stream",
          "name": "stdout",
          "text": [
            "... finished ...\n",
            "query: Clapper Rail q_gt:B since:2020-01-01\n",
            "... retrieving metadata ...\n"
          ]
        },
        {
          "output_type": "stream",
          "name": "stderr",
          "text": [
            "process 24589: 100%|██████████| 1/1 [00:01<00:00,  1.35s/it]\n",
            "process 24587: 100%|██████████| 1/1 [00:01<00:00,  1.39s/it]\n",
            "process 24583: 100%|██████████| 1/1 [00:01<00:00,  1.57s/it]\n",
            "process 24600: 100%|██████████| 1/1 [00:01<00:00,  1.75s/it]\n",
            "process 24604: 100%|██████████| 1/1 [00:01<00:00,  1.84s/it]\n",
            "process 24611: 100%|██████████| 1/1 [00:01<00:00,  1.99s/it]\n",
            "process 24578: 100%|██████████| 1/1 [00:02<00:00,  2.22s/it]\n",
            "process 24597: 100%|██████████| 1/1 [00:02<00:00,  2.46s/it]\n",
            "process 24573: 100%|██████████| 1/1 [00:03<00:00,  3.83s/it]\n",
            "process 24571: 100%|██████████| 2/2 [00:06<00:00,  3.13s/it]\n"
          ]
        },
        {
          "output_type": "stream",
          "name": "stdout",
          "text": [
            "... finished ...\n",
            "query: King Rail q_gt:B since:2020-01-01\n",
            "... retrieving metadata ...\n"
          ]
        },
        {
          "output_type": "stream",
          "name": "stderr",
          "text": [
            "process 24789: 100%|██████████| 1/1 [00:01<00:00,  1.50s/it]\n",
            "process 24805: 100%|██████████| 1/1 [00:02<00:00,  2.29s/it]\n",
            "process 24805: 100%|██████████| 1/1 [00:02<00:00,  2.30s/it]\n",
            "process 24803: 100%|██████████| 1/1 [00:02<00:00,  2.96s/it]\n",
            "process 24795: 100%|██████████| 1/1 [00:03<00:00,  3.24s/it]\n",
            "process 24771: 100%|██████████| 2/2 [00:04<00:00,  2.37s/it]\n",
            "process 24782: 100%|██████████| 2/2 [00:04<00:00,  2.36s/it]\n",
            "process 24777: 100%|██████████| 2/2 [00:04<00:00,  2.39s/it]\n",
            "process 24773: 100%|██████████| 2/2 [00:04<00:00,  2.43s/it]\n",
            "process 24786: 100%|██████████| 1/1 [00:07<00:00,  7.19s/it]\n"
          ]
        },
        {
          "output_type": "stream",
          "name": "stdout",
          "text": [
            "... finished ...\n",
            "query: Virginia Rail q_gt:B since:2020-01-01\n",
            "... retrieving metadata ...\n"
          ]
        },
        {
          "output_type": "stream",
          "name": "stderr",
          "text": [
            "process 24986:  20%|██        | 1/5 [00:05<00:22,  5.53s/it]\n",
            "process 25011: 100%|██████████| 4/4 [00:06<00:00,  1.71s/it]\n",
            "process 25003: 100%|██████████| 4/4 [00:07<00:00,  1.80s/it]\n",
            "process 25017: 100%|██████████| 4/4 [00:07<00:00,  1.83s/it]\n",
            "process 24993: 100%|██████████| 5/5 [00:08<00:00,  1.76s/it]\n",
            "process 24984: 100%|██████████| 5/5 [00:09<00:00,  2.00s/it]\n",
            "process 24990: 100%|██████████| 5/5 [00:10<00:00,  2.04s/it]\n",
            "process 24999: 100%|██████████| 5/5 [00:10<00:00,  2.08s/it]\n",
            "process 24995: 100%|██████████| 5/5 [00:11<00:00,  2.34s/it]\n",
            "process 24986: 100%|██████████| 5/5 [00:17<00:00,  3.43s/it]\n"
          ]
        },
        {
          "output_type": "stream",
          "name": "stdout",
          "text": [
            "... finished ...\n",
            "query: Sora q_gt:B since:2020-01-01\n",
            "... retrieving metadata ...\n"
          ]
        },
        {
          "output_type": "stream",
          "name": "stderr",
          "text": [
            "process 25457: 100%|██████████| 3/3 [00:04<00:00,  1.38s/it]\n",
            "process 25438: 100%|██████████| 3/3 [00:05<00:00,  1.70s/it]\n",
            "process 25450: 100%|██████████| 3/3 [00:05<00:00,  1.81s/it]\n",
            "process 25442: 100%|██████████| 3/3 [00:05<00:00,  1.94s/it]\n",
            "process 25444: 100%|██████████| 3/3 [00:06<00:00,  2.00s/it]\n",
            "process 25459: 100%|██████████| 3/3 [00:06<00:00,  2.11s/it]\n",
            "process 25433: 100%|██████████| 3/3 [00:06<00:00,  2.25s/it]\n",
            "process 25430: 100%|██████████| 3/3 [00:08<00:00,  2.87s/it]\n",
            "process 25427: 100%|██████████| 3/3 [00:08<00:00,  2.93s/it]\n",
            "process 25425: 100%|██████████| 4/4 [00:09<00:00,  2.32s/it]\n"
          ]
        },
        {
          "output_type": "stream",
          "name": "stdout",
          "text": [
            "... finished ...\n",
            "query: Common Moorhen q_gt:B since:2020-01-01\n",
            "... retrieving metadata ...\n"
          ]
        },
        {
          "output_type": "stream",
          "name": "stderr",
          "text": [
            "process 25812: 100%|██████████| 64/64 [01:43<00:00,  1.62s/it]\n",
            "process 25802: 100%|██████████| 64/64 [01:46<00:00,  1.67s/it]\n",
            "process 25810: 100%|██████████| 64/64 [01:50<00:00,  1.72s/it]\n",
            "process 25796: 100%|██████████| 65/65 [01:52<00:00,  1.74s/it]\n",
            "process 25815: 100%|██████████| 64/64 [01:59<00:00,  1.82s/it]\n",
            "process 25815: 100%|██████████| 64/64 [01:59<00:00,  1.86s/it]\n",
            "process 25790: 100%|██████████| 65/65 [02:09<00:00,  1.99s/it]\n",
            "process 25778: 100%|██████████| 65/65 [02:12<00:00,  2.04s/it]\n",
            "process 25780: 100%|██████████| 65/65 [02:13<00:00,  2.05s/it]\n",
            "process 25783: 100%|██████████| 65/65 [02:28<00:00,  2.29s/it]\n"
          ]
        },
        {
          "output_type": "stream",
          "name": "stdout",
          "text": [
            "... finished ...\n",
            "query: Purple Gallinule q_gt:B since:2020-01-01\n",
            "... retrieving metadata ...\n"
          ]
        },
        {
          "output_type": "stream",
          "name": "stderr",
          "text": [
            "process 27770: 100%|██████████| 1/1 [00:01<00:00,  1.36s/it]\n",
            "process 27781: 100%|██████████| 1/1 [00:01<00:00,  1.37s/it]\n",
            "process 27767: 100%|██████████| 1/1 [00:01<00:00,  1.62s/it]\n",
            "process 27768: 100%|██████████| 1/1 [00:01<00:00,  1.69s/it]\n",
            "process 27774: 100%|██████████| 1/1 [00:01<00:00,  1.81s/it]\n",
            "process 27788: 100%|██████████| 1/1 [00:02<00:00,  2.23s/it]\n",
            "process 27787: 100%|██████████| 1/1 [00:02<00:00,  2.29s/it]\n",
            "process 27799: 100%|██████████| 1/1 [00:02<00:00,  2.32s/it]\n"
          ]
        },
        {
          "output_type": "stream",
          "name": "stdout",
          "text": [
            "... finished ...\n",
            "query: American Coot q_gt:B since:2020-01-01\n",
            "... retrieving metadata ...\n"
          ]
        },
        {
          "output_type": "stream",
          "name": "stderr",
          "text": [
            "process 27901: 100%|██████████| 3/3 [00:04<00:00,  1.37s/it]\n",
            "process 27895: 100%|██████████| 3/3 [00:04<00:00,  1.59s/it]\n",
            "process 27908: 100%|██████████| 3/3 [00:04<00:00,  1.60s/it]\n",
            "process 27890: 100%|██████████| 3/3 [00:05<00:00,  1.77s/it]\n",
            "process 27887: 100%|██████████| 3/3 [00:05<00:00,  1.80s/it]\n",
            "process 27906: 100%|██████████| 3/3 [00:05<00:00,  1.94s/it]\n",
            "process 27905: 100%|██████████| 3/3 [00:05<00:00,  1.95s/it]\n",
            "process 27877: 100%|██████████| 4/4 [00:09<00:00,  2.29s/it]\n",
            "process 27879: 100%|██████████| 4/4 [00:09<00:00,  2.41s/it]\n",
            "process 27883: 100%|██████████| 4/4 [00:11<00:00,  2.88s/it]\n"
          ]
        },
        {
          "output_type": "stream",
          "name": "stdout",
          "text": [
            "... finished ...\n",
            "query: Black-bellied Plover q_gt:B since:2020-01-01\n",
            "... retrieving metadata ...\n",
            "An unexpected error occurred for bird 'Black-bellied Plover': integer division or modulo by zero\n",
            "query: American Golden-plover q_gt:B since:2020-01-01\n",
            "... retrieving metadata ...\n",
            "An unexpected error occurred for bird 'American Golden-plover': integer division or modulo by zero\n",
            "query: Semipalmated Plover q_gt:B since:2020-01-01\n",
            "... retrieving metadata ...\n"
          ]
        },
        {
          "output_type": "stream",
          "name": "stderr",
          "text": [
            "process 28140: 100%|██████████| 1/1 [00:01<00:00,  1.31s/it]\n",
            "process 28119: 100%|██████████| 1/1 [00:02<00:00,  2.25s/it]\n",
            "process 28137: 100%|██████████| 1/1 [00:02<00:00,  2.22s/it]\n",
            "process 28134: 100%|██████████| 1/1 [00:02<00:00,  2.70s/it]\n",
            "process 28124: 100%|██████████| 1/1 [00:02<00:00,  2.84s/it]\n",
            "process 28120: 100%|██████████| 1/1 [00:02<00:00,  2.86s/it]\n",
            "process 28131: 100%|██████████| 1/1 [00:02<00:00,  2.97s/it]\n"
          ]
        },
        {
          "output_type": "stream",
          "name": "stdout",
          "text": [
            "... finished ...\n",
            "query: Piping Plover q_gt:B since:2020-01-01\n",
            "... retrieving metadata ...\n"
          ]
        },
        {
          "output_type": "stream",
          "name": "stderr",
          "text": [
            "process 28220: 100%|██████████| 1/1 [00:01<00:00,  1.30s/it]\n",
            "process 28218: 100%|██████████| 1/1 [00:01<00:00,  1.37s/it]\n"
          ]
        },
        {
          "output_type": "stream",
          "name": "stdout",
          "text": [
            "... finished ...\n",
            "query: Killdeer q_gt:B since:2020-01-01\n",
            "... retrieving metadata ...\n"
          ]
        },
        {
          "output_type": "stream",
          "name": "stderr",
          "text": [
            "process 28294: 100%|██████████| 3/3 [00:04<00:00,  1.41s/it]\n",
            "process 28311: 100%|██████████| 3/3 [00:04<00:00,  1.53s/it]\n",
            "process 28286: 100%|██████████| 3/3 [00:05<00:00,  1.71s/it]\n",
            "process 28279: 100%|██████████| 3/3 [00:05<00:00,  1.90s/it]\n",
            "process 28307: 100%|██████████| 3/3 [00:05<00:00,  1.91s/it]\n",
            "process 28304: 100%|██████████| 3/3 [00:05<00:00,  1.94s/it]\n",
            "process 28291: 100%|██████████| 3/3 [00:06<00:00,  2.03s/it]\n",
            "process 28287: 100%|██████████| 3/3 [00:06<00:00,  2.16s/it]\n",
            "process 28276: 100%|██████████| 4/4 [00:08<00:00,  2.06s/it]\n",
            "process 28274: 100%|██████████| 4/4 [00:08<00:00,  2.12s/it]\n"
          ]
        },
        {
          "output_type": "stream",
          "name": "stdout",
          "text": [
            "... finished ...\n",
            "query: American Oystercatcher q_gt:B since:2020-01-01\n",
            "... retrieving metadata ...\n"
          ]
        },
        {
          "output_type": "stream",
          "name": "stderr",
          "text": [
            "process 28510: 100%|██████████| 3/3 [00:05<00:00,  1.79s/it]\n",
            "process 28497: 100%|██████████| 4/4 [00:06<00:00,  1.54s/it]\n",
            "process 28491: 100%|██████████| 4/4 [00:06<00:00,  1.57s/it]\n",
            "process 28493: 100%|██████████| 4/4 [00:06<00:00,  1.64s/it]\n",
            "process 28487: 100%|██████████| 4/4 [00:06<00:00,  1.66s/it]\n",
            "process 28484: 100%|██████████| 4/4 [00:07<00:00,  1.78s/it]\n",
            "process 28476: 100%|██████████| 4/4 [00:07<00:00,  1.86s/it]\n",
            "process 28503: 100%|██████████| 4/4 [00:07<00:00,  1.84s/it]\n",
            "process 28474: 100%|██████████| 4/4 [00:07<00:00,  1.93s/it]\n",
            "process 28480: 100%|██████████| 4/4 [00:07<00:00,  1.94s/it]\n"
          ]
        },
        {
          "output_type": "stream",
          "name": "stdout",
          "text": [
            "... finished ...\n",
            "query: Black-necked Stilt q_gt:B since:2020-01-01\n",
            "... retrieving metadata ...\n"
          ]
        },
        {
          "output_type": "stream",
          "name": "stderr",
          "text": [
            "process 28713: 100%|██████████| 2/2 [00:03<00:00,  1.71s/it]\n",
            "process 28690: 100%|██████████| 3/3 [00:04<00:00,  1.43s/it]\n",
            "process 28711: 100%|██████████| 2/2 [00:05<00:00,  2.50s/it]\n",
            "process 28684: 100%|██████████| 3/3 [00:05<00:00,  1.79s/it]\n",
            "process 28704: 100%|██████████| 3/3 [00:06<00:00,  2.10s/it]\n",
            "process 28698: 100%|██████████| 3/3 [00:06<00:00,  2.20s/it]\n",
            "process 28700: 100%|██████████| 3/3 [00:06<00:00,  2.27s/it]\n",
            "process 28707: 100%|██████████| 3/3 [00:07<00:00,  2.41s/it]\n",
            "process 28682: 100%|██████████| 3/3 [00:07<00:00,  2.54s/it]\n",
            "process 28687: 100%|██████████| 3/3 [00:07<00:00,  2.65s/it]\n"
          ]
        },
        {
          "output_type": "stream",
          "name": "stdout",
          "text": [
            "... finished ...\n",
            "query: American Avocet q_gt:B since:2020-01-01\n",
            "... retrieving metadata ...\n"
          ]
        },
        {
          "output_type": "stream",
          "name": "stderr",
          "text": [
            "process 28870: 100%|██████████| 1/1 [00:00<00:00,  1.05it/s]\n",
            "process 28872: 100%|██████████| 1/1 [00:01<00:00,  1.55s/it]\n",
            "process 28882: 100%|██████████| 1/1 [00:01<00:00,  1.52s/it]\n",
            "process 28875: 100%|██████████| 1/1 [00:01<00:00,  1.74s/it]\n",
            "process 28886: 100%|██████████| 1/1 [00:01<00:00,  1.79s/it]\n",
            "process 28891: 100%|██████████| 1/1 [00:02<00:00,  2.38s/it]\n",
            "process 28890: 100%|██████████| 1/1 [00:02<00:00,  2.44s/it]\n"
          ]
        },
        {
          "output_type": "stream",
          "name": "stdout",
          "text": [
            "... finished ...\n",
            "query: Greater Yellowlegs q_gt:B since:2020-01-01\n",
            "... retrieving metadata ...\n"
          ]
        },
        {
          "output_type": "stream",
          "name": "stderr",
          "text": [
            "process 28997: 100%|██████████| 4/4 [00:06<00:00,  1.61s/it]\n",
            "process 28993: 100%|██████████| 4/4 [00:07<00:00,  1.96s/it]\n",
            "process 29001: 100%|██████████| 4/4 [00:08<00:00,  2.02s/it]\n",
            "process 28988: 100%|██████████| 5/5 [00:08<00:00,  1.76s/it]\n",
            "process 28982: 100%|██████████| 5/5 [00:09<00:00,  1.88s/it]\n",
            "process 28992: 100%|██████████| 5/5 [00:09<00:00,  1.88s/it]\n",
            "process 28972: 100%|██████████| 5/5 [00:11<00:00,  2.29s/it]\n",
            "process 28968: 100%|██████████| 5/5 [00:13<00:00,  2.61s/it]\n",
            "process 28977: 100%|██████████| 5/5 [00:13<00:00,  2.61s/it]\n",
            "process 28973: 100%|██████████| 5/5 [00:14<00:00,  2.83s/it]\n"
          ]
        },
        {
          "output_type": "stream",
          "name": "stdout",
          "text": [
            "... finished ...\n",
            "query: Lesser Yellowlegs q_gt:B since:2020-01-01\n",
            "... retrieving metadata ...\n"
          ]
        },
        {
          "output_type": "stream",
          "name": "stderr",
          "text": [
            "process 29246: 100%|██████████| 4/4 [00:05<00:00,  1.46s/it]\n",
            "process 29253: 100%|██████████| 4/4 [00:06<00:00,  1.61s/it]\n",
            "process 29257: 100%|██████████| 4/4 [00:08<00:00,  2.02s/it]\n",
            "process 29224: 100%|██████████| 5/5 [00:09<00:00,  1.82s/it]\n",
            "process 29244: 100%|██████████| 4/4 [00:08<00:00,  2.22s/it]\n",
            "process 29249: 100%|██████████| 4/4 [00:08<00:00,  2.20s/it]\n",
            "process 29237: 100%|██████████| 4/4 [00:09<00:00,  2.30s/it]\n",
            "process 29233: 100%|██████████| 4/4 [00:10<00:00,  2.65s/it]\n",
            "process 29229: 100%|██████████| 5/5 [00:12<00:00,  2.45s/it]\n",
            "process 29228: 100%|██████████| 5/5 [00:13<00:00,  2.67s/it]\n"
          ]
        },
        {
          "output_type": "stream",
          "name": "stdout",
          "text": [
            "... finished ...\n",
            "query: Solitary Sandpiper q_gt:B since:2020-01-01\n",
            "... retrieving metadata ...\n"
          ]
        },
        {
          "output_type": "stream",
          "name": "stderr",
          "text": [
            "process 29467: 100%|██████████| 2/2 [00:02<00:00,  1.14s/it]\n",
            "process 29486: 100%|██████████| 2/2 [00:02<00:00,  1.32s/it]\n",
            "process 29480: 100%|██████████| 2/2 [00:02<00:00,  1.45s/it]\n",
            "process 29476: 100%|██████████| 2/2 [00:03<00:00,  1.54s/it]\n",
            "process 29460: 100%|██████████| 3/3 [00:03<00:00,  1.18s/it]\n",
            "process 29461: 100%|██████████| 2/2 [00:03<00:00,  1.78s/it]\n",
            "\n",
            "process 29471: 100%|██████████| 2/2 [00:03<00:00,  1.87s/it]\n",
            "process 29490: 100%|██████████| 2/2 [00:04<00:00,  2.25s/it]\n",
            "process 29465: 100%|██████████| 2/2 [00:05<00:00,  2.51s/it]\n"
          ]
        },
        {
          "output_type": "stream",
          "name": "stdout",
          "text": [
            "... finished ...\n",
            "query: Willet q_gt:B since:2020-01-01\n",
            "... retrieving metadata ...\n"
          ]
        },
        {
          "output_type": "stream",
          "name": "stderr",
          "text": [
            "process 29650: 100%|██████████| 2/2 [00:02<00:00,  1.23s/it]\n",
            "process 29663: 100%|██████████| 2/2 [00:02<00:00,  1.34s/it]\n",
            "process 29663: 100%|██████████| 2/2 [00:02<00:00,  1.35s/it]\n",
            "process 29637: 100%|██████████| 2/2 [00:03<00:00,  1.66s/it]\n",
            "process 29648: 100%|██████████| 2/2 [00:03<00:00,  1.66s/it]\n",
            "process 29667: 100%|██████████| 2/2 [00:03<00:00,  1.65s/it]\n",
            "process 29668: 100%|██████████| 2/2 [00:03<00:00,  1.67s/it]\n",
            "process 29640: 100%|██████████| 2/2 [00:03<00:00,  1.87s/it]\n",
            "process 29643: 100%|██████████| 2/2 [00:03<00:00,  1.85s/it]\n",
            "process 29635: 100%|██████████| 3/3 [00:04<00:00,  1.63s/it]\n"
          ]
        },
        {
          "output_type": "stream",
          "name": "stdout",
          "text": [
            "... finished ...\n",
            "query: Spotted Sandpiper q_gt:B since:2020-01-01\n",
            "... retrieving metadata ...\n"
          ]
        },
        {
          "output_type": "stream",
          "name": "stderr",
          "text": [
            "process 29821: 100%|██████████| 1/1 [00:01<00:00,  1.16s/it]\n",
            "process 29822: 100%|██████████| 1/1 [00:01<00:00,  1.56s/it]\n",
            "process 29826: 100%|██████████| 1/1 [00:01<00:00,  1.57s/it]\n",
            "process 29817: 100%|██████████| 2/2 [00:02<00:00,  1.44s/it]\n",
            "process 29796: 100%|██████████| 2/2 [00:03<00:00,  1.68s/it]\n",
            "process 29813: 100%|██████████| 2/2 [00:03<00:00,  1.67s/it]\n",
            "process 29793: 100%|██████████| 2/2 [00:03<00:00,  1.78s/it]\n",
            "process 29802: 100%|██████████| 2/2 [00:03<00:00,  1.74s/it]\n",
            "process 29806: 100%|██████████| 2/2 [00:03<00:00,  1.98s/it]\n",
            "process 29794: 100%|██████████| 2/2 [00:05<00:00,  2.53s/it]\n"
          ]
        },
        {
          "output_type": "stream",
          "name": "stdout",
          "text": [
            "... finished ...\n",
            "query: Upland Sandpiper q_gt:B since:2020-01-01\n",
            "... retrieving metadata ...\n"
          ]
        },
        {
          "output_type": "stream",
          "name": "stderr",
          "text": [
            "process 29959: 100%|██████████| 1/1 [00:01<00:00,  1.35s/it]\n",
            "process 29943: 100%|██████████| 1/1 [00:01<00:00,  1.78s/it]\n",
            "process 29955: 100%|██████████| 1/1 [00:02<00:00,  2.39s/it]\n",
            "process 29948: 100%|██████████| 1/1 [00:02<00:00,  2.64s/it]\n",
            "process 29945: 100%|██████████| 1/1 [00:02<00:00,  2.90s/it]\n"
          ]
        },
        {
          "output_type": "stream",
          "name": "stdout",
          "text": [
            "... finished ...\n",
            "query: Whimbrel q_gt:B since:2020-01-01\n",
            "... retrieving metadata ...\n"
          ]
        },
        {
          "output_type": "stream",
          "name": "stderr",
          "text": [
            "process 30071: 100%|██████████| 27/27 [00:46<00:00,  1.72s/it]\n",
            "process 30070: 100%|██████████| 27/27 [00:49<00:00,  1.83s/it]\n",
            "process 30066: 100%|██████████| 27/27 [00:52<00:00,  1.94s/it]\n",
            "process 30055: 100%|██████████| 27/27 [00:52<00:00,  1.95s/it]\n",
            "process 30063: 100%|██████████| 27/27 [00:52<00:00,  1.95s/it]\n",
            "process 30059: 100%|██████████| 27/27 [00:58<00:00,  2.17s/it]\n",
            "process 30043: 100%|██████████| 28/28 [01:02<00:00,  2.24s/it]\n",
            "process 30041: 100%|██████████| 28/28 [01:03<00:00,  2.27s/it]\n",
            "process 30046: 100%|██████████| 28/28 [01:10<00:00,  2.53s/it]\n",
            "process 30051: 100%|██████████| 27/27 [01:13<00:00,  2.73s/it]\n"
          ]
        },
        {
          "output_type": "stream",
          "name": "stdout",
          "text": [
            "... finished ...\n",
            "query: Hudsonian Godwit q_gt:B since:2020-01-01\n",
            "... retrieving metadata ...\n"
          ]
        },
        {
          "output_type": "stream",
          "name": "stderr",
          "text": [
            "process 30989: 100%|██████████| 1/1 [00:01<00:00,  1.14s/it]\n",
            "process 30987: 100%|██████████| 1/1 [00:02<00:00,  2.01s/it]\n"
          ]
        },
        {
          "output_type": "stream",
          "name": "stdout",
          "text": [
            "... finished ...\n",
            "query: Marbled Godwit q_gt:B since:2020-01-01\n",
            "... retrieving metadata ...\n"
          ]
        },
        {
          "output_type": "stream",
          "name": "stderr",
          "text": [
            "process 31060: 100%|██████████| 1/1 [00:01<00:00,  1.58s/it]\n",
            "process 31064: 100%|██████████| 1/1 [00:01<00:00,  1.75s/it]\n",
            "process 31068: 100%|██████████| 1/1 [00:02<00:00,  2.65s/it]\n",
            "process 31037: 100%|██████████| 2/2 [00:03<00:00,  1.51s/it]\n",
            "process 31035: 100%|██████████| 2/2 [00:03<00:00,  1.78s/it]\n",
            "process 31041: 100%|██████████| 2/2 [00:03<00:00,  1.80s/it]\n",
            "process 31055: 100%|██████████| 2/2 [00:03<00:00,  1.83s/it]\n",
            "process 31050: 100%|██████████| 2/2 [00:03<00:00,  1.87s/it]\n",
            "process 31045: 100%|██████████| 2/2 [00:03<00:00,  2.05s/it]\n",
            "process 31057: 100%|██████████| 2/2 [00:05<00:00,  2.59s/it]\n"
          ]
        },
        {
          "output_type": "stream",
          "name": "stdout",
          "text": [
            "... finished ...\n",
            "query: Ruddy Turnstone q_gt:B since:2020-01-01\n",
            "... retrieving metadata ...\n"
          ]
        },
        {
          "output_type": "stream",
          "name": "stderr",
          "text": [
            "process 31218: 100%|██████████| 12/12 [00:20<00:00,  1.71s/it]\n",
            "process 31213: 100%|██████████| 12/12 [00:21<00:00,  1.71s/it]\n",
            "process 31214: 100%|██████████| 12/12 [00:21<00:00,  1.82s/it]\n",
            "process 31215: 100%|██████████| 12/12 [00:23<00:00,  1.94s/it]\n",
            "process 31202: 100%|██████████| 12/12 [00:23<00:00,  1.96s/it]\n",
            "process 31207: 100%|██████████| 12/12 [00:24<00:00,  2.03s/it]\n",
            "process 31198: 100%|██████████| 13/13 [00:26<00:00,  2.03s/it]\n",
            "process 31190: 100%|██████████| 13/13 [00:26<00:00,  2.05s/it]\n",
            "process 31189: 100%|██████████| 13/13 [00:29<00:00,  2.26s/it]\n",
            "process 31192: 100%|██████████| 13/13 [00:31<00:00,  2.46s/it]\n"
          ]
        },
        {
          "output_type": "stream",
          "name": "stdout",
          "text": [
            "... finished ...\n",
            "query: Red Knot q_gt:B since:2020-01-01\n",
            "... retrieving metadata ...\n"
          ]
        },
        {
          "output_type": "stream",
          "name": "stderr",
          "text": [
            "process 31681: 100%|██████████| 4/4 [00:06<00:00,  1.62s/it]\n",
            "process 31689: 100%|██████████| 4/4 [00:06<00:00,  1.68s/it]\n",
            "process 31692: 100%|██████████| 4/4 [00:06<00:00,  1.73s/it]\n",
            "process 31686: 100%|██████████| 4/4 [00:07<00:00,  1.77s/it]\n",
            "process 31699: 100%|██████████| 4/4 [00:07<00:00,  1.95s/it]\n",
            "process 31675: 100%|██████████| 4/4 [00:08<00:00,  2.19s/it]\n",
            "process 31679: 100%|██████████| 4/4 [00:08<00:00,  2.23s/it]\n",
            "process 31663: 100%|██████████| 5/5 [00:09<00:00,  1.88s/it]\n",
            "process 31669: 100%|██████████| 4/4 [00:09<00:00,  2.37s/it]\n",
            "process 31665: 100%|██████████| 5/5 [00:13<00:00,  2.78s/it]\n"
          ]
        },
        {
          "output_type": "stream",
          "name": "stdout",
          "text": [
            "... finished ...\n",
            "query: Sanderling q_gt:B since:2020-01-01\n",
            "... retrieving metadata ...\n"
          ]
        },
        {
          "output_type": "stream",
          "name": "stderr",
          "text": [
            "process 31948: 100%|██████████| 5/5 [00:07<00:00,  1.56s/it]\n",
            "process 31915: 100%|██████████| 6/6 [00:08<00:00,  1.45s/it]\n",
            "process 31940: 100%|██████████| 6/6 [00:09<00:00,  1.59s/it]\n",
            "process 31947: 100%|██████████| 6/6 [00:09<00:00,  1.61s/it]\n",
            "process 31932: 100%|██████████| 6/6 [00:09<00:00,  1.64s/it]\n",
            "process 31934: 100%|██████████| 6/6 [00:10<00:00,  1.68s/it]\n",
            "process 31928: 100%|██████████| 6/6 [00:11<00:00,  1.84s/it]\n",
            "process 31916: 100%|██████████| 6/6 [00:11<00:00,  1.94s/it]\n",
            "process 31921: 100%|██████████| 6/6 [00:11<00:00,  2.01s/it]\n",
            "process 31918: 100%|██████████| 6/6 [00:13<00:00,  2.26s/it]\n"
          ]
        },
        {
          "output_type": "stream",
          "name": "stdout",
          "text": [
            "... finished ...\n",
            "query: Semipalmated Sandpiper q_gt:B since:2020-01-01\n",
            "... retrieving metadata ...\n"
          ]
        },
        {
          "output_type": "stream",
          "name": "stderr",
          "text": [
            "process 32190: 100%|██████████| 1/1 [00:01<00:00,  1.34s/it]\n",
            "process 32186: 100%|██████████| 1/1 [00:01<00:00,  1.36s/it]\n",
            "process 32196: 100%|██████████| 1/1 [00:01<00:00,  1.35s/it]\n",
            "process 32184: 100%|██████████| 1/1 [00:02<00:00,  2.24s/it]\n"
          ]
        },
        {
          "output_type": "stream",
          "name": "stdout",
          "text": [
            "... finished ...\n",
            "query: Western Sandpiper q_gt:B since:2020-01-01\n",
            "... retrieving metadata ...\n"
          ]
        },
        {
          "output_type": "stream",
          "name": "stderr",
          "text": [
            "process 32248: 100%|██████████| 1/1 [00:01<00:00,  1.64s/it]\n"
          ]
        },
        {
          "output_type": "stream",
          "name": "stdout",
          "text": [
            "... finished ...\n",
            "query: Least Sandpiper q_gt:B since:2020-01-01\n",
            "... retrieving metadata ...\n"
          ]
        },
        {
          "output_type": "stream",
          "name": "stderr",
          "text": [
            "process 32307: 100%|██████████| 1/1 [00:01<00:00,  1.31s/it]\n",
            "process 32311: 100%|██████████| 1/1 [00:01<00:00,  1.37s/it]\n",
            "\n",
            "process 32294: 100%|██████████| 1/1 [00:01<00:00,  1.54s/it]\n",
            "process 32282: 100%|██████████| 1/1 [00:01<00:00,  1.70s/it]\n",
            "process 32296: 100%|██████████| 1/1 [00:01<00:00,  1.55s/it]\n",
            "process 32296: 100%|██████████| 1/1 [00:01<00:00,  1.56s/it]\n",
            "process 32303: 100%|██████████| 1/1 [00:01<00:00,  1.58s/it]\n",
            "process 32287: 100%|██████████| 1/1 [00:02<00:00,  2.16s/it]\n"
          ]
        },
        {
          "output_type": "stream",
          "name": "stdout",
          "text": [
            "... finished ...\n",
            "query: White-rumped Sandpiper q_gt:B since:2020-01-01\n",
            "... retrieving metadata ...\n"
          ]
        },
        {
          "output_type": "stream",
          "name": "stderr",
          "text": [
            "process 32398: 100%|██████████| 1/1 [00:01<00:00,  1.85s/it]\n",
            "process 32409: 100%|██████████| 1/1 [00:02<00:00,  2.16s/it]\n",
            "process 32413: 100%|██████████| 1/1 [00:02<00:00,  2.18s/it]\n",
            "process 32421: 100%|██████████| 1/1 [00:02<00:00,  2.19s/it]\n",
            "process 32415: 100%|██████████| 1/1 [00:02<00:00,  2.31s/it]\n",
            "process 32426: 100%|██████████| 1/1 [00:02<00:00,  2.34s/it]\n",
            "process 32396: 100%|██████████| 1/1 [00:02<00:00,  2.72s/it]\n",
            "process 32405: 100%|██████████| 1/1 [00:03<00:00,  3.73s/it]\n",
            "process 32404: 100%|██████████| 1/1 [00:03<00:00,  3.79s/it]\n"
          ]
        },
        {
          "output_type": "stream",
          "name": "stdout",
          "text": [
            "... finished ...\n",
            "query: Bairds Sandpiper q_gt:B since:2020-01-01\n",
            "... retrieving metadata ...\n",
            "Error processing bird 'Bairds Sandpiper': 'ascii' codec can't encode character '\\x92' in position 33: ordinal not in range(128)\n",
            "query: Pectoral Sandpiper q_gt:B since:2020-01-01\n",
            "... retrieving metadata ...\n"
          ]
        },
        {
          "output_type": "stream",
          "name": "stderr",
          "text": [
            "process 32547: 100%|██████████| 1/1 [00:01<00:00,  1.17s/it]\n",
            "process 32546: 100%|██████████| 1/1 [00:01<00:00,  1.33s/it]\n",
            "process 32523: 100%|██████████| 1/1 [00:01<00:00,  1.58s/it]\n",
            "process 32530: 100%|██████████| 1/1 [00:01<00:00,  1.59s/it]\n",
            "process 32533: 100%|██████████| 1/1 [00:01<00:00,  1.69s/it]\n",
            "process 32540: 100%|██████████| 1/1 [00:01<00:00,  1.95s/it]\n",
            "process 32550: 100%|██████████| 1/1 [00:02<00:00,  2.23s/it]\n",
            "process 32536: 100%|██████████| 1/1 [00:02<00:00,  2.38s/it]\n",
            "process 32518: 100%|██████████| 2/2 [00:03<00:00,  1.74s/it]\n",
            "process 32520: 100%|██████████| 2/2 [00:03<00:00,  1.83s/it]\n"
          ]
        },
        {
          "output_type": "stream",
          "name": "stdout",
          "text": [
            "... finished ...\n",
            "query: Purple Sandpiper q_gt:B since:2020-01-01\n",
            "... retrieving metadata ...\n"
          ]
        },
        {
          "output_type": "stream",
          "name": "stderr",
          "text": [
            "process 32684: 100%|██████████| 1/1 [00:01<00:00,  1.57s/it]\n",
            "process 32680: 100%|██████████| 1/1 [00:01<00:00,  1.74s/it]\n",
            "process 32675: 100%|██████████| 1/1 [00:01<00:00,  1.83s/it]\n",
            "process 32672: 100%|██████████| 1/1 [00:02<00:00,  2.24s/it]\n",
            "process 32654: 100%|██████████| 1/1 [00:02<00:00,  2.46s/it]\n",
            "process 32669: 100%|██████████| 1/1 [00:02<00:00,  2.48s/it]\n",
            "process 32656: 100%|██████████| 1/1 [00:10<00:00, 10.35s/it]\n",
            "process 32662: 100%|██████████| 1/1 [00:10<00:00, 10.98s/it]\n",
            "process 32666: 100%|██████████| 1/1 [00:11<00:00, 11.86s/it]\n"
          ]
        },
        {
          "output_type": "stream",
          "name": "stdout",
          "text": [
            "... finished ...\n",
            "query: Dunlin q_gt:B since:2020-01-01\n",
            "... retrieving metadata ...\n"
          ]
        },
        {
          "output_type": "stream",
          "name": "stderr",
          "text": [
            "process 32863: 100%|██████████| 21/21 [00:35<00:00,  1.68s/it]\n",
            "process 32870: 100%|██████████| 21/21 [00:38<00:00,  1.83s/it]\n",
            "process 32855: 100%|██████████| 21/21 [00:40<00:00,  1.94s/it]\n",
            "process 32830: 100%|██████████| 22/22 [00:42<00:00,  1.93s/it]\n",
            "process 32850: 100%|██████████| 21/21 [00:43<00:00,  2.07s/it]\n",
            "process 32831: 100%|██████████| 22/22 [00:44<00:00,  2.02s/it]\n",
            "process 32833: 100%|██████████| 22/22 [00:45<00:00,  2.05s/it]\n",
            "process 32851: 100%|██████████| 21/21 [00:45<00:00,  2.14s/it]\n",
            "process 32837: 100%|██████████| 22/22 [00:48<00:00,  2.19s/it]\n",
            "process 32843: 100%|██████████| 22/22 [00:49<00:00,  2.24s/it]\n"
          ]
        },
        {
          "output_type": "stream",
          "name": "stdout",
          "text": [
            "... finished ...\n",
            "query: Curlew Sandpiper q_gt:B since:2020-01-01\n",
            "... retrieving metadata ...\n"
          ]
        },
        {
          "output_type": "stream",
          "name": "stderr",
          "text": [
            "process 33595: 100%|██████████| 3/3 [00:03<00:00,  1.33s/it]\n",
            "process 33596: 100%|██████████| 3/3 [00:04<00:00,  1.48s/it]\n",
            "process 33563: 100%|██████████| 4/4 [00:06<00:00,  1.70s/it]\n",
            "process 33576: 100%|██████████| 4/4 [00:06<00:00,  1.71s/it]\n",
            "process 33591: 100%|██████████| 4/4 [00:06<00:00,  1.68s/it]\n",
            "process 33581: 100%|██████████| 4/4 [00:06<00:00,  1.72s/it]\n",
            "process 33566: 100%|██████████| 4/4 [00:07<00:00,  1.76s/it]\n",
            "process 33587: 100%|██████████| 4/4 [00:07<00:00,  1.78s/it]\n",
            "process 33570: 100%|██████████| 4/4 [00:07<00:00,  1.89s/it]\n",
            "process 33564: 100%|██████████| 4/4 [00:10<00:00,  2.63s/it]\n"
          ]
        },
        {
          "output_type": "stream",
          "name": "stdout",
          "text": [
            "... finished ...\n",
            "query: Stilt Sandpiper q_gt:B since:2020-01-01\n",
            "... retrieving metadata ...\n",
            "An unexpected error occurred for bird 'Stilt Sandpiper': integer division or modulo by zero\n",
            "query: Buff-breasted Sandpiper q_gt:B since:2020-01-01\n",
            "... retrieving metadata ...\n"
          ]
        },
        {
          "output_type": "stream",
          "name": "stderr",
          "text": [
            "process 33809: 100%|██████████| 1/1 [00:01<00:00,  1.33s/it]\n",
            "process 33813: 100%|██████████| 1/1 [00:01<00:00,  1.35s/it]\n"
          ]
        },
        {
          "output_type": "stream",
          "name": "stdout",
          "text": [
            "... finished ...\n",
            "query: Ruff q_gt:B since:2020-01-01\n",
            "... retrieving metadata ...\n"
          ]
        },
        {
          "output_type": "stream",
          "name": "stderr",
          "text": [
            "process 33907: 100%|██████████| 1/1 [00:01<00:00,  1.54s/it]\n",
            "process 33873: 100%|██████████| 2/2 [00:03<00:00,  1.72s/it]\n",
            "process 33883: 100%|██████████| 2/2 [00:03<00:00,  1.79s/it]\n",
            "process 33879: 100%|██████████| 2/2 [00:03<00:00,  1.85s/it]\n",
            "process 33901: 100%|██████████| 2/2 [00:03<00:00,  1.87s/it]\n",
            "process 33888: 100%|██████████| 2/2 [00:03<00:00,  1.93s/it]\n",
            "process 33893: 100%|██████████| 2/2 [00:03<00:00,  1.96s/it]\n",
            "process 33875: 100%|██████████| 2/2 [00:04<00:00,  2.09s/it]\n",
            "process 33905: 100%|██████████| 2/2 [00:04<00:00,  2.10s/it]\n",
            "process 33894: 100%|██████████| 2/2 [00:04<00:00,  2.15s/it]\n"
          ]
        },
        {
          "output_type": "stream",
          "name": "stdout",
          "text": [
            "... finished ...\n",
            "query: Short-billed Dowitcher q_gt:B since:2020-01-01\n",
            "... retrieving metadata ...\n"
          ]
        },
        {
          "output_type": "stream",
          "name": "stderr",
          "text": [
            "process 34060: 100%|██████████| 1/1 [00:01<00:00,  1.63s/it]\n",
            "process 34056: 100%|██████████| 1/1 [00:02<00:00,  2.48s/it]\n",
            "process 34027: 100%|██████████| 2/2 [00:03<00:00,  1.96s/it]\n",
            "process 34042: 100%|██████████| 2/2 [00:04<00:00,  2.34s/it]\n",
            "process 34031: 100%|██████████| 2/2 [00:05<00:00,  2.61s/it]\n",
            "process 34044: 100%|██████████| 2/2 [00:05<00:00,  2.54s/it]\n",
            "process 34037: 100%|██████████| 2/2 [00:05<00:00,  2.70s/it]\n",
            "process 34035: 100%|██████████| 2/2 [00:05<00:00,  2.79s/it]\n",
            "process 34050: 100%|██████████| 2/2 [00:05<00:00,  2.71s/it]\n",
            "process 34046: 100%|██████████| 2/2 [00:05<00:00,  2.86s/it]\n"
          ]
        },
        {
          "output_type": "stream",
          "name": "stdout",
          "text": [
            "... finished ...\n",
            "query: Long-billed Dowitcher q_gt:B since:2020-01-01\n",
            "... retrieving metadata ...\n"
          ]
        },
        {
          "output_type": "stream",
          "name": "stderr",
          "text": [
            "process 34219: 100%|██████████| 1/1 [00:01<00:00,  1.17s/it]\n",
            "process 34196: 100%|██████████| 1/1 [00:01<00:00,  1.82s/it]\n",
            "process 34190: 100%|██████████| 1/1 [00:02<00:00,  2.06s/it]\n",
            "\n",
            "process 34188: 100%|██████████| 1/1 [00:02<00:00,  2.35s/it]\n",
            "process 34208: 100%|██████████| 1/1 [00:02<00:00,  2.34s/it]\n",
            "\n",
            "process 34200: 100%|██████████| 1/1 [00:02<00:00,  2.57s/it]\n",
            "process 34223: 100%|██████████| 1/1 [00:02<00:00,  2.62s/it]\n",
            "process 34187: 100%|██████████| 2/2 [00:03<00:00,  1.81s/it]\n"
          ]
        },
        {
          "output_type": "stream",
          "name": "stdout",
          "text": [
            "... finished ...\n",
            "query: Common Snipe q_gt:B since:2020-01-01\n",
            "... retrieving metadata ...\n"
          ]
        },
        {
          "output_type": "stream",
          "name": "stderr",
          "text": [
            "process 34351: 100%|██████████| 5/5 [00:08<00:00,  1.52s/it]\n",
            "process 34370: 100%|██████████| 5/5 [00:08<00:00,  1.65s/it]\n",
            "process 34342: 100%|██████████| 5/5 [00:08<00:00,  1.69s/it]\n",
            "process 34348: 100%|██████████| 5/5 [00:08<00:00,  1.73s/it]\n",
            "process 34369: 100%|██████████| 5/5 [00:09<00:00,  1.90s/it]\n",
            "process 34344: 100%|██████████| 5/5 [00:10<00:00,  2.06s/it]\n",
            "process 34339: 100%|██████████| 5/5 [00:10<00:00,  2.14s/it]\n",
            "process 34360: 100%|██████████| 5/5 [00:12<00:00,  2.43s/it]\n",
            "process 34337: 100%|██████████| 6/6 [00:12<00:00,  2.14s/it]\n",
            "process 34356: 100%|██████████| 5/5 [00:12<00:00,  2.55s/it]\n"
          ]
        },
        {
          "output_type": "stream",
          "name": "stdout",
          "text": [
            "... finished ...\n",
            "query: American Woodcock q_gt:B since:2020-01-01\n",
            "... retrieving metadata ...\n"
          ]
        },
        {
          "output_type": "stream",
          "name": "stderr",
          "text": [
            "process 34636: 100%|██████████| 1/1 [00:01<00:00,  1.86s/it]\n",
            "process 34605: 100%|██████████| 2/2 [00:04<00:00,  2.04s/it]\n",
            "process 34632: 100%|██████████| 2/2 [00:04<00:00,  2.03s/it]\n",
            "process 34613: 100%|██████████| 2/2 [00:04<00:00,  2.12s/it]\n",
            "process 34610: 100%|██████████| 2/2 [00:04<00:00,  2.18s/it]\n",
            "process 34602: 100%|██████████| 2/2 [00:04<00:00,  2.26s/it]\n",
            "process 34600: 100%|██████████| 2/2 [00:04<00:00,  2.33s/it]\n",
            "process 34624: 100%|██████████| 2/2 [00:04<00:00,  2.27s/it]\n",
            "process 34628: 100%|██████████| 2/2 [00:04<00:00,  2.46s/it]\n",
            "process 34620: 100%|██████████| 2/2 [00:15<00:00,  7.84s/it]\n"
          ]
        },
        {
          "output_type": "stream",
          "name": "stdout",
          "text": [
            "... finished ...\n",
            "query: Wilsons Phalarope q_gt:B since:2020-01-01\n",
            "... retrieving metadata ...\n",
            "Error processing bird 'Wilsons Phalarope': 'ascii' codec can't encode character '\\x92' in position 34: ordinal not in range(128)\n",
            "query: Red-necked Phalarope q_gt:B since:2020-01-01\n",
            "... retrieving metadata ...\n"
          ]
        },
        {
          "output_type": "stream",
          "name": "stderr",
          "text": [
            "process 34828: 100%|██████████| 1/1 [00:01<00:00,  1.18s/it]\n",
            "process 34835: 100%|██████████| 1/1 [00:01<00:00,  1.36s/it]\n",
            "process 34833: 100%|██████████| 1/1 [00:01<00:00,  1.39s/it]\n",
            "process 34824: 100%|██████████| 1/1 [00:01<00:00,  1.61s/it]\n",
            "process 34829: 100%|██████████| 1/1 [00:02<00:00,  2.19s/it]\n",
            "process 34815: 100%|██████████| 2/2 [00:02<00:00,  1.32s/it]\n",
            "process 34802: 100%|██████████| 2/2 [00:03<00:00,  1.64s/it]\n",
            "process 34809: 100%|██████████| 2/2 [00:03<00:00,  1.63s/it]\n",
            "process 34805: 100%|██████████| 2/2 [00:03<00:00,  1.77s/it]\n",
            "process 34800: 100%|██████████| 2/2 [00:03<00:00,  2.00s/it]\n"
          ]
        },
        {
          "output_type": "stream",
          "name": "stdout",
          "text": [
            "... finished ...\n",
            "query: Red Phalarope q_gt:B since:2020-01-01\n",
            "... retrieving metadata ...\n"
          ]
        },
        {
          "output_type": "stream",
          "name": "stderr",
          "text": [
            "process 34971: 100%|██████████| 2/2 [00:03<00:00,  1.59s/it]\n",
            "process 34983: 100%|██████████| 2/2 [00:03<00:00,  1.84s/it]\n",
            "process 34979: 100%|██████████| 2/2 [00:03<00:00,  1.84s/it]\n",
            "process 34967: 100%|██████████| 2/2 [00:04<00:00,  2.06s/it]\n",
            "process 34956: 100%|██████████| 3/3 [00:06<00:00,  2.07s/it]\n",
            "process 34962: 100%|██████████| 3/3 [00:06<00:00,  2.07s/it]\n",
            "process 34966: 100%|██████████| 3/3 [00:06<00:00,  2.12s/it]\n",
            "process 34947: 100%|██████████| 3/3 [00:07<00:00,  2.39s/it]\n",
            "process 34949: 100%|██████████| 3/3 [00:07<00:00,  2.42s/it]\n",
            "process 34946: 100%|██████████| 3/3 [00:07<00:00,  2.58s/it]\n"
          ]
        },
        {
          "output_type": "stream",
          "name": "stdout",
          "text": [
            "... finished ...\n",
            "query: Pomarine Jaeger q_gt:B since:2020-01-01\n",
            "... retrieving metadata ...\n",
            "An unexpected error occurred for bird 'Pomarine Jaeger': integer division or modulo by zero\n",
            "query: Parasitic Jaeger q_gt:B since:2020-01-01\n",
            "... retrieving metadata ...\n"
          ]
        },
        {
          "output_type": "stream",
          "name": "stderr",
          "text": [
            "process 35195: 100%|██████████| 1/1 [00:01<00:00,  1.31s/it]\n",
            "process 35199: 100%|██████████| 1/1 [00:01<00:00,  1.56s/it]\n",
            "process 35177: 100%|██████████| 1/1 [00:01<00:00,  1.82s/it]\n",
            "process 35187: 100%|██████████| 1/1 [00:01<00:00,  1.92s/it]\n",
            "process 35183: 100%|██████████| 1/1 [00:01<00:00,  1.98s/it]\n",
            "process 35194: 100%|██████████| 1/1 [00:01<00:00,  1.98s/it]\n",
            "process 35172: 100%|██████████| 1/1 [00:02<00:00,  2.20s/it]\n",
            "process 35167: 100%|██████████| 2/2 [00:03<00:00,  1.75s/it]\n",
            "process 35169: 100%|██████████| 2/2 [00:03<00:00,  1.84s/it]\n",
            "process 35166: 100%|██████████| 2/2 [00:03<00:00,  1.88s/it]\n"
          ]
        },
        {
          "output_type": "stream",
          "name": "stdout",
          "text": [
            "... finished ...\n",
            "query: Long-tailed Jaeger q_gt:B since:2020-01-01\n",
            "... retrieving metadata ...\n"
          ]
        },
        {
          "output_type": "stream",
          "name": "stderr",
          "text": [
            "process 35304: 100%|██████████| 1/1 [00:01<00:00,  1.90s/it]\n",
            "process 35325: 100%|██████████| 1/1 [00:01<00:00,  1.94s/it]\n",
            "process 35317: 100%|██████████| 1/1 [00:02<00:00,  2.46s/it]\n",
            "process 35321: 100%|██████████| 1/1 [00:02<00:00,  2.51s/it]\n",
            "process 35336: 100%|██████████| 1/1 [00:02<00:00,  2.54s/it]\n",
            "process 35306: 100%|██████████| 1/1 [00:02<00:00,  2.75s/it]\n",
            "process 35330: 100%|██████████| 1/1 [00:02<00:00,  2.64s/it]\n",
            "process 35309: 100%|██████████| 1/1 [00:03<00:00,  3.50s/it]\n",
            "process 35313: 100%|██████████| 1/1 [00:03<00:00,  3.66s/it]\n"
          ]
        },
        {
          "output_type": "stream",
          "name": "stdout",
          "text": [
            "... finished ...\n",
            "query: Laughing Gull q_gt:B since:2020-01-01\n",
            "... retrieving metadata ...\n"
          ]
        },
        {
          "output_type": "stream",
          "name": "stderr",
          "text": [
            "process 35451: 100%|██████████| 3/3 [00:04<00:00,  1.47s/it]\n",
            "process 35443: 100%|██████████| 3/3 [00:04<00:00,  1.61s/it]\n",
            "process 35467: 100%|██████████| 3/3 [00:04<00:00,  1.60s/it]\n",
            "process 35461: 100%|██████████| 3/3 [00:04<00:00,  1.64s/it]\n",
            "process 35459: 100%|██████████| 3/3 [00:04<00:00,  1.65s/it]\n",
            "process 35455: 100%|██████████| 3/3 [00:05<00:00,  1.67s/it]\n",
            "process 35445: 100%|██████████| 3/3 [00:05<00:00,  1.83s/it]\n",
            "process 35433: 100%|██████████| 4/4 [00:06<00:00,  1.51s/it]\n",
            "process 35437: 100%|██████████| 3/3 [00:07<00:00,  2.40s/it]\n",
            "process 35431: 100%|██████████| 4/4 [00:07<00:00,  2.00s/it]\n"
          ]
        },
        {
          "output_type": "stream",
          "name": "stdout",
          "text": [
            "... finished ...\n",
            "query: Little Gull q_gt:B since:2020-01-01\n",
            "... retrieving metadata ...\n"
          ]
        },
        {
          "output_type": "stream",
          "name": "stderr",
          "text": [
            "process 35657: 100%|██████████| 7/7 [00:12<00:00,  1.78s/it]\n",
            "process 35636: 100%|██████████| 7/7 [00:12<00:00,  1.82s/it]\n",
            "process 35638: 100%|██████████| 7/7 [00:12<00:00,  1.84s/it]\n",
            "process 35663: 100%|██████████| 7/7 [00:13<00:00,  1.88s/it]\n",
            "process 35651: 100%|██████████| 7/7 [00:13<00:00,  1.91s/it]\n",
            "process 35653: 100%|██████████| 7/7 [00:13<00:00,  1.92s/it]\n",
            "process 35632: 100%|██████████| 7/7 [00:13<00:00,  1.98s/it]\n",
            "process 35627: 100%|██████████| 7/7 [00:15<00:00,  2.17s/it]\n",
            "process 35629: 100%|██████████| 7/7 [00:15<00:00,  2.24s/it]\n",
            "process 35645: 100%|██████████| 7/7 [00:16<00:00,  2.35s/it]\n"
          ]
        },
        {
          "output_type": "stream",
          "name": "stdout",
          "text": [
            "... finished ...\n",
            "query: Common Black-headed Gull q_gt:B since:2020-01-01\n",
            "... retrieving metadata ...\n",
            "An unexpected error occurred for bird 'Common Black-headed Gull': integer division or modulo by zero\n",
            "query: Bonapartes Gull q_gt:B since:2020-01-01\n",
            "... retrieving metadata ...\n",
            "Error processing bird 'Bonapartes Gull': 'ascii' codec can't encode character '\\x92' in position 37: ordinal not in range(128)\n",
            "query: Ring-billed Gull q_gt:B since:2020-01-01\n",
            "... retrieving metadata ...\n"
          ]
        },
        {
          "output_type": "stream",
          "name": "stderr",
          "text": [
            "process 35987: 100%|██████████| 1/1 [00:01<00:00,  1.44s/it]\n",
            "process 35975: 100%|██████████| 1/1 [00:02<00:00,  2.02s/it]\n",
            "process 35982: 100%|██████████| 1/1 [00:02<00:00,  2.24s/it]\n",
            "process 35985: 100%|██████████| 1/1 [00:02<00:00,  2.39s/it]\n",
            "process 35957: 100%|██████████| 2/2 [00:03<00:00,  1.76s/it]\n",
            "process 35956: 100%|██████████| 2/2 [00:03<00:00,  1.86s/it]\n",
            "process 35963: 100%|██████████| 2/2 [00:03<00:00,  1.85s/it]\n",
            "process 35969: 100%|██████████| 2/2 [00:03<00:00,  1.87s/it]\n",
            "process 35959: 100%|██████████| 2/2 [00:03<00:00,  1.99s/it]\n",
            "process 35971: 100%|██████████| 2/2 [00:04<00:00,  2.16s/it]\n"
          ]
        },
        {
          "output_type": "stream",
          "name": "stdout",
          "text": [
            "... finished ...\n",
            "query: Herring Gull q_gt:B since:2020-01-01\n",
            "... retrieving metadata ...\n"
          ]
        },
        {
          "output_type": "stream",
          "name": "stderr",
          "text": [
            "process 36139: 100%|██████████| 22/22 [00:40<00:00,  1.85s/it]\n",
            "process 36144: 100%|██████████| 21/21 [00:42<00:00,  2.03s/it]\n",
            "process 36140: 100%|██████████| 21/21 [00:42<00:00,  2.04s/it]\n",
            "process 36135: 100%|██████████| 22/22 [00:43<00:00,  1.99s/it]\n",
            "process 36111: 100%|██████████| 22/22 [00:44<00:00,  2.00s/it]\n",
            "process 36125: 100%|██████████| 22/22 [00:44<00:00,  2.02s/it]\n",
            "process 36129: 100%|██████████| 22/22 [00:45<00:00,  2.08s/it]\n",
            "process 36121: 100%|██████████| 22/22 [00:45<00:00,  2.09s/it]\n",
            "process 36119: 100%|██████████| 22/22 [00:50<00:00,  2.29s/it]\n",
            "process 36115: 100%|██████████| 22/22 [00:53<00:00,  2.42s/it]\n"
          ]
        },
        {
          "output_type": "stream",
          "name": "stdout",
          "text": [
            "... finished ...\n",
            "query: Iceland Gull q_gt:B since:2020-01-01\n",
            "... retrieving metadata ...\n"
          ]
        },
        {
          "output_type": "stream",
          "name": "stderr",
          "text": [
            "process 36872: 100%|██████████| 1/1 [00:01<00:00,  1.82s/it]\n",
            "process 36866: 100%|██████████| 1/1 [00:02<00:00,  2.42s/it]\n",
            "process 36870: 100%|██████████| 1/1 [00:02<00:00,  2.49s/it]\n",
            "process 36862: 100%|██████████| 1/1 [00:02<00:00,  2.65s/it]\n",
            "process 36858: 100%|██████████| 1/1 [00:02<00:00,  2.76s/it]\n"
          ]
        },
        {
          "output_type": "stream",
          "name": "stdout",
          "text": [
            "... finished ...\n",
            "query: Lesser Black-backed Gull q_gt:B since:2020-01-01\n",
            "... retrieving metadata ...\n"
          ]
        },
        {
          "output_type": "stream",
          "name": "stderr",
          "text": [
            "process 36967: 100%|██████████| 10/10 [00:18<00:00,  1.82s/it]\n",
            "process 36951: 100%|██████████| 10/10 [00:18<00:00,  1.86s/it]\n",
            "process 36946: 100%|██████████| 11/11 [00:18<00:00,  1.72s/it]\n",
            "process 36961: 100%|██████████| 10/10 [00:19<00:00,  1.93s/it]\n",
            "process 36957: 100%|██████████| 10/10 [00:20<00:00,  2.06s/it]\n",
            "process 36973: 100%|██████████| 10/10 [00:20<00:00,  2.08s/it]\n",
            "process 36965: 100%|██████████| 10/10 [00:21<00:00,  2.10s/it]\n",
            "process 36941: 100%|██████████| 11/11 [00:22<00:00,  2.09s/it]\n",
            "process 36940: 100%|██████████| 11/11 [00:24<00:00,  2.21s/it]\n",
            "process 36943: 100%|██████████| 11/11 [00:26<00:00,  2.43s/it]\n"
          ]
        },
        {
          "output_type": "stream",
          "name": "stdout",
          "text": [
            "... finished ...\n",
            "query: Glaucous Gull q_gt:B since:2020-01-01\n",
            "... retrieving metadata ...\n"
          ]
        },
        {
          "output_type": "stream",
          "name": "stderr",
          "text": [
            "process 37359: 100%|██████████| 1/1 [00:01<00:00,  1.97s/it]\n",
            "process 37360: 100%|██████████| 1/1 [00:02<00:00,  2.19s/it]\n"
          ]
        },
        {
          "output_type": "stream",
          "name": "stdout",
          "text": [
            "... finished ...\n",
            "query: Great Black-backed Gull q_gt:B since:2020-01-01\n",
            "... retrieving metadata ...\n"
          ]
        },
        {
          "output_type": "stream",
          "name": "stderr",
          "text": [
            "process 37451: 100%|██████████| 10/10 [00:16<00:00,  1.64s/it]\n",
            "process 37455: 100%|██████████| 9/9 [00:17<00:00,  1.90s/it]\n",
            "process 37445: 100%|██████████| 10/10 [00:17<00:00,  1.80s/it]\n",
            "process 37438: 100%|██████████| 10/10 [00:18<00:00,  1.81s/it]\n",
            "process 37424: 100%|██████████| 10/10 [00:18<00:00,  1.87s/it]\n",
            "process 37432: 100%|██████████| 10/10 [00:18<00:00,  1.87s/it]\n",
            "process 37436: 100%|██████████| 10/10 [00:18<00:00,  1.88s/it]\n",
            "process 37431: 100%|██████████| 10/10 [00:20<00:00,  2.02s/it]\n",
            "process 37421: 100%|██████████| 10/10 [00:24<00:00,  2.46s/it]\n",
            "process 37419: 100%|██████████| 10/10 [00:25<00:00,  2.53s/it]\n"
          ]
        },
        {
          "output_type": "stream",
          "name": "stdout",
          "text": [
            "... finished ...\n",
            "query: Black-legged Kittiwake q_gt:B since:2020-01-01\n",
            "... retrieving metadata ...\n"
          ]
        },
        {
          "output_type": "stream",
          "name": "stderr",
          "text": [
            "process 37844: 100%|██████████| 8/8 [00:13<00:00,  1.67s/it]\n",
            "process 37837: 100%|██████████| 8/8 [00:15<00:00,  2.00s/it]\n",
            "process 37856: 100%|██████████| 8/8 [00:15<00:00,  1.99s/it]\n",
            "process 37852:  88%|████████▊ | 7/8 [00:16<00:02,  2.54s/it]\n",
            "process 37860: 100%|██████████| 8/8 [00:17<00:00,  2.21s/it]\n",
            "process 37852: 100%|██████████| 8/8 [00:18<00:00,  2.27s/it]\n",
            "process 37828: 100%|██████████| 8/8 [00:19<00:00,  2.41s/it]\n",
            "process 37848: 100%|██████████| 8/8 [00:20<00:00,  2.51s/it]\n",
            "process 37827: 100%|██████████| 9/9 [00:21<00:00,  2.39s/it]\n",
            "process 37833: 100%|██████████| 8/8 [00:23<00:00,  2.97s/it]\n"
          ]
        },
        {
          "output_type": "stream",
          "name": "stdout",
          "text": [
            "... finished ...\n",
            "query: Gull-billed Tern q_gt:B since:2020-01-01\n",
            "... retrieving metadata ...\n"
          ]
        },
        {
          "output_type": "stream",
          "name": "stderr",
          "text": [
            "process 38222: 100%|██████████| 6/6 [00:09<00:00,  1.57s/it]\n",
            "process 38214: 100%|██████████| 6/6 [00:10<00:00,  1.70s/it]\n",
            "process 38199: 100%|██████████| 6/6 [00:11<00:00,  1.97s/it]\n",
            "process 38218: 100%|██████████| 6/6 [00:11<00:00,  1.97s/it]\n",
            "process 38210: 100%|██████████| 6/6 [00:11<00:00,  2.00s/it]\n",
            "process 38198: 100%|██████████| 6/6 [00:12<00:00,  2.03s/it]\n",
            "process 38189: 100%|██████████| 6/6 [00:12<00:00,  2.14s/it]\n",
            "process 38192: 100%|██████████| 6/6 [00:14<00:00,  2.40s/it]\n",
            "process 38190: 100%|██████████| 6/6 [00:15<00:00,  2.65s/it]\n",
            "process 38206: 100%|██████████| 6/6 [00:17<00:00,  2.99s/it]\n"
          ]
        },
        {
          "output_type": "stream",
          "name": "stdout",
          "text": [
            "... finished ...\n",
            "query: Caspian Tern q_gt:B since:2020-01-01\n",
            "... retrieving metadata ...\n"
          ]
        },
        {
          "output_type": "stream",
          "name": "stderr",
          "text": [
            "process 38545: 100%|██████████| 11/11 [00:17<00:00,  1.62s/it]\n",
            "process 38549: 100%|██████████| 11/11 [00:18<00:00,  1.68s/it]\n",
            "process 38536: 100%|██████████| 11/11 [00:19<00:00,  1.75s/it]\n",
            "process 38541: 100%|██████████| 11/11 [00:19<00:00,  1.74s/it]\n",
            "process 38530: 100%|██████████| 11/11 [00:19<00:00,  1.77s/it]\n",
            "process 38538: 100%|██████████| 11/11 [00:20<00:00,  1.88s/it]\n",
            "process 38518: 100%|██████████| 12/12 [00:22<00:00,  1.84s/it]\n",
            "process 38516: 100%|██████████| 12/12 [00:22<00:00,  1.88s/it]\n",
            "process 38526: 100%|██████████| 11/11 [00:28<00:00,  2.56s/it]\n",
            "process 38524: 100%|██████████| 12/12 [00:30<00:00,  2.57s/it]\n"
          ]
        },
        {
          "output_type": "stream",
          "name": "stdout",
          "text": [
            "... finished ...\n",
            "query: Royal Tern q_gt:B since:2020-01-01\n",
            "... retrieving metadata ...\n"
          ]
        },
        {
          "output_type": "stream",
          "name": "stderr",
          "text": [
            "process 39036: 100%|██████████| 2/2 [00:02<00:00,  1.37s/it]\n",
            "process 39031: 100%|██████████| 2/2 [00:03<00:00,  1.50s/it]\n",
            "process 39025: 100%|██████████| 2/2 [00:03<00:00,  1.51s/it]\n",
            "process 39033: 100%|██████████| 2/2 [00:03<00:00,  1.53s/it]\n",
            "process 39019: 100%|██████████| 2/2 [00:03<00:00,  1.74s/it]\n",
            "process 39023: 100%|██████████| 2/2 [00:03<00:00,  1.87s/it]\n",
            "process 39011: 100%|██████████| 2/2 [00:03<00:00,  1.97s/it]\n",
            "process 39008: 100%|██████████| 2/2 [00:04<00:00,  2.08s/it]\n",
            "process 39018: 100%|██████████| 2/2 [00:04<00:00,  2.19s/it]\n",
            "process 39006: 100%|██████████| 3/3 [00:05<00:00,  1.86s/it]\n"
          ]
        },
        {
          "output_type": "stream",
          "name": "stdout",
          "text": [
            "... finished ...\n",
            "query: Roseate Tern q_gt:B since:2020-01-01\n",
            "... retrieving metadata ...\n"
          ]
        },
        {
          "output_type": "stream",
          "name": "stderr",
          "text": [
            "process 39256: 100%|██████████| 6/6 [00:09<00:00,  1.53s/it]\n",
            "process 39262: 100%|██████████| 6/6 [00:09<00:00,  1.54s/it]\n",
            "process 39251: 100%|██████████| 6/6 [00:11<00:00,  1.85s/it]\n",
            "process 39241: 100%|██████████| 7/7 [00:12<00:00,  1.74s/it]\n",
            "process 39228: 100%|██████████| 7/7 [00:12<00:00,  1.81s/it]\n",
            "process 39238: 100%|██████████| 7/7 [00:12<00:00,  1.82s/it]\n",
            "process 39243: 100%|██████████| 7/7 [00:12<00:00,  1.82s/it]\n",
            "process 39245: 100%|██████████| 6/6 [00:13<00:00,  2.31s/it]\n",
            "process 39226: 100%|██████████| 7/7 [00:14<00:00,  2.14s/it]\n",
            "process 39231: 100%|██████████| 7/7 [00:15<00:00,  2.18s/it]\n"
          ]
        },
        {
          "output_type": "stream",
          "name": "stdout",
          "text": [
            "... finished ...\n",
            "query: Common Tern q_gt:B since:2020-01-01\n",
            "... retrieving metadata ...\n"
          ]
        },
        {
          "output_type": "stream",
          "name": "stderr",
          "text": [
            "process 39603: 100%|██████████| 23/23 [00:48<00:00,  2.13s/it]\n",
            "process 39602: 100%|██████████| 23/23 [00:50<00:00,  2.19s/it]\n",
            "process 39592: 100%|██████████| 24/24 [00:52<00:00,  2.20s/it]\n",
            "process 39596: 100%|██████████| 24/24 [00:53<00:00,  1.92s/it]\n",
            "process 39570: 100%|██████████| 24/24 [00:54<00:00,  2.26s/it]\n",
            "process 39610: 100%|██████████| 23/23 [00:55<00:00,  2.40s/it]\n",
            "process 39575: 100%|██████████| 24/24 [00:55<00:00,  2.32s/it]\n",
            "process 39590: 100%|██████████| 24/24 [00:57<00:00,  2.40s/it]\n",
            "process 39582: 100%|██████████| 24/24 [01:02<00:00,  2.59s/it]\n",
            "process 39572: 100%|██████████| 24/24 [01:04<00:00,  2.71s/it]\n"
          ]
        },
        {
          "output_type": "stream",
          "name": "stdout",
          "text": [
            "... finished ...\n",
            "query: Forsters Tern q_gt:B since:2020-01-01\n",
            "... retrieving metadata ...\n",
            "Error processing bird 'Forsters Tern': 'ascii' codec can't encode character '\\x92' in position 35: ordinal not in range(128)\n",
            "query: Least Tern q_gt:B since:2020-01-01\n",
            "... retrieving metadata ...\n"
          ]
        },
        {
          "output_type": "stream",
          "name": "stderr",
          "text": [
            "process 40466: 100%|██████████| 4/4 [00:06<00:00,  1.58s/it]\n",
            "process 40472: 100%|██████████| 4/4 [00:06<00:00,  1.72s/it]\n",
            "process 40470: 100%|██████████| 4/4 [00:06<00:00,  1.74s/it]\n",
            "process 40490: 100%|██████████| 4/4 [00:07<00:00,  1.80s/it]\n",
            "process 40482: 100%|██████████| 4/4 [00:07<00:00,  1.90s/it]\n",
            "process 40476: 100%|██████████| 4/4 [00:07<00:00,  1.93s/it]\n",
            "process 40486: 100%|██████████| 4/4 [00:07<00:00,  1.92s/it]\n",
            "process 40459: 100%|██████████| 4/4 [00:08<00:00,  2.05s/it]\n",
            "process 40456: 100%|██████████| 5/5 [00:08<00:00,  1.67s/it]\n",
            "process 40454: 100%|██████████| 5/5 [00:12<00:00,  2.50s/it]\n"
          ]
        },
        {
          "output_type": "stream",
          "name": "stdout",
          "text": [
            "... finished ...\n",
            "query: Black Tern q_gt:B since:2020-01-01\n",
            "... retrieving metadata ...\n"
          ]
        },
        {
          "output_type": "stream",
          "name": "stderr",
          "text": [
            "process 40747: 100%|██████████| 8/8 [00:11<00:00,  1.47s/it]\n",
            "process 40751: 100%|██████████| 8/8 [00:13<00:00,  1.80s/it]\n",
            "process 40741: 100%|██████████| 8/8 [00:14<00:00,  1.76s/it]\n",
            "process 40756: 100%|██████████| 8/8 [00:14<00:00,  1.84s/it]\n",
            "process 40763: 100%|██████████| 8/8 [00:15<00:00,  1.90s/it]\n",
            "process 40739: 100%|██████████| 8/8 [00:15<00:00,  1.94s/it]\n",
            "process 40759: 100%|██████████| 8/8 [00:16<00:00,  2.03s/it]\n",
            "process 40732: 100%|██████████| 9/9 [00:18<00:00,  2.10s/it]\n",
            "process 40735: 100%|██████████| 9/9 [00:19<00:00,  2.12s/it]\n",
            "process 40730: 100%|██████████| 9/9 [00:20<00:00,  2.23s/it]\n"
          ]
        },
        {
          "output_type": "stream",
          "name": "stdout",
          "text": [
            "... finished ...\n",
            "query: Black Skimmer q_gt:B since:2020-01-01\n",
            "... retrieving metadata ...\n"
          ]
        },
        {
          "output_type": "stream",
          "name": "stderr",
          "text": [
            "process 41142: 100%|██████████| 2/2 [00:02<00:00,  1.15s/it]\n",
            "process 41146: 100%|██████████| 2/2 [00:02<00:00,  1.34s/it]\n",
            "process 41153: 100%|██████████| 2/2 [00:02<00:00,  1.46s/it]\n",
            "process 41155: 100%|██████████| 2/2 [00:03<00:00,  1.59s/it]\n",
            "process 41154: 100%|██████████| 2/2 [00:03<00:00,  1.66s/it]\n",
            "process 41138: 100%|██████████| 2/2 [00:03<00:00,  1.78s/it]\n",
            "process 41125: 100%|██████████| 3/3 [00:05<00:00,  1.93s/it]\n",
            "process 41134: 100%|██████████| 3/3 [00:06<00:00,  2.27s/it]\n",
            "process 41126: 100%|██████████| 3/3 [00:07<00:00,  2.52s/it]\n",
            "process 41128: 100%|██████████| 3/3 [00:07<00:00,  2.53s/it]\n"
          ]
        },
        {
          "output_type": "stream",
          "name": "stdout",
          "text": [
            "... finished ...\n",
            "query: Dovekie q_gt:B since:2020-01-01\n",
            "... retrieving metadata ...\n",
            "An unexpected error occurred for bird 'Dovekie': integer division or modulo by zero\n",
            "query: Thick-billed Murre q_gt:B since:2020-01-01\n",
            "... retrieving metadata ...\n"
          ]
        },
        {
          "output_type": "stream",
          "name": "stderr",
          "text": [
            "process 41422: 100%|██████████| 1/1 [00:01<00:00,  1.96s/it]\n",
            "process 41427: 100%|██████████| 1/1 [00:02<00:00,  2.13s/it]\n",
            "process 41424: 100%|██████████| 1/1 [00:02<00:00,  2.43s/it]\n"
          ]
        },
        {
          "output_type": "stream",
          "name": "stdout",
          "text": [
            "... finished ...\n",
            "query: Razorbill q_gt:B since:2020-01-01\n",
            "... retrieving metadata ...\n"
          ]
        },
        {
          "output_type": "stream",
          "name": "stderr",
          "text": [
            "process 41534: 100%|██████████| 2/2 [00:03<00:00,  1.58s/it]\n",
            "process 41524: 100%|██████████| 2/2 [00:03<00:00,  1.79s/it]\n",
            "process 41528: 100%|██████████| 2/2 [00:03<00:00,  1.83s/it]\n",
            "process 41515: 100%|██████████| 3/3 [00:04<00:00,  1.57s/it]\n",
            "process 41511: 100%|██████████| 3/3 [00:04<00:00,  1.59s/it]\n",
            "process 41522: 100%|██████████| 3/3 [00:05<00:00,  1.74s/it]\n",
            "process 41510: 100%|██████████| 3/3 [00:05<00:00,  1.85s/it]\n",
            "process 41498: 100%|██████████| 3/3 [00:06<00:00,  2.13s/it]\n",
            "process 41500: 100%|██████████| 3/3 [00:06<00:00,  2.23s/it]\n",
            "process 41503: 100%|██████████| 3/3 [00:07<00:00,  2.40s/it]\n"
          ]
        },
        {
          "output_type": "stream",
          "name": "stdout",
          "text": [
            "... finished ...\n",
            "query: Rock Dove q_gt:B since:2020-01-01\n",
            "... retrieving metadata ...\n"
          ]
        },
        {
          "output_type": "stream",
          "name": "stderr",
          "text": [
            "process 41716: 100%|██████████| 2/2 [00:04<00:00,  2.04s/it]\n",
            "process 41691: 100%|██████████| 3/3 [00:05<00:00,  1.68s/it]\n",
            "process 41697: 100%|██████████| 3/3 [00:05<00:00,  1.80s/it]\n",
            "process 41685: 100%|██████████| 3/3 [00:05<00:00,  1.90s/it]\n",
            "process 41682: 100%|██████████| 3/3 [00:05<00:00,  1.94s/it]\n",
            "process 41705: 100%|██████████| 3/3 [00:05<00:00,  1.89s/it]\n",
            "process 41710: 100%|██████████| 3/3 [00:05<00:00,  1.93s/it]\n",
            "process 41687: 100%|██████████| 3/3 [00:06<00:00,  2.16s/it]\n",
            "process 41699: 100%|██████████| 3/3 [00:06<00:00,  2.23s/it]\n",
            "process 41680: 100%|██████████| 3/3 [00:08<00:00,  2.78s/it]\n"
          ]
        },
        {
          "output_type": "stream",
          "name": "stdout",
          "text": [
            "... finished ...\n",
            "query: Mourning Dove q_gt:B since:2020-01-01\n",
            "... retrieving metadata ...\n"
          ]
        },
        {
          "output_type": "stream",
          "name": "stderr",
          "text": [
            "process 41899: 100%|██████████| 2/2 [00:04<00:00,  2.36s/it]\n",
            "process 41883: 100%|██████████| 2/2 [00:05<00:00,  2.56s/it]\n",
            "process 41892: 100%|██████████| 2/2 [00:05<00:00,  2.58s/it]\n",
            "process 41904: 100%|██████████| 2/2 [00:05<00:00,  2.57s/it]\n",
            "process 41879: 100%|██████████| 2/2 [00:05<00:00,  2.72s/it]\n",
            "process 41898: 100%|██████████| 2/2 [00:05<00:00,  2.74s/it]\n",
            "process 41866: 100%|██████████| 3/3 [00:06<00:00,  2.23s/it]\n",
            "process 41871: 100%|██████████| 3/3 [00:07<00:00,  2.66s/it]\n",
            "\n",
            "process 41875: 100%|██████████| 3/3 [00:08<00:00,  2.80s/it]\n"
          ]
        },
        {
          "output_type": "stream",
          "name": "stdout",
          "text": [
            "... finished ...\n",
            "query: Black-billed Cuckoo q_gt:B since:2020-01-01\n",
            "... retrieving metadata ...\n"
          ]
        },
        {
          "output_type": "stream",
          "name": "stderr",
          "text": [
            "process 42074: 100%|██████████| 1/1 [00:01<00:00,  1.15s/it]\n",
            "process 42046: 100%|██████████| 1/1 [00:01<00:00,  1.80s/it]\n",
            "process 42060: 100%|██████████| 1/1 [00:01<00:00,  1.74s/it]\n",
            "process 42047: 100%|██████████| 1/1 [00:01<00:00,  1.93s/it]\n",
            "process 42059: 100%|██████████| 1/1 [00:01<00:00,  1.91s/it]\n",
            "process 42058: 100%|██████████| 1/1 [00:01<00:00,  1.95s/it]\n",
            "process 42051: 100%|██████████| 1/1 [00:02<00:00,  2.64s/it]\n"
          ]
        },
        {
          "output_type": "stream",
          "name": "stdout",
          "text": [
            "... finished ...\n",
            "query: Yellow-billed Cuckoo q_gt:B since:2020-01-01\n",
            "... retrieving metadata ...\n"
          ]
        },
        {
          "output_type": "stream",
          "name": "stderr",
          "text": [
            "process 42174: 100%|██████████| 1/1 [00:01<00:00,  1.64s/it]\n",
            "process 42169: 100%|██████████| 1/1 [00:01<00:00,  1.88s/it]\n",
            "process 42165: 100%|██████████| 1/1 [00:02<00:00,  2.31s/it]\n",
            "process 42165: 100%|██████████| 1/1 [00:02<00:00,  2.32s/it]\n",
            "process 42173: 100%|██████████| 1/1 [00:02<00:00,  2.48s/it]\n",
            "process 42154: 100%|██████████| 2/2 [00:03<00:00,  1.53s/it]\n",
            "process 42162: 100%|██████████| 2/2 [00:03<00:00,  1.87s/it]\n",
            "process 42148: 100%|██████████| 2/2 [00:03<00:00,  1.99s/it]\n",
            "process 42160: 100%|██████████| 2/2 [00:04<00:00,  2.24s/it]\n",
            "process 42150: 100%|██████████| 2/2 [00:05<00:00,  2.55s/it]\n"
          ]
        },
        {
          "output_type": "stream",
          "name": "stdout",
          "text": [
            "... finished ...\n",
            "query: Common Barn Owl q_gt:B since:2020-01-01\n",
            "... retrieving metadata ...\n",
            "An unexpected error occurred for bird 'Common Barn Owl': integer division or modulo by zero\n",
            "query: Eastern Screech Owl q_gt:B since:2020-01-01\n",
            "... retrieving metadata ...\n"
          ]
        },
        {
          "output_type": "stream",
          "name": "stderr",
          "text": [
            "process 42346: 100%|██████████| 1/1 [00:01<00:00,  1.42s/it]\n",
            "process 42349: 100%|██████████| 1/1 [00:02<00:00,  2.83s/it]\n",
            "process 42338: 100%|██████████| 2/2 [00:03<00:00,  1.86s/it]\n",
            "process 42312: 100%|██████████| 2/2 [00:03<00:00,  1.97s/it]\n",
            "process 42318: 100%|██████████| 2/2 [00:04<00:00,  2.11s/it]\n",
            "process 42324: 100%|██████████| 2/2 [00:04<00:00,  2.29s/it]\n",
            "process 42314: 100%|██████████| 2/2 [00:04<00:00,  2.41s/it]\n",
            "process 42344: 100%|██████████| 2/2 [00:05<00:00,  2.55s/it]\n",
            "process 42327: 100%|██████████| 2/2 [00:06<00:00,  3.02s/it]\n",
            "process 42330: 100%|██████████| 2/2 [00:07<00:00,  3.72s/it]\n"
          ]
        },
        {
          "output_type": "stream",
          "name": "stdout",
          "text": [
            "... finished ...\n",
            "query: Great Horned Owl q_gt:B since:2020-01-01\n",
            "... retrieving metadata ...\n"
          ]
        },
        {
          "output_type": "stream",
          "name": "stderr",
          "text": [
            "process 42508: 100%|██████████| 7/7 [00:13<00:00,  2.00s/it]\n",
            "\n",
            "process 42485: 100%|██████████| 7/7 [00:14<00:00,  2.02s/it]\n",
            "process 42498: 100%|██████████| 7/7 [00:14<00:00,  2.03s/it]\n",
            "process 42504: 100%|██████████| 7/7 [00:14<00:00,  2.05s/it]\n",
            "process 42514: 100%|██████████| 7/7 [00:14<00:00,  2.05s/it]\n",
            "process 42512: 100%|██████████| 7/7 [00:16<00:00,  2.33s/it]\n",
            "process 42487: 100%|██████████| 7/7 [00:16<00:00,  2.41s/it]\n",
            "process 42478: 100%|██████████| 8/8 [00:17<00:00,  2.14s/it]\n",
            "process 42476: 100%|██████████| 8/8 [00:18<00:00,  2.26s/it]\n"
          ]
        },
        {
          "output_type": "stream",
          "name": "stdout",
          "text": [
            "... finished ...\n",
            "query: Snowy Owl q_gt:B since:2020-01-01\n",
            "... retrieving metadata ...\n"
          ]
        },
        {
          "output_type": "stream",
          "name": "stderr",
          "text": [
            "process 42804: 100%|██████████| 1/1 [00:01<00:00,  1.41s/it]\n",
            "process 42802: 100%|██████████| 1/1 [00:01<00:00,  1.44s/it]\n",
            "process 42801: 100%|██████████| 1/1 [00:02<00:00,  2.50s/it]\n"
          ]
        },
        {
          "output_type": "stream",
          "name": "stdout",
          "text": [
            "... finished ...\n",
            "query: Barred Owl q_gt:B since:2020-01-01\n",
            "... retrieving metadata ...\n"
          ]
        },
        {
          "output_type": "stream",
          "name": "stderr",
          "text": [
            "process 42888: 100%|██████████| 10/10 [00:19<00:00,  1.95s/it]\n",
            "process 42898: 100%|██████████| 10/10 [00:19<00:00,  1.97s/it]\n",
            "process 42902: 100%|██████████| 10/10 [00:19<00:00,  1.99s/it]\n",
            "process 42870: 100%|██████████| 10/10 [00:20<00:00,  2.01s/it]\n",
            "process 42891: 100%|██████████| 10/10 [00:21<00:00,  2.11s/it]\n",
            "process 42873: 100%|██████████| 10/10 [00:21<00:00,  2.12s/it]\n",
            "process 42868: 100%|██████████| 10/10 [00:22<00:00,  2.25s/it]\n",
            "process 42875: 100%|██████████| 10/10 [00:22<00:00,  2.29s/it]\n",
            "process 42889: 100%|██████████| 10/10 [00:23<00:00,  2.38s/it]\n",
            "process 42881: 100%|██████████| 10/10 [00:24<00:00,  2.42s/it]\n"
          ]
        },
        {
          "output_type": "stream",
          "name": "stdout",
          "text": [
            "... finished ...\n",
            "query: Long-eared Owl q_gt:B since:2020-01-01\n",
            "... retrieving metadata ...\n"
          ]
        },
        {
          "output_type": "stream",
          "name": "stderr",
          "text": [
            "process 43306: 100%|██████████| 4/4 [00:10<00:00,  2.52s/it]\n",
            "process 43310: 100%|██████████| 4/4 [00:10<00:00,  2.60s/it]\n",
            "process 43314: 100%|██████████| 4/4 [00:10<00:00,  2.57s/it]\n",
            "process 43300: 100%|██████████| 5/5 [00:11<00:00,  2.32s/it]\n",
            "process 43322: 100%|██████████| 4/4 [00:10<00:00,  2.68s/it]\n",
            "process 43298: 100%|██████████| 5/5 [00:12<00:00,  2.45s/it]\n",
            "process 43289: 100%|██████████| 5/5 [00:12<00:00,  2.52s/it]\n",
            "process 43294: 100%|██████████| 5/5 [00:13<00:00,  2.62s/it]\n",
            "process 43278: 100%|██████████| 5/5 [00:13<00:00,  2.80s/it]\n",
            "process 43280: 100%|██████████| 5/5 [00:19<00:00,  3.91s/it]\n"
          ]
        },
        {
          "output_type": "stream",
          "name": "stdout",
          "text": [
            "... finished ...\n",
            "query: Short-eared Owl q_gt:B since:2020-01-01\n",
            "... retrieving metadata ...\n"
          ]
        },
        {
          "output_type": "stream",
          "name": "stderr",
          "text": [
            "process 43587: 100%|██████████| 3/3 [00:06<00:00,  2.05s/it]\n",
            "process 43552: 100%|██████████| 4/4 [00:06<00:00,  1.66s/it]\n",
            "process 43556: 100%|██████████| 4/4 [00:07<00:00,  1.78s/it]\n",
            "process 43565: 100%|██████████| 4/4 [00:07<00:00,  1.91s/it]\n",
            "process 43575: 100%|██████████| 4/4 [00:07<00:00,  1.92s/it]\n",
            "process 43579: 100%|██████████| 4/4 [00:07<00:00,  1.93s/it]\n",
            "process 43568: 100%|██████████| 4/4 [00:08<00:00,  2.05s/it]\n",
            "process 43559: 100%|██████████| 4/4 [00:08<00:00,  2.22s/it]\n",
            "process 43550: 100%|██████████| 4/4 [00:09<00:00,  2.30s/it]\n",
            "process 43571: 100%|██████████| 4/4 [00:09<00:00,  2.29s/it]\n"
          ]
        },
        {
          "output_type": "stream",
          "name": "stdout",
          "text": [
            "... finished ...\n",
            "query: Northern Saw-whet Owl q_gt:B since:2020-01-01\n",
            "... retrieving metadata ...\n"
          ]
        },
        {
          "output_type": "stream",
          "name": "stderr",
          "text": [
            "process 43767: 100%|██████████| 3/3 [00:03<00:00,  1.25s/it]\n",
            "process 43778: 100%|██████████| 2/2 [00:04<00:00,  2.00s/it]\n",
            "process 43792: 100%|██████████| 2/2 [00:04<00:00,  2.08s/it]\n",
            "process 43793: 100%|██████████| 2/2 [00:04<00:00,  2.13s/it]\n",
            "process 43786: 100%|██████████| 2/2 [00:04<00:00,  2.27s/it]\n",
            "process 43790: 100%|██████████| 2/2 [00:04<00:00,  2.48s/it]\n",
            "process 43772: 100%|██████████| 3/3 [00:05<00:00,  1.79s/it]\n",
            "process 43770: 100%|██████████| 3/3 [00:06<00:00,  2.00s/it]\n",
            "process 43785: 100%|██████████| 2/2 [00:06<00:00,  3.29s/it]\n",
            "process 43765: 100%|██████████| 3/3 [00:07<00:00,  2.50s/it]\n"
          ]
        },
        {
          "output_type": "stream",
          "name": "stdout",
          "text": [
            "... finished ...\n",
            "query: Common Nighthawk q_gt:B since:2020-01-01\n",
            "... retrieving metadata ...\n"
          ]
        },
        {
          "output_type": "stream",
          "name": "stderr",
          "text": [
            "process 43987: 100%|██████████| 2/2 [00:03<00:00,  1.53s/it]\n",
            "process 43960: 100%|██████████| 2/2 [00:03<00:00,  1.62s/it]\n",
            "process 43959: 100%|██████████| 2/2 [00:03<00:00,  1.76s/it]\n",
            "process 43964: 100%|██████████| 2/2 [00:03<00:00,  1.77s/it]\n",
            "process 43977: 100%|██████████| 2/2 [00:03<00:00,  1.87s/it]\n",
            "process 43968: 100%|██████████| 2/2 [00:03<00:00,  1.92s/it]\n",
            "process 43983: 100%|██████████| 2/2 [00:04<00:00,  2.10s/it]\n",
            "process 43970: 100%|██████████| 2/2 [00:04<00:00,  2.18s/it]\n",
            "process 43955: 100%|██████████| 2/2 [00:05<00:00,  2.71s/it]\n",
            "process 43951: 100%|██████████| 3/3 [00:06<00:00,  2.21s/it]\n"
          ]
        },
        {
          "output_type": "stream",
          "name": "stdout",
          "text": [
            "... finished ...\n",
            "query: Chuck-wills-widow q_gt:B since:2020-01-01\n",
            "... retrieving metadata ...\n",
            "Error processing bird 'Chuck-wills-widow': 'ascii' codec can't encode character '\\x92' in position 38: ordinal not in range(128)\n",
            "query: Whip-poor-will q_gt:B since:2020-01-01\n",
            "... retrieving metadata ...\n"
          ]
        },
        {
          "output_type": "stream",
          "name": "stderr",
          "text": [
            "process 44158: 100%|██████████| 4/4 [00:06<00:00,  1.57s/it]\n",
            "process 44147: 100%|██████████| 4/4 [00:07<00:00,  1.85s/it]\n",
            "process 44168: 100%|██████████| 4/4 [00:07<00:00,  1.95s/it]\n",
            "process 44164: 100%|██████████| 4/4 [00:07<00:00,  1.96s/it]\n",
            "process 44178: 100%|██████████| 4/4 [00:08<00:00,  2.07s/it]\n",
            "process 44171: 100%|██████████| 4/4 [00:08<00:00,  2.09s/it]\n",
            "process 44154: 100%|██████████| 4/4 [00:08<00:00,  2.19s/it]\n",
            "process 44160: 100%|██████████| 4/4 [00:11<00:00,  2.84s/it]\n",
            "process 44151: 100%|██████████| 4/4 [00:12<00:00,  3.02s/it]\n",
            "process 44145: 100%|██████████| 5/5 [00:12<00:00,  2.55s/it]\n"
          ]
        },
        {
          "output_type": "stream",
          "name": "stdout",
          "text": [
            "... finished ...\n",
            "query: Chimney Swift q_gt:B since:2020-01-01\n",
            "... retrieving metadata ...\n"
          ]
        },
        {
          "output_type": "stream",
          "name": "stderr",
          "text": [
            "process 44384: 100%|██████████| 1/1 [00:01<00:00,  1.31s/it]\n",
            "process 44381: 100%|██████████| 1/1 [00:01<00:00,  1.75s/it]\n",
            "process 44379: 100%|██████████| 1/1 [00:01<00:00,  1.96s/it]\n"
          ]
        },
        {
          "output_type": "stream",
          "name": "stdout",
          "text": [
            "... finished ...\n",
            "query: Ruby-throated Hummingbird q_gt:B since:2020-01-01\n",
            "... retrieving metadata ...\n"
          ]
        },
        {
          "output_type": "stream",
          "name": "stderr",
          "text": [
            "process 44435: 100%|██████████| 1/1 [00:01<00:00,  1.76s/it]\n",
            "process 44443: 100%|██████████| 1/1 [00:01<00:00,  1.79s/it]\n",
            "process 44433: 100%|██████████| 1/1 [00:02<00:00,  2.25s/it]\n",
            "process 44449: 100%|██████████| 1/1 [00:02<00:00,  2.24s/it]\n"
          ]
        },
        {
          "output_type": "stream",
          "name": "stdout",
          "text": [
            "... finished ...\n",
            "query: Belted Kingfisher q_gt:B since:2020-01-01\n",
            "... retrieving metadata ...\n"
          ]
        },
        {
          "output_type": "stream",
          "name": "stderr",
          "text": [
            "process 44529: 100%|██████████| 1/1 [00:01<00:00,  1.77s/it]\n",
            "process 44526: 100%|██████████| 1/1 [00:01<00:00,  1.92s/it]\n",
            "process 44540: 100%|██████████| 1/1 [00:01<00:00,  1.96s/it]\n",
            "process 44536: 100%|██████████| 1/1 [00:02<00:00,  2.60s/it]\n",
            "process 44510: 100%|██████████| 2/2 [00:03<00:00,  1.81s/it]\n",
            "process 44523: 100%|██████████| 2/2 [00:03<00:00,  1.81s/it]\n",
            "process 44508: 100%|██████████| 2/2 [00:04<00:00,  2.25s/it]\n",
            "process 44524: 100%|██████████| 2/2 [00:04<00:00,  2.47s/it]\n",
            "process 44507: 100%|██████████| 2/2 [00:05<00:00,  2.65s/it]\n",
            "process 44513: 100%|██████████| 2/2 [00:05<00:00,  2.93s/it]\n"
          ]
        },
        {
          "output_type": "stream",
          "name": "stdout",
          "text": [
            "... finished ...\n",
            "query: Red-headed Woodpecker q_gt:B since:2020-01-01\n",
            "... retrieving metadata ...\n"
          ]
        },
        {
          "output_type": "stream",
          "name": "stderr",
          "text": [
            "process 44705: 100%|██████████| 2/2 [00:03<00:00,  1.62s/it]\n",
            "process 44685: 100%|██████████| 2/2 [00:03<00:00,  1.88s/it]\n",
            "process 44690: 100%|██████████| 2/2 [00:04<00:00,  2.01s/it]\n",
            "process 44696: 100%|██████████| 2/2 [00:04<00:00,  2.08s/it]\n",
            "process 44710: 100%|██████████| 2/2 [00:04<00:00,  2.04s/it]\n",
            "process 44699: 100%|██████████| 2/2 [00:04<00:00,  2.09s/it]\n",
            "process 44704: 100%|██████████| 2/2 [00:04<00:00,  2.11s/it]\n",
            "process 44682: 100%|██████████| 3/3 [00:06<00:00,  2.03s/it]\n",
            "process 44680: 100%|██████████| 3/3 [00:06<00:00,  2.20s/it]\n",
            "process 44679: 100%|██████████| 3/3 [00:10<00:00,  3.45s/it]\n"
          ]
        },
        {
          "output_type": "stream",
          "name": "stdout",
          "text": [
            "... finished ...\n",
            "query: Red-bellied Woodpecker q_gt:B since:2020-01-01\n",
            "... retrieving metadata ...\n"
          ]
        },
        {
          "output_type": "stream",
          "name": "stderr",
          "text": [
            "process 44933: 100%|██████████| 3/3 [00:05<00:00,  1.76s/it]\n",
            "process 44925: 100%|██████████| 3/3 [00:05<00:00,  1.83s/it]\n",
            "process 44928: 100%|██████████| 3/3 [00:05<00:00,  1.97s/it]\n",
            "process 44937: 100%|██████████| 3/3 [00:06<00:00,  2.03s/it]\n",
            "process 44920: 100%|██████████| 3/3 [00:06<00:00,  2.11s/it]\n",
            "process 44908: 100%|██████████| 4/4 [00:07<00:00,  1.88s/it]\n",
            "process 44917: 100%|██████████| 4/4 [00:07<00:00,  2.00s/it]\n",
            "process 44903: 100%|██████████| 4/4 [00:09<00:00,  2.27s/it]\n",
            "process 44915: 100%|██████████| 4/4 [00:09<00:00,  2.28s/it]\n",
            "process 44905: 100%|██████████| 4/4 [00:11<00:00,  2.75s/it]\n"
          ]
        },
        {
          "output_type": "stream",
          "name": "stdout",
          "text": [
            "... finished ...\n",
            "query: Yellow-bellied Sapsucker q_gt:B since:2020-01-01\n",
            "... retrieving metadata ...\n"
          ]
        },
        {
          "output_type": "stream",
          "name": "stderr",
          "text": [
            "process 45183: 100%|██████████| 2/2 [00:03<00:00,  1.76s/it]\n",
            "process 45155:  33%|███▎      | 1/3 [00:03<00:07,  3.69s/it]\n",
            "process 45176: 100%|██████████| 2/2 [00:04<00:00,  2.01s/it]\n",
            "process 45180: 100%|██████████| 2/2 [00:04<00:00,  2.31s/it]\n",
            "process 45170: 100%|██████████| 2/2 [00:05<00:00,  2.61s/it]\n",
            "process 45149: 100%|██████████| 3/3 [00:05<00:00,  1.97s/it]\n",
            "process 45151: 100%|██████████| 3/3 [00:05<00:00,  1.98s/it]\n",
            "process 45161: 100%|██████████| 3/3 [00:06<00:00,  2.03s/it]\n",
            "process 45164: 100%|██████████| 3/3 [00:06<00:00,  2.16s/it]\n",
            "process 45155: 100%|██████████| 3/3 [00:07<00:00,  2.53s/it]\n"
          ]
        },
        {
          "output_type": "stream",
          "name": "stdout",
          "text": [
            "... finished ...\n",
            "query: Downy Woodpecker q_gt:B since:2020-01-01\n",
            "... retrieving metadata ...\n"
          ]
        },
        {
          "output_type": "stream",
          "name": "stderr",
          "text": [
            "process 45388: 100%|██████████| 4/4 [00:06<00:00,  1.74s/it]\n",
            "process 45383: 100%|██████████| 4/4 [00:08<00:00,  2.08s/it]\n",
            "\n",
            "process 45373: 100%|██████████| 4/4 [00:08<00:00,  2.16s/it]\n",
            "process 45379: 100%|██████████| 4/4 [00:08<00:00,  2.16s/it]\n",
            "process 45352: 100%|██████████| 5/5 [00:09<00:00,  1.84s/it]\n",
            "process 45351: 100%|██████████| 5/5 [00:09<00:00,  1.89s/it]\n",
            "process 45384: 100%|██████████| 4/4 [00:09<00:00,  2.32s/it]\n",
            "process 45360: 100%|██████████| 5/5 [00:10<00:00,  2.04s/it]\n",
            "process 45356: 100%|██████████| 5/5 [00:10<00:00,  2.10s/it]\n"
          ]
        },
        {
          "output_type": "stream",
          "name": "stdout",
          "text": [
            "... finished ...\n",
            "query: Hairy Woodpecker q_gt:B since:2020-01-01\n",
            "... retrieving metadata ...\n"
          ]
        },
        {
          "output_type": "stream",
          "name": "stderr",
          "text": [
            "process 45611: 100%|██████████| 4/4 [00:07<00:00,  1.81s/it]\n",
            "process 45624: 100%|██████████| 4/4 [00:07<00:00,  1.80s/it]\n",
            "process 45620: 100%|██████████| 4/4 [00:07<00:00,  1.88s/it]\n",
            "process 45627: 100%|██████████| 4/4 [00:07<00:00,  1.91s/it]\n",
            "process 45647: 100%|██████████| 4/4 [00:07<00:00,  1.94s/it]\n",
            "process 45630: 100%|██████████| 4/4 [00:08<00:00,  2.02s/it]\n",
            "process 45616: 100%|██████████| 4/4 [00:08<00:00,  2.21s/it]\n",
            "process 45636: 100%|██████████| 4/4 [00:08<00:00,  2.20s/it]\n",
            "process 45643: 100%|██████████| 4/4 [00:08<00:00,  2.24s/it]\n",
            "process 45613: 100%|██████████| 4/4 [00:09<00:00,  2.42s/it]\n"
          ]
        },
        {
          "output_type": "stream",
          "name": "stdout",
          "text": [
            "... finished ...\n",
            "query: Northern Flicker q_gt:B since:2020-01-01\n",
            "... retrieving metadata ...\n"
          ]
        },
        {
          "output_type": "stream",
          "name": "stderr",
          "text": [
            "process 45895: 100%|██████████| 6/6 [00:10<00:00,  1.75s/it]\n",
            "process 45899:  83%|████████▎ | 5/6 [00:10<00:02,  2.31s/it]"
          ]
        },
        {
          "output_type": "stream",
          "name": "stdout",
          "text": [
            "Bad url: https://xeno-canto.org/713588/download\n"
          ]
        },
        {
          "output_type": "stream",
          "name": "stderr",
          "text": [
            "process 45887: 100%|██████████| 6/6 [00:12<00:00,  2.06s/it]\n",
            "process 45899: 100%|██████████| 6/6 [00:12<00:00,  2.08s/it]\n",
            "process 45903: 100%|██████████| 6/6 [00:12<00:00,  2.11s/it]\n",
            "process 45885: 100%|██████████| 6/6 [00:14<00:00,  2.40s/it]\n",
            "process 45890: 100%|██████████| 6/6 [00:15<00:00,  2.55s/it]\n",
            "process 45871: 100%|██████████| 7/7 [00:16<00:00,  2.42s/it]\n",
            "process 45879: 100%|██████████| 6/6 [00:19<00:00,  3.26s/it]\n",
            "process 45870: 100%|██████████| 7/7 [00:19<00:00,  2.85s/it]\n",
            "process 45875: 100%|██████████| 6/6 [00:20<00:00,  3.41s/it]\n"
          ]
        },
        {
          "output_type": "stream",
          "name": "stdout",
          "text": [
            "... Some encountered failure to download, saved at failed.txt ...\n",
            "... finished ...\n",
            "query: Pileated Woodpecker q_gt:B since:2020-01-01\n",
            "... retrieving metadata ...\n"
          ]
        },
        {
          "output_type": "stream",
          "name": "stderr",
          "text": [
            "process 46234: 100%|██████████| 3/3 [00:04<00:00,  1.49s/it]\n",
            "process 46233: 100%|██████████| 3/3 [00:04<00:00,  1.58s/it]\n",
            "process 46221: 100%|██████████| 3/3 [00:05<00:00,  1.67s/it]\n",
            "process 46238: 100%|██████████| 3/3 [00:05<00:00,  1.70s/it]\n",
            "process 46229: 100%|██████████| 3/3 [00:05<00:00,  1.93s/it]\n",
            "process 46214: 100%|██████████| 3/3 [00:06<00:00,  2.05s/it]\n",
            "process 46225: 100%|██████████| 3/3 [00:06<00:00,  2.04s/it]\n",
            "process 46242: 100%|██████████| 3/3 [00:06<00:00,  2.05s/it]\n",
            "process 46211: 100%|██████████| 4/4 [00:09<00:00,  2.30s/it]\n",
            "process 46209: 100%|██████████| 4/4 [00:17<00:00,  4.35s/it]\n"
          ]
        },
        {
          "output_type": "stream",
          "name": "stdout",
          "text": [
            "... finished ...\n",
            "query: Olive-sided Flycatcher q_gt:B since:2020-01-01\n",
            "... retrieving metadata ...\n"
          ]
        },
        {
          "output_type": "stream",
          "name": "stderr",
          "text": [
            "process 46464: 100%|██████████| 1/1 [00:01<00:00,  1.72s/it]\n",
            "process 46460: 100%|██████████| 1/1 [00:01<00:00,  1.81s/it]\n",
            "process 46454: 100%|██████████| 1/1 [00:01<00:00,  2.00s/it]\n",
            "process 46478: 100%|██████████| 1/1 [00:02<00:00,  2.11s/it]\n",
            "process 46483: 100%|██████████| 1/1 [00:02<00:00,  2.22s/it]\n",
            "process 46458: 100%|██████████| 1/1 [00:02<00:00,  2.54s/it]\n",
            "process 46473: 100%|██████████| 1/1 [00:02<00:00,  2.47s/it]\n",
            "process 46468: 100%|██████████| 1/1 [00:02<00:00,  2.72s/it]\n",
            "process 46446: 100%|██████████| 2/2 [00:05<00:00,  2.98s/it]\n",
            "process 46450: 100%|██████████| 1/1 [00:10<00:00, 10.23s/it]\n"
          ]
        },
        {
          "output_type": "stream",
          "name": "stdout",
          "text": [
            "... finished ...\n",
            "query: Eastern Wood Pewee q_gt:B since:2020-01-01\n",
            "... retrieving metadata ...\n"
          ]
        },
        {
          "output_type": "stream",
          "name": "stderr",
          "text": [
            "process 46626: 100%|██████████| 3/3 [00:04<00:00,  1.47s/it]\n",
            "process 46632: 100%|██████████| 3/3 [00:05<00:00,  1.84s/it]\n",
            "process 46622: 100%|██████████| 3/3 [00:06<00:00,  2.07s/it]\n",
            "process 46635: 100%|██████████| 3/3 [00:06<00:00,  2.05s/it]\n",
            "process 46646: 100%|██████████| 3/3 [00:06<00:00,  2.16s/it]\n",
            "process 46640: 100%|██████████| 3/3 [00:06<00:00,  2.19s/it]\n",
            "process 46610: 100%|██████████| 4/4 [00:07<00:00,  1.99s/it]\n",
            "process 46615: 100%|██████████| 4/4 [00:08<00:00,  2.02s/it]\n",
            "process 46609: 100%|██████████| 4/4 [00:09<00:00,  2.37s/it]\n",
            "process 46612: 100%|██████████| 4/4 [00:09<00:00,  2.50s/it]\n"
          ]
        },
        {
          "output_type": "stream",
          "name": "stdout",
          "text": [
            "... finished ...\n",
            "query: Yellow-bellied Flycatcher q_gt:B since:2020-01-01\n",
            "... retrieving metadata ...\n"
          ]
        },
        {
          "output_type": "stream",
          "name": "stderr",
          "text": [
            "process 46826: 100%|██████████| 1/1 [00:01<00:00,  1.59s/it]\n",
            "process 46838: 100%|██████████| 1/1 [00:01<00:00,  1.96s/it]\n",
            "process 46846: 100%|██████████| 1/1 [00:01<00:00,  1.89s/it]\n",
            "process 46845: 100%|██████████| 1/1 [00:02<00:00,  2.03s/it]\n",
            "process 46847: 100%|██████████| 1/1 [00:02<00:00,  2.21s/it]\n",
            "process 46830: 100%|██████████| 1/1 [00:02<00:00,  2.47s/it]\n",
            "process 46819: 100%|██████████| 1/1 [00:02<00:00,  2.71s/it]\n",
            "process 46831: 100%|██████████| 1/1 [00:02<00:00,  2.84s/it]\n",
            "process 46817: 100%|██████████| 2/2 [00:04<00:00,  2.12s/it]\n",
            "process 46818: 100%|██████████| 2/2 [00:06<00:00,  3.50s/it]\n"
          ]
        },
        {
          "output_type": "stream",
          "name": "stdout",
          "text": [
            "... finished ...\n",
            "query: Acadian Flycatcher q_gt:B since:2020-01-01\n",
            "... retrieving metadata ...\n"
          ]
        },
        {
          "output_type": "stream",
          "name": "stderr",
          "text": [
            "process 46989: 100%|██████████| 3/3 [00:04<00:00,  1.46s/it]\n",
            "process 46994: 100%|██████████| 3/3 [00:05<00:00,  1.74s/it]\n",
            "process 46965: 100%|██████████| 3/3 [00:05<00:00,  1.89s/it]\n",
            "process 46985: 100%|██████████| 3/3 [00:05<00:00,  1.87s/it]\n",
            "process 46978: 100%|██████████| 3/3 [00:06<00:00,  2.05s/it]\n",
            "process 46990: 100%|██████████| 3/3 [00:06<00:00,  2.03s/it]\n",
            "process 46998: 100%|██████████| 3/3 [00:06<00:00,  2.08s/it]\n",
            "process 46972: 100%|██████████| 3/3 [00:06<00:00,  2.16s/it]\n",
            "process 46966: 100%|██████████| 3/3 [00:07<00:00,  2.51s/it]\n",
            "process 46970: 100%|██████████| 3/3 [00:07<00:00,  2.58s/it]\n",
            "process 46970: 100%|██████████| 3/3 [00:07<00:00,  2.59s/it]"
          ]
        },
        {
          "output_type": "stream",
          "name": "stdout",
          "text": [
            "... finished ...\n",
            "query: Alder Flycatcher q_gt:B since:2020-01-01\n",
            "... retrieving metadata ...\n"
          ]
        },
        {
          "output_type": "stream",
          "name": "stderr",
          "text": [
            "process 47186: 100%|██████████| 1/1 [00:01<00:00,  1.56s/it]\n",
            "process 47177: 100%|██████████| 1/1 [00:01<00:00,  1.71s/it]\n",
            "process 47171: 100%|██████████| 1/1 [00:01<00:00,  1.97s/it]\n",
            "process 47166: 100%|██████████| 1/1 [00:02<00:00,  2.36s/it]\n",
            "process 47178: 100%|██████████| 1/1 [00:02<00:00,  2.39s/it]\n",
            "process 47155: 100%|██████████| 2/2 [00:03<00:00,  1.67s/it]\n",
            "process 47182: 100%|██████████| 1/1 [00:03<00:00,  3.35s/it]\n",
            "process 47153: 100%|██████████| 2/2 [00:04<00:00,  2.22s/it]\n",
            "process 47158: 100%|██████████| 2/2 [00:04<00:00,  2.29s/it]\n",
            "process 47162: 100%|██████████| 2/2 [00:04<00:00,  2.42s/it]\n"
          ]
        },
        {
          "output_type": "stream",
          "name": "stdout",
          "text": [
            "... finished ...\n",
            "query: Willow Flycatcher q_gt:B since:2020-01-01\n",
            "... retrieving metadata ...\n"
          ]
        },
        {
          "output_type": "stream",
          "name": "stderr",
          "text": [
            "process 47303: 100%|██████████| 2/2 [00:03<00:00,  1.75s/it]\n",
            "process 47331: 100%|██████████| 2/2 [00:04<00:00,  2.02s/it]\n",
            "process 47337: 100%|██████████| 2/2 [00:04<00:00,  2.27s/it]\n",
            "process 47318: 100%|██████████| 2/2 [00:04<00:00,  2.33s/it]\n",
            "process 47302: 100%|██████████| 2/2 [00:04<00:00,  2.47s/it]\n",
            "process 47310: 100%|██████████| 2/2 [00:05<00:00,  2.54s/it]\n",
            "process 47301: 100%|██████████| 3/3 [00:05<00:00,  1.79s/it]\n",
            "process 47327: 100%|██████████| 2/2 [00:05<00:00,  2.65s/it]\n",
            "process 47315: 100%|██████████| 2/2 [00:05<00:00,  2.82s/it]\n",
            "process 47297: 100%|██████████| 3/3 [00:06<00:00,  2.20s/it]\n"
          ]
        },
        {
          "output_type": "stream",
          "name": "stdout",
          "text": [
            "... finished ...\n",
            "query: Least Flycatcher q_gt:B since:2020-01-01\n",
            "... retrieving metadata ...\n"
          ]
        },
        {
          "output_type": "stream",
          "name": "stderr",
          "text": [
            "process 47492: 100%|██████████| 2/2 [00:03<00:00,  1.74s/it]\n",
            "process 47488: 100%|██████████| 2/2 [00:03<00:00,  1.80s/it]\n",
            "process 47509: 100%|██████████| 2/2 [00:03<00:00,  1.79s/it]\n",
            "process 47496: 100%|██████████| 2/2 [00:03<00:00,  1.84s/it]\n",
            "process 47501: 100%|██████████| 2/2 [00:04<00:00,  2.09s/it]\n",
            "process 47484: 100%|██████████| 2/2 [00:04<00:00,  2.33s/it]\n",
            "process 47472: 100%|██████████| 3/3 [00:07<00:00,  2.63s/it]\n",
            "process 47478: 100%|██████████| 3/3 [00:08<00:00,  2.84s/it]\n",
            "process 47476: 100%|██████████| 3/3 [00:10<00:00,  3.47s/it]\n",
            "process 47471: 100%|██████████| 3/3 [00:18<00:00,  6.02s/it]\n"
          ]
        },
        {
          "output_type": "stream",
          "name": "stdout",
          "text": [
            "... finished ...\n",
            "query: Eastern Phoebe q_gt:B since:2020-01-01\n",
            "... retrieving metadata ...\n"
          ]
        },
        {
          "output_type": "stream",
          "name": "stderr",
          "text": [
            "process 47725: 100%|██████████| 2/2 [00:03<00:00,  1.91s/it]\n",
            "process 47708: 100%|██████████| 2/2 [00:04<00:00,  2.08s/it]\n",
            "process 47723: 100%|██████████| 2/2 [00:04<00:00,  2.07s/it]\n",
            "process 47719: 100%|██████████| 2/2 [00:04<00:00,  2.27s/it]\n",
            "process 47713: 100%|██████████| 2/2 [00:05<00:00,  2.68s/it]\n",
            "process 47687: 100%|██████████| 3/3 [00:07<00:00,  2.54s/it]\n",
            "process 47704: 100%|██████████| 3/3 [00:07<00:00,  2.65s/it]\n",
            "process 47695: 100%|██████████| 3/3 [00:08<00:00,  2.78s/it]\n",
            "process 47702: 100%|██████████| 3/3 [00:09<00:00,  3.09s/it]\n",
            "process 47689: 100%|██████████| 3/3 [00:10<00:00,  3.65s/it]\n"
          ]
        },
        {
          "output_type": "stream",
          "name": "stdout",
          "text": [
            "... finished ...\n",
            "query: Great Crested Flycatcher q_gt:B since:2020-01-01\n",
            "... retrieving metadata ...\n"
          ]
        },
        {
          "output_type": "stream",
          "name": "stderr",
          "text": [
            "process 47914: 100%|██████████| 2/2 [00:03<00:00,  1.97s/it]\n",
            "process 47908: 100%|██████████| 2/2 [00:04<00:00,  2.16s/it]\n",
            "process 47877: 100%|██████████| 3/3 [00:04<00:00,  1.57s/it]\n",
            "process 47906: 100%|██████████| 2/2 [00:04<00:00,  2.28s/it]\n",
            "process 47893: 100%|██████████| 3/3 [00:04<00:00,  1.61s/it]\n",
            "process 47900: 100%|██████████| 2/2 [00:05<00:00,  2.56s/it]\n",
            "process 47896: 100%|██████████| 3/3 [00:05<00:00,  1.96s/it]\n",
            "process 47885: 100%|██████████| 3/3 [00:06<00:00,  2.07s/it]\n",
            "process 47879: 100%|██████████| 3/3 [00:06<00:00,  2.12s/it]\n",
            "process 47898: 100%|██████████| 3/3 [00:10<00:00,  3.67s/it]\n"
          ]
        },
        {
          "output_type": "stream",
          "name": "stdout",
          "text": [
            "... finished ...\n",
            "query: Western Kingbird q_gt:B since:2020-01-01\n",
            "... retrieving metadata ...\n"
          ]
        },
        {
          "output_type": "stream",
          "name": "stderr",
          "text": [
            "process 48106: 100%|██████████| 1/1 [00:01<00:00,  1.36s/it]\n",
            "process 48091: 100%|██████████| 1/1 [00:01<00:00,  1.92s/it]\n",
            "process 48096: 100%|██████████| 1/1 [00:02<00:00,  2.22s/it]\n",
            "process 48104: 100%|██████████| 1/1 [00:02<00:00,  2.27s/it]\n",
            "process 48100: 100%|██████████| 1/1 [00:02<00:00,  2.40s/it]\n",
            "process 48093: 100%|██████████| 1/1 [00:02<00:00,  2.66s/it]\n",
            "process 48087: 100%|██████████| 2/2 [00:03<00:00,  1.73s/it]\n",
            "process 48080: 100%|██████████| 2/2 [00:04<00:00,  2.30s/it]\n",
            "process 48077: 100%|██████████| 2/2 [00:04<00:00,  2.38s/it]\n",
            "process 48075: 100%|██████████| 2/2 [00:05<00:00,  2.82s/it]\n"
          ]
        },
        {
          "output_type": "stream",
          "name": "stdout",
          "text": [
            "... finished ...\n",
            "query: Eastern Kingbird q_gt:B since:2020-01-01\n",
            "... retrieving metadata ...\n"
          ]
        },
        {
          "output_type": "stream",
          "name": "stderr",
          "text": [
            "process 48242: 100%|██████████| 1/1 [00:01<00:00,  1.88s/it]\n",
            "process 48238: 100%|██████████| 1/1 [00:02<00:00,  2.04s/it]\n",
            "process 48228: 100%|██████████| 1/1 [00:02<00:00,  2.21s/it]\n",
            "process 48252: 100%|██████████| 1/1 [00:02<00:00,  2.14s/it]\n",
            "process 48259: 100%|██████████| 1/1 [00:02<00:00,  2.14s/it]\n",
            "process 48248: 100%|██████████| 1/1 [00:02<00:00,  2.24s/it]\n",
            "process 48225: 100%|██████████| 1/1 [00:02<00:00,  2.41s/it]\n",
            "process 48234: 100%|██████████| 1/1 [00:02<00:00,  2.48s/it]\n",
            "process 48219: 100%|██████████| 2/2 [00:04<00:00,  2.12s/it]\n",
            "process 48221: 100%|██████████| 2/2 [00:04<00:00,  2.31s/it]\n"
          ]
        },
        {
          "output_type": "stream",
          "name": "stdout",
          "text": [
            "... finished ...\n",
            "query: Horned Lark q_gt:B since:2020-01-01\n",
            "... retrieving metadata ...\n"
          ]
        },
        {
          "output_type": "stream",
          "name": "stderr",
          "text": [
            "process 48391: 100%|██████████| 5/5 [00:08<00:00,  1.68s/it]\n",
            "process 48374: 100%|██████████| 5/5 [00:08<00:00,  1.77s/it]\n",
            "process 48387: 100%|██████████| 5/5 [00:08<00:00,  1.79s/it]\n",
            "process 48392: 100%|██████████| 5/5 [00:08<00:00,  1.79s/it]\n",
            "process 48369: 100%|██████████| 5/5 [00:09<00:00,  1.85s/it]\n",
            "process 48380: 100%|██████████| 5/5 [00:09<00:00,  1.86s/it]\n",
            "process 48399: 100%|██████████| 5/5 [00:09<00:00,  1.90s/it]\n",
            "process 48359: 100%|██████████| 6/6 [00:12<00:00,  2.01s/it]\n",
            "process 48368: 100%|██████████| 6/6 [00:12<00:00,  2.15s/it]\n",
            "process 48364: 100%|██████████| 6/6 [00:14<00:00,  2.41s/it]\n"
          ]
        },
        {
          "output_type": "stream",
          "name": "stdout",
          "text": [
            "... finished ...\n",
            "query: Purple martin q_gt:B since:2020-01-01\n",
            "... retrieving metadata ...\n"
          ]
        },
        {
          "output_type": "stream",
          "name": "stderr",
          "text": [
            "process 48653: 100%|██████████| 3/3 [00:05<00:00,  1.68s/it]\n",
            "process 48645: 100%|██████████| 3/3 [00:05<00:00,  1.80s/it]\n",
            "process 48646: 100%|██████████| 3/3 [00:05<00:00,  1.91s/it]\n",
            "process 48636: 100%|██████████| 3/3 [00:06<00:00,  2.01s/it]\n",
            "process 48654: 100%|██████████| 3/3 [00:06<00:00,  2.05s/it]\n",
            "process 48639: 100%|██████████| 3/3 [00:06<00:00,  2.25s/it]\n",
            "process 48633: 100%|██████████| 4/4 [00:07<00:00,  1.85s/it]\n",
            "process 48627: 100%|██████████| 4/4 [00:07<00:00,  1.92s/it]\n",
            "process 48621: 100%|██████████| 4/4 [00:09<00:00,  2.34s/it]\n",
            "process 48623: 100%|██████████| 4/4 [00:11<00:00,  2.76s/it]\n"
          ]
        },
        {
          "output_type": "stream",
          "name": "stdout",
          "text": [
            "... finished ...\n",
            "query: tree Swallow q_gt:B since:2020-01-01\n",
            "... retrieving metadata ...\n"
          ]
        },
        {
          "output_type": "stream",
          "name": "stderr",
          "text": [
            "process 48840: 100%|██████████| 2/2 [00:03<00:00,  1.58s/it]\n",
            "process 48851: 100%|██████████| 2/2 [00:03<00:00,  1.77s/it]\n",
            "process 48836: 100%|██████████| 2/2 [00:04<00:00,  2.16s/it]\n",
            "process 48846: 100%|██████████| 2/2 [00:04<00:00,  2.15s/it]\n",
            "process 48870: 100%|██████████| 2/2 [00:04<00:00,  2.36s/it]\n",
            "process 48866: 100%|██████████| 2/2 [00:04<00:00,  2.40s/it]\n",
            "process 48857: 100%|██████████| 2/2 [00:05<00:00,  2.52s/it]\n",
            "process 48855: 100%|██████████| 2/2 [00:05<00:00,  2.70s/it]\n",
            "process 48847: 100%|██████████| 2/2 [00:05<00:00,  2.95s/it]\n",
            "process 48834: 100%|██████████| 3/3 [00:09<00:00,  3.24s/it]\n"
          ]
        },
        {
          "output_type": "stream",
          "name": "stdout",
          "text": [
            "... finished ...\n",
            "query: No. Rough-winged Swallow q_gt:B since:2020-01-01\n",
            "... retrieving metadata ...\n",
            "An unexpected error occurred for bird 'No. Rough-winged Swallow': integer division or modulo by zero\n",
            "query: Bank Swallow q_gt:B since:2020-01-01\n",
            "... retrieving metadata ...\n",
            "An unexpected error occurred for bird 'Bank Swallow': integer division or modulo by zero\n",
            "query: Cliff Swallow q_gt:B since:2020-01-01\n",
            "... retrieving metadata ...\n"
          ]
        },
        {
          "output_type": "stream",
          "name": "stderr",
          "text": [
            "process 49079: 100%|██████████| 2/2 [00:04<00:00,  2.11s/it]\n",
            "process 49045: 100%|██████████| 3/3 [00:05<00:00,  1.85s/it]\n",
            "process 49071: 100%|██████████| 3/3 [00:05<00:00,  1.81s/it]\n",
            "process 49057: 100%|██████████| 3/3 [00:05<00:00,  1.90s/it]\n",
            "process 49048: 100%|██████████| 3/3 [00:05<00:00,  1.94s/it]\n",
            "process 49043: 100%|██████████| 3/3 [00:06<00:00,  2.10s/it]\n",
            "process 49068: 100%|██████████| 3/3 [00:06<00:00,  2.21s/it]\n",
            "process 49055: 100%|██████████| 3/3 [00:07<00:00,  2.44s/it]\n",
            "process 49061: 100%|██████████| 3/3 [00:07<00:00,  2.63s/it]\n",
            "process 49067: 100%|██████████| 3/3 [00:08<00:00,  2.98s/it]\n"
          ]
        },
        {
          "output_type": "stream",
          "name": "stdout",
          "text": [
            "... finished ...\n",
            "query: Barn Swallow q_gt:B since:2020-01-01\n",
            "... retrieving metadata ...\n"
          ]
        },
        {
          "output_type": "stream",
          "name": "stderr",
          "text": [
            "process 49261: 100%|██████████| 18/18 [00:34<00:00,  1.92s/it]\n",
            "process 49265: 100%|██████████| 18/18 [00:35<00:00,  1.97s/it]\n",
            "process 49267: 100%|██████████| 18/18 [00:35<00:00,  1.99s/it]\n",
            "process 49270: 100%|██████████| 18/18 [00:36<00:00,  2.04s/it]\n",
            "process 49254: 100%|██████████| 19/19 [00:37<00:00,  1.96s/it]\n",
            "process 49251: 100%|██████████| 19/19 [00:40<00:00,  2.11s/it]\n",
            "process 49249: 100%|██████████| 19/19 [00:43<00:00,  2.29s/it]\n",
            "process 49245: 100%|██████████| 19/19 [00:44<00:00,  2.32s/it]\n",
            "process 49239: 100%|██████████| 19/19 [01:00<00:00,  3.19s/it]\n",
            "process 49237: 100%|██████████| 19/19 [01:01<00:00,  3.26s/it]\n"
          ]
        },
        {
          "output_type": "stream",
          "name": "stdout",
          "text": [
            "... finished ...\n",
            "query: Blue Jay q_gt:B since:2020-01-01\n",
            "... retrieving metadata ...\n"
          ]
        },
        {
          "output_type": "stream",
          "name": "stderr",
          "text": [
            "process 50009: 100%|██████████| 8/8 [00:13<00:00,  1.73s/it]\n",
            "process 50004: 100%|██████████| 8/8 [00:13<00:00,  1.75s/it]\n",
            "process 49989: 100%|██████████| 8/8 [00:14<00:00,  1.77s/it]\n",
            "process 50005: 100%|██████████| 8/8 [00:14<00:00,  1.85s/it]\n",
            "process 49993: 100%|██████████| 8/8 [00:15<00:00,  1.90s/it]\n",
            "process 49985: 100%|██████████| 8/8 [00:16<00:00,  2.03s/it]\n",
            "process 49997: 100%|██████████| 8/8 [00:17<00:00,  2.20s/it]\n",
            "process 49977: 100%|██████████| 8/8 [00:17<00:00,  2.22s/it]\n",
            "process 49979: 100%|██████████| 8/8 [00:18<00:00,  2.31s/it]\n",
            "process 49976: 100%|██████████| 9/9 [00:19<00:00,  2.12s/it]\n"
          ]
        },
        {
          "output_type": "stream",
          "name": "stdout",
          "text": [
            "... finished ...\n",
            "query: American Crow q_gt:B since:2020-01-01\n",
            "... retrieving metadata ...\n"
          ]
        },
        {
          "output_type": "stream",
          "name": "stderr",
          "text": [
            "process 50366: 100%|██████████| 6/6 [00:11<00:00,  1.96s/it]\n",
            "process 50343: 100%|██████████| 7/7 [00:14<00:00,  2.11s/it]\n",
            "process 50362: 100%|██████████| 7/7 [00:15<00:00,  2.20s/it]\n",
            "process 50358: 100%|██████████| 7/7 [00:17<00:00,  2.54s/it]\n",
            "process 50352: 100%|██████████| 7/7 [00:18<00:00,  2.61s/it]\n",
            "process 50350: 100%|██████████| 7/7 [00:18<00:00,  2.64s/it]\n",
            "process 50340: 100%|██████████| 7/7 [00:22<00:00,  3.28s/it]\n",
            "process 50334: 100%|██████████| 7/7 [00:24<00:00,  3.44s/it]\n",
            "process 50333: 100%|██████████| 7/7 [00:25<00:00,  3.61s/it]\n",
            "process 50336: 100%|██████████| 7/7 [00:25<00:00,  3.62s/it]\n"
          ]
        },
        {
          "output_type": "stream",
          "name": "stdout",
          "text": [
            "... finished ...\n",
            "query: Fish Crow q_gt:B since:2020-01-01\n",
            "... retrieving metadata ...\n"
          ]
        },
        {
          "output_type": "stream",
          "name": "stderr",
          "text": [
            "process 50688: 100%|██████████| 1/1 [00:01<00:00,  1.79s/it]\n",
            "process 50697: 100%|██████████| 1/1 [00:01<00:00,  1.78s/it]\n",
            "process 50694: 100%|██████████| 1/1 [00:01<00:00,  1.90s/it]\n",
            "process 50687: 100%|██████████| 1/1 [00:02<00:00,  2.18s/it]\n",
            "process 50690: 100%|██████████| 1/1 [00:02<00:00,  2.41s/it]\n",
            "process 50702: 100%|██████████| 1/1 [00:04<00:00,  4.31s/it]\n"
          ]
        },
        {
          "output_type": "stream",
          "name": "stdout",
          "text": [
            "... finished ...\n",
            "query: Common Raven q_gt:B since:2020-01-01\n",
            "... retrieving metadata ...\n",
            "An unexpected error occurred for bird 'Common Raven': integer division or modulo by zero\n",
            "query: Black-capped Chickadee q_gt:B since:2020-01-01\n",
            "... retrieving metadata ...\n"
          ]
        },
        {
          "output_type": "stream",
          "name": "stderr",
          "text": [
            "process 50904: 100%|██████████| 4/4 [00:08<00:00,  2.12s/it]\n",
            "process 50908: 100%|██████████| 4/4 [00:09<00:00,  2.46s/it]\n",
            "process 50891: 100%|██████████| 5/5 [00:11<00:00,  2.27s/it]\n",
            "process 50893: 100%|██████████| 5/5 [00:12<00:00,  2.44s/it]\n",
            "process 50899: 100%|██████████| 5/5 [00:13<00:00,  2.68s/it]\n",
            "process 50879: 100%|██████████| 5/5 [00:13<00:00,  2.71s/it]\n",
            "process 50886: 100%|██████████| 5/5 [00:14<00:00,  2.88s/it]\n",
            "process 50876: 100%|██████████| 5/5 [00:16<00:00,  3.31s/it]\n",
            "process 50890: 100%|██████████| 5/5 [00:20<00:00,  4.19s/it]\n",
            "process 50874: 100%|██████████| 5/5 [00:23<00:00,  4.68s/it]\n"
          ]
        },
        {
          "output_type": "stream",
          "name": "stdout",
          "text": [
            "... finished ...\n",
            "query: Carolina Chickadee q_gt:B since:2020-01-01\n",
            "... retrieving metadata ...\n"
          ]
        },
        {
          "output_type": "stream",
          "name": "stderr",
          "text": [
            "process 51224: 100%|██████████| 4/4 [00:05<00:00,  1.28s/it]\n",
            "process 51221: 100%|██████████| 4/4 [00:07<00:00,  1.75s/it]\n",
            "process 51216: 100%|██████████| 4/4 [00:09<00:00,  2.38s/it]\n",
            "process 51235: 100%|██████████| 4/4 [00:09<00:00,  2.39s/it]\n",
            "process 51198: 100%|██████████| 4/4 [00:10<00:00,  2.58s/it]\n",
            "process 51208: 100%|██████████| 4/4 [00:10<00:00,  2.67s/it]\n",
            "process 51203: 100%|██████████| 4/4 [00:11<00:00,  2.99s/it]\n",
            "process 51215: 100%|██████████| 4/4 [00:12<00:00,  3.55s/it]\n",
            "process 51196: 100%|██████████| 5/5 [00:12<00:00,  2.50s/it]\n",
            "process 51195: 100%|██████████| 5/5 [00:13<00:00,  2.73s/it]\n"
          ]
        },
        {
          "output_type": "stream",
          "name": "stdout",
          "text": [
            "... finished ...\n",
            "query: Boreal Chickadee q_gt:B since:2020-01-01\n",
            "... retrieving metadata ...\n"
          ]
        },
        {
          "output_type": "stream",
          "name": "stderr",
          "text": [
            "process 51460: 100%|██████████| 1/1 [00:01<00:00,  1.70s/it]\n",
            "process 51457: 100%|██████████| 1/1 [00:01<00:00,  1.96s/it]\n",
            "process 51447: 100%|██████████| 1/1 [00:02<00:00,  2.17s/it]\n",
            "process 51449: 100%|██████████| 1/1 [00:02<00:00,  2.18s/it]\n",
            "process 51452: 100%|██████████| 1/1 [00:02<00:00,  2.24s/it]\n",
            "process 51464: 100%|██████████| 1/1 [00:02<00:00,  2.57s/it]\n"
          ]
        },
        {
          "output_type": "stream",
          "name": "stdout",
          "text": [
            "... finished ...\n",
            "query: Tufted Titmouse q_gt:B since:2020-01-01\n",
            "... retrieving metadata ...\n"
          ]
        },
        {
          "output_type": "stream",
          "name": "stderr",
          "text": [
            "process 51576: 100%|██████████| 5/5 [00:08<00:00,  1.78s/it]\n",
            "process 51571: 100%|██████████| 5/5 [00:09<00:00,  1.81s/it]\n",
            "process 51579: 100%|██████████| 5/5 [00:09<00:00,  1.83s/it]\n",
            "process 51572: 100%|██████████| 5/5 [00:09<00:00,  1.87s/it]\n",
            "process 51565: 100%|██████████| 5/5 [00:09<00:00,  1.93s/it]\n",
            "process 51559: 100%|██████████| 6/6 [00:12<00:00,  2.11s/it]\n",
            "process 51553: 100%|██████████| 6/6 [00:13<00:00,  2.31s/it]\n",
            "process 51547: 100%|██████████| 6/6 [00:14<00:00,  2.47s/it]\n",
            "process 51549: 100%|██████████| 6/6 [00:15<00:00,  2.62s/it]\n",
            "process 51561: 100%|██████████| 6/6 [00:16<00:00,  2.67s/it]\n"
          ]
        },
        {
          "output_type": "stream",
          "name": "stdout",
          "text": [
            "... finished ...\n",
            "query: Red-breasted Nuthatch q_gt:B since:2020-01-01\n",
            "... retrieving metadata ...\n"
          ]
        },
        {
          "output_type": "stream",
          "name": "stderr",
          "text": [
            "process 51858: 100%|██████████| 1/1 [00:01<00:00,  1.55s/it]\n",
            "process 51858: 100%|██████████| 1/1 [00:01<00:00,  1.56s/it]\n",
            "process 51864: 100%|██████████| 1/1 [00:01<00:00,  1.68s/it]\n",
            "process 51854: 100%|██████████| 1/1 [00:02<00:00,  2.27s/it]\n",
            "process 51831: 100%|██████████| 1/1 [00:02<00:00,  2.70s/it]\n",
            "process 51862: 100%|██████████| 1/1 [00:02<00:00,  2.52s/it]\n",
            "process 51835: 100%|██████████| 1/1 [00:03<00:00,  3.25s/it]\n",
            "process 51826: 100%|██████████| 2/2 [00:03<00:00,  1.75s/it]\n",
            "process 51828: 100%|██████████| 2/2 [00:04<00:00,  2.23s/it]\n",
            "process 51842: 100%|██████████| 1/1 [00:06<00:00,  6.80s/it]\n"
          ]
        },
        {
          "output_type": "stream",
          "name": "stdout",
          "text": [
            "... finished ...\n",
            "query: White-breasted Nuthatch q_gt:B since:2020-01-01\n",
            "... retrieving metadata ...\n"
          ]
        },
        {
          "output_type": "stream",
          "name": "stderr",
          "text": [
            "process 51998:  67%|██████▋   | 2/3 [00:05<00:02,  2.81s/it]\n",
            "process 52016: 100%|██████████| 3/3 [00:06<00:00,  2.06s/it]\n",
            "process 51999: 100%|██████████| 3/3 [00:07<00:00,  2.47s/it]\n",
            "process 52001: 100%|██████████| 3/3 [00:07<00:00,  2.57s/it]\n",
            "process 52001: 100%|██████████| 3/3 [00:07<00:00,  2.58s/it]\n",
            "process 51994: 100%|██████████| 3/3 [00:08<00:00,  2.76s/it]\n",
            "process 51998: 100%|██████████| 3/3 [00:08<00:00,  2.85s/it]\n",
            "process 51987: 100%|██████████| 4/4 [00:10<00:00,  2.67s/it]\n",
            "process 51982: 100%|██████████| 4/4 [00:10<00:00,  2.72s/it]\n",
            "process 51983: 100%|██████████| 4/4 [00:11<00:00,  2.89s/it]\n"
          ]
        },
        {
          "output_type": "stream",
          "name": "stdout",
          "text": [
            "... finished ...\n",
            "query: Brown Creeper q_gt:B since:2020-01-01\n",
            "... retrieving metadata ...\n"
          ]
        },
        {
          "output_type": "stream",
          "name": "stderr",
          "text": [
            "process 52221: 100%|██████████| 3/3 [00:05<00:00,  1.90s/it]\n",
            "process 52211: 100%|██████████| 3/3 [00:05<00:00,  1.94s/it]\n",
            "process 52217: 100%|██████████| 3/3 [00:06<00:00,  2.12s/it]\n",
            "process 52208: 100%|██████████| 3/3 [00:06<00:00,  2.24s/it]\n",
            "process 52229: 100%|██████████| 3/3 [00:06<00:00,  2.21s/it]\n",
            "process 52204: 100%|██████████| 3/3 [00:07<00:00,  2.40s/it]\n",
            "process 52223: 100%|██████████| 3/3 [00:07<00:00,  2.38s/it]\n",
            "process 52193: 100%|██████████| 4/4 [00:09<00:00,  2.34s/it]\n",
            "process 52199: 100%|██████████| 4/4 [00:11<00:00,  2.99s/it]\n",
            "process 52195: 100%|██████████| 4/4 [00:14<00:00,  3.53s/it]\n"
          ]
        },
        {
          "output_type": "stream",
          "name": "stdout",
          "text": [
            "... finished ...\n",
            "query: Carolina Wren q_gt:B since:2020-01-01\n",
            "... retrieving metadata ...\n"
          ]
        },
        {
          "output_type": "stream",
          "name": "stderr",
          "text": [
            "process 52454: 100%|██████████| 13/13 [00:22<00:00,  1.72s/it]\n",
            "process 52448: 100%|██████████| 13/13 [00:22<00:00,  1.75s/it]\n",
            "process 52431: 100%|██████████| 13/13 [00:24<00:00,  1.90s/it]\n",
            "process 52458: 100%|██████████| 13/13 [00:25<00:00,  1.97s/it]\n",
            "process 52444: 100%|██████████| 13/13 [00:26<00:00,  2.01s/it]\n",
            "process 52427: 100%|██████████| 13/13 [00:26<00:00,  2.06s/it]\n",
            "process 52416: 100%|██████████| 14/14 [00:27<00:00,  1.57s/it]\n",
            "process 52423: 100%|██████████| 13/13 [00:28<00:00,  2.15s/it]\n",
            "process 52417: 100%|██████████| 14/14 [00:33<00:00,  2.40s/it]\n",
            "process 52418: 100%|██████████| 14/14 [00:41<00:00,  2.96s/it]\n"
          ]
        },
        {
          "output_type": "stream",
          "name": "stdout",
          "text": [
            "... finished ...\n",
            "query: House Wren q_gt:B since:2020-01-01\n",
            "... retrieving metadata ...\n"
          ]
        },
        {
          "output_type": "stream",
          "name": "stderr",
          "text": [
            "process 52988: 100%|██████████| 30/30 [00:58<00:00,  1.96s/it]\n",
            "process 52982: 100%|██████████| 31/31 [01:00<00:00,  1.94s/it]\n",
            "process 52968: 100%|██████████| 31/31 [01:01<00:00,  1.99s/it]\n",
            "process 52977: 100%|██████████| 31/31 [01:01<00:00,  1.99s/it]\n",
            "process 52971: 100%|██████████| 31/31 [01:01<00:00,  2.00s/it]\n",
            "process 52963: 100%|██████████| 31/31 [01:07<00:00,  2.19s/it]\n",
            "process 52957: 100%|██████████| 31/31 [01:13<00:00,  2.38s/it]\n",
            "process 52961: 100%|██████████| 31/31 [01:14<00:00,  2.42s/it]\n",
            "process 52954: 100%|██████████| 31/31 [01:17<00:00,  2.49s/it]\n",
            "process 52952: 100%|██████████| 31/31 [01:21<00:00,  2.64s/it]\n"
          ]
        },
        {
          "output_type": "stream",
          "name": "stdout",
          "text": [
            "... finished ...\n",
            "query: Winter Wren q_gt:B since:2020-01-01\n",
            "... retrieving metadata ...\n"
          ]
        },
        {
          "output_type": "stream",
          "name": "stderr",
          "text": [
            "process 54030: 100%|██████████| 3/3 [00:05<00:00,  1.82s/it]\n",
            "process 54021: 100%|██████████| 3/3 [00:05<00:00,  1.98s/it]\n",
            "process 54026: 100%|██████████| 3/3 [00:05<00:00,  1.98s/it]\n",
            "process 54033: 100%|██████████| 3/3 [00:06<00:00,  2.08s/it]\n",
            "process 54000: 100%|██████████| 4/4 [00:09<00:00,  2.28s/it]\n",
            "process 54009: 100%|██████████| 4/4 [00:10<00:00,  2.63s/it]\n",
            "process 54016: 100%|██████████| 4/4 [00:10<00:00,  2.66s/it]\n",
            "process 54005: 100%|██████████| 4/4 [00:12<00:00,  3.24s/it]\n",
            "process 54013: 100%|██████████| 4/4 [00:15<00:00,  3.92s/it]\n",
            "process 54001: 100%|██████████| 4/4 [00:17<00:00,  4.41s/it]\n"
          ]
        },
        {
          "output_type": "stream",
          "name": "stdout",
          "text": [
            "... finished ...\n",
            "query: Sedge Wren q_gt:B since:2020-01-01\n",
            "... retrieving metadata ...\n"
          ]
        },
        {
          "output_type": "stream",
          "name": "stderr",
          "text": [
            "process 54256: 100%|██████████| 2/2 [00:03<00:00,  1.80s/it]\n",
            "process 54260: 100%|██████████| 2/2 [00:03<00:00,  1.84s/it]\n",
            "process 54264: 100%|██████████| 2/2 [00:03<00:00,  1.86s/it]\n",
            "process 54251: 100%|██████████| 2/2 [00:03<00:00,  1.94s/it]\n",
            "process 54269: 100%|██████████| 2/2 [00:04<00:00,  2.06s/it]\n",
            "process 54238: 100%|██████████| 2/2 [00:04<00:00,  2.17s/it]\n",
            "process 54242: 100%|██████████| 2/2 [00:04<00:00,  2.23s/it]\n",
            "process 54242: 100%|██████████| 2/2 [00:04<00:00,  2.16s/it]\n",
            "process 54265: 100%|██████████| 2/2 [00:04<00:00,  2.13s/it]\n",
            "process 54236: 100%|██████████| 3/3 [00:09<00:00,  3.17s/it]\n"
          ]
        },
        {
          "output_type": "stream",
          "name": "stdout",
          "text": [
            "... finished ...\n",
            "query: Marsh Wren q_gt:B since:2020-01-01\n",
            "... retrieving metadata ...\n"
          ]
        },
        {
          "output_type": "stream",
          "name": "stderr",
          "text": [
            "process 54448: 100%|██████████| 7/7 [00:12<00:00,  1.75s/it]\n",
            "process 54432: 100%|██████████| 7/7 [00:14<00:00,  2.12s/it]\n",
            "process 54435: 100%|██████████| 7/7 [00:14<00:00,  2.14s/it]\n",
            "process 54442: 100%|██████████| 7/7 [00:15<00:00,  2.16s/it]\n",
            "process 54452: 100%|██████████| 7/7 [00:15<00:00,  2.19s/it]\n",
            "process 54440: 100%|██████████| 7/7 [00:15<00:00,  2.26s/it]\n",
            "process 54428: 100%|██████████| 8/8 [00:16<00:00,  2.11s/it]\n",
            "process 54427: 100%|██████████| 8/8 [00:18<00:00,  2.35s/it]\n",
            "process 54423: 100%|██████████| 8/8 [00:18<00:00,  2.36s/it]\n",
            "process 54415: 100%|██████████| 8/8 [00:22<00:00,  2.81s/it]\n"
          ]
        },
        {
          "output_type": "stream",
          "name": "stdout",
          "text": [
            "... finished ...\n",
            "query: Golden-crowned Kinglet q_gt:B since:2020-01-01\n",
            "... retrieving metadata ...\n"
          ]
        },
        {
          "output_type": "stream",
          "name": "stderr",
          "text": [
            "process 54793: 100%|██████████| 3/3 [00:05<00:00,  1.85s/it]\n",
            "process 54780: 100%|██████████| 3/3 [00:05<00:00,  1.91s/it]\n",
            "process 54783: 100%|██████████| 3/3 [00:05<00:00,  1.93s/it]\n",
            "process 54769: 100%|██████████| 3/3 [00:06<00:00,  2.06s/it]\n",
            "process 54773: 100%|██████████| 3/3 [00:06<00:00,  2.20s/it]\n",
            "process 54771: 100%|██████████| 3/3 [00:06<00:00,  2.22s/it]\n",
            "process 54762: 100%|██████████| 4/4 [00:07<00:00,  1.97s/it]\n",
            "process 54756: 100%|██████████| 4/4 [00:08<00:00,  2.08s/it]\n",
            "process 54766: 100%|██████████| 4/4 [00:08<00:00,  2.07s/it]\n",
            "process 54754: 100%|██████████| 4/4 [00:08<00:00,  2.24s/it]\n"
          ]
        },
        {
          "output_type": "stream",
          "name": "stdout",
          "text": [
            "... finished ...\n",
            "query: Ruby-crowned Kinglet q_gt:B since:2020-01-01\n",
            "... retrieving metadata ...\n"
          ]
        },
        {
          "output_type": "stream",
          "name": "stderr",
          "text": [
            "process 54991: 100%|██████████| 4/4 [00:06<00:00,  1.59s/it]\n",
            "process 54976: 100%|██████████| 4/4 [00:07<00:00,  1.82s/it]\n",
            "process 54988: 100%|██████████| 4/4 [00:07<00:00,  1.83s/it]\n",
            "process 54983: 100%|██████████| 4/4 [00:08<00:00,  2.14s/it]\n",
            "process 54971: 100%|██████████| 5/5 [00:09<00:00,  1.82s/it]\n",
            "process 54967: 100%|██████████| 5/5 [00:10<00:00,  2.03s/it]\n",
            "process 54963: 100%|██████████| 5/5 [00:11<00:00,  2.30s/it]\n",
            "process 54973: 100%|██████████| 5/5 [00:11<00:00,  2.30s/it]\n",
            "process 54958: 100%|██████████| 5/5 [00:11<00:00,  2.39s/it]\n",
            "process 54960: 100%|██████████| 5/5 [00:14<00:00,  2.80s/it]\n"
          ]
        },
        {
          "output_type": "stream",
          "name": "stdout",
          "text": [
            "... finished ...\n",
            "query: Blue-gray Gnatcatcher q_gt:B since:2020-01-01\n",
            "... retrieving metadata ...\n",
            "An unexpected error occurred for bird 'Blue-gray Gnatcatcher': integer division or modulo by zero\n",
            "query: Eastern Bluebird q_gt:B since:2020-01-01\n",
            "... retrieving metadata ...\n"
          ]
        },
        {
          "output_type": "stream",
          "name": "stderr",
          "text": [
            "process 55249:  50%|█████     | 1/2 [00:02<00:02,  2.04s/it]\n",
            "process 55245: 100%|██████████| 2/2 [00:03<00:00,  1.86s/it]\n",
            "process 55249: 100%|██████████| 2/2 [00:03<00:00,  1.85s/it]\n",
            "process 55218: 100%|██████████| 2/2 [00:04<00:00,  2.10s/it]\n",
            "process 55222: 100%|██████████| 2/2 [00:04<00:00,  2.10s/it]\n",
            "process 55223: 100%|██████████| 2/2 [00:04<00:00,  2.23s/it]\n",
            "process 55227: 100%|██████████| 2/2 [00:04<00:00,  2.23s/it]\n",
            "process 55232: 100%|██████████| 2/2 [00:05<00:00,  2.66s/it]\n",
            "process 55243: 100%|██████████| 2/2 [00:05<00:00,  2.62s/it]\n",
            "process 55235: 100%|██████████| 2/2 [00:05<00:00,  2.65s/it]\n"
          ]
        },
        {
          "output_type": "stream",
          "name": "stdout",
          "text": [
            "... finished ...\n",
            "query: Veery q_gt:B since:2020-01-01\n",
            "... retrieving metadata ...\n"
          ]
        },
        {
          "output_type": "stream",
          "name": "stderr",
          "text": [
            "process 55412: 100%|██████████| 3/3 [00:06<00:00,  2.08s/it]\n",
            "process 55424: 100%|██████████| 3/3 [00:06<00:00,  2.07s/it]\n",
            "process 55423: 100%|██████████| 3/3 [00:06<00:00,  2.21s/it]\n",
            "process 55419: 100%|██████████| 3/3 [00:06<00:00,  2.28s/it]\n",
            "process 55396: 100%|██████████| 4/4 [00:07<00:00,  1.77s/it]\n",
            "process 55390: 100%|██████████| 4/4 [00:07<00:00,  1.95s/it]\n",
            "process 55402: 100%|██████████| 4/4 [00:07<00:00,  1.98s/it]\n",
            "process 55408: 100%|██████████| 4/4 [00:08<00:00,  2.00s/it]\n",
            "process 55405: 100%|██████████| 4/4 [00:08<00:00,  2.11s/it]\n",
            "process 55392: 100%|██████████| 4/4 [00:11<00:00,  2.73s/it]\n",
            "process 55392: 100%|██████████| 4/4 [00:11<00:00,  2.87s/it]"
          ]
        },
        {
          "output_type": "stream",
          "name": "stdout",
          "text": [
            "... finished ...\n",
            "query: Gray-cheeked Thrush q_gt:B since:2020-01-01\n",
            "... retrieving metadata ...\n",
            "An unexpected error occurred for bird 'Gray-cheeked Thrush': integer division or modulo by zero\n",
            "query: Swainsons Thrush q_gt:B since:2020-01-01\n",
            "... retrieving metadata ...\n",
            "Error processing bird 'Swainsons Thrush': 'ascii' codec can't encode character '\\x92' in position 36: ordinal not in range(128)\n",
            "query: Hermit Thrush q_gt:B since:2020-01-01\n",
            "... retrieving metadata ...\n"
          ]
        },
        {
          "output_type": "stream",
          "name": "stderr",
          "text": [
            "process 55662: 100%|██████████| 7/7 [00:13<00:00,  1.86s/it]\n",
            "process 55623: 100%|██████████| 7/7 [00:14<00:00,  2.12s/it]\n",
            "process 55635: 100%|██████████| 7/7 [00:14<00:00,  2.11s/it]\n",
            "process 55632: 100%|██████████| 7/7 [00:14<00:00,  2.13s/it]\n",
            "process 55625: 100%|██████████| 7/7 [00:15<00:00,  2.20s/it]\n",
            "process 55651: 100%|██████████| 7/7 [00:15<00:00,  2.22s/it]\n",
            "process 55643: 100%|██████████| 7/7 [00:15<00:00,  2.27s/it]\n",
            "process 55645: 100%|██████████| 7/7 [00:16<00:00,  2.37s/it]\n",
            "process 55639: 100%|██████████| 7/7 [00:18<00:00,  2.64s/it]\n",
            "process 55622: 100%|██████████| 8/8 [00:28<00:00,  3.61s/it]\n"
          ]
        },
        {
          "output_type": "stream",
          "name": "stdout",
          "text": [
            "... finished ...\n",
            "query: Wood Thrush q_gt:B since:2020-01-01\n",
            "... retrieving metadata ...\n"
          ]
        },
        {
          "output_type": "stream",
          "name": "stderr",
          "text": [
            "process 56002: 100%|██████████| 5/5 [00:09<00:00,  1.98s/it]\n",
            "process 56006: 100%|██████████| 5/5 [00:09<00:00,  1.99s/it]\n",
            "process 55990: 100%|██████████| 6/6 [00:11<00:00,  1.86s/it]\n",
            "process 55989: 100%|██████████| 6/6 [00:11<00:00,  1.90s/it]\n",
            "process 55998: 100%|██████████| 5/5 [00:12<00:00,  2.53s/it]\n",
            "process 56017: 100%|██████████| 5/5 [00:12<00:00,  2.27s/it]\n",
            "process 55994: 100%|██████████| 6/6 [00:12<00:00,  2.14s/it]\n",
            "process 56011: 100%|██████████| 5/5 [00:13<00:00,  2.64s/it]\n",
            "process 55981: 100%|██████████| 6/6 [00:16<00:00,  2.73s/it]\n",
            "process 55985: 100%|██████████| 6/6 [00:20<00:00,  3.41s/it]\n"
          ]
        },
        {
          "output_type": "stream",
          "name": "stdout",
          "text": [
            "... finished ...\n",
            "query: American Robin q_gt:B since:2020-01-01\n",
            "... retrieving metadata ...\n"
          ]
        },
        {
          "output_type": "stream",
          "name": "stderr",
          "text": [
            "process 56293:  83%|████████▎ | 10/12 [00:20<00:04,  2.12s/it]\n",
            "process 56308: 100%|██████████| 12/12 [00:22<00:00,  1.84s/it]\n",
            "process 56312: 100%|██████████| 11/11 [00:22<00:00,  2.09s/it]\n",
            "process 56293: 100%|██████████| 12/12 [00:23<00:00,  1.98s/it]\n",
            "process 56292: 100%|██████████| 12/12 [00:24<00:00,  2.04s/it]\n",
            "process 56304: 100%|██████████| 12/12 [00:24<00:00,  2.08s/it]\n",
            "process 56285: 100%|██████████| 12/12 [00:25<00:00,  2.14s/it]\n",
            "process 56298: 100%|██████████| 12/12 [00:26<00:00,  2.21s/it]\n",
            "process 56280: 100%|██████████| 12/12 [00:26<00:00,  2.23s/it]\n",
            "process 56282: 100%|██████████| 12/12 [00:27<00:00,  2.25s/it]\n"
          ]
        },
        {
          "output_type": "stream",
          "name": "stdout",
          "text": [
            "... finished ...\n",
            "query: Gray Catbird q_gt:B since:2020-01-01\n",
            "... retrieving metadata ...\n",
            "An unexpected error occurred for bird 'Gray Catbird': integer division or modulo by zero\n",
            "query: Northern Mockingbird q_gt:B since:2020-01-01\n",
            "... retrieving metadata ...\n"
          ]
        },
        {
          "output_type": "stream",
          "name": "stderr",
          "text": [
            "process 56774: 100%|██████████| 13/13 [00:29<00:00,  2.29s/it]\n",
            "process 56754: 100%|██████████| 14/14 [00:30<00:00,  2.18s/it]\n",
            "process 56770: 100%|██████████| 13/13 [00:31<00:00,  2.43s/it]\n",
            "process 56758: 100%|██████████| 14/14 [00:31<00:00,  2.29s/it]\n",
            "process 56748: 100%|██████████| 14/14 [00:32<00:00,  2.30s/it]\n",
            "process 56764: 100%|██████████| 13/13 [00:33<00:00,  2.59s/it]\n",
            "process 56762: 100%|██████████| 13/13 [00:34<00:00,  2.67s/it]\n",
            "process 56743: 100%|██████████| 14/14 [00:38<00:00,  2.75s/it]\n",
            "process 56741: 100%|██████████| 14/14 [00:39<00:00,  2.80s/it]\n",
            "process 56746: 100%|██████████| 14/14 [00:40<00:00,  2.90s/it]\n"
          ]
        },
        {
          "output_type": "stream",
          "name": "stdout",
          "text": [
            "... finished ...\n",
            "query: Brown Thrasher q_gt:B since:2020-01-01\n",
            "... retrieving metadata ...\n"
          ]
        },
        {
          "output_type": "stream",
          "name": "stderr",
          "text": [
            "process 57307: 100%|██████████| 3/3 [00:05<00:00,  1.70s/it]\n",
            "process 57304: 100%|██████████| 3/3 [00:05<00:00,  1.97s/it]\n",
            "process 57298: 100%|██████████| 3/3 [00:06<00:00,  2.09s/it]\n",
            "process 57291: 100%|██████████| 3/3 [00:07<00:00,  2.35s/it]\n",
            "process 57305: 100%|██████████| 3/3 [00:07<00:00,  2.40s/it]\n",
            "process 57276: 100%|██████████| 4/4 [00:07<00:00,  1.89s/it]\n",
            "process 57281: 100%|██████████| 4/4 [00:09<00:00,  2.27s/it]\n",
            "process 57289: 100%|██████████| 4/4 [00:09<00:00,  2.29s/it]\n",
            "process 57288: 100%|██████████| 4/4 [00:12<00:00,  3.09s/it]\n",
            "process 57278: 100%|██████████| 4/4 [00:12<00:00,  3.25s/it]\n"
          ]
        },
        {
          "output_type": "stream",
          "name": "stdout",
          "text": [
            "... finished ...\n",
            "query: Water Pipit q_gt:B since:2020-01-01\n",
            "... retrieving metadata ...\n"
          ]
        },
        {
          "output_type": "stream",
          "name": "stderr",
          "text": [
            "process 57512: 100%|██████████| 18/18 [00:28<00:00,  1.60s/it]\n",
            "process 57503: 100%|██████████| 18/18 [00:31<00:00,  1.78s/it]\n",
            "process 57526: 100%|██████████| 18/18 [00:31<00:00,  1.77s/it]\n",
            "process 57524: 100%|██████████| 18/18 [00:34<00:00,  1.91s/it]\n",
            "process 57505: 100%|██████████| 18/18 [00:34<00:00,  1.93s/it]\n",
            "process 57518: 100%|██████████| 18/18 [00:35<00:00,  1.95s/it]\n",
            "process 57514: 100%|██████████| 18/18 [00:35<00:00,  1.96s/it]\n",
            "process 57532: 100%|██████████| 18/18 [00:35<00:00,  2.00s/it]\n",
            "process 57508: 100%|██████████| 18/18 [00:40<00:00,  2.28s/it]\n",
            "process 57499: 100%|██████████| 19/19 [00:41<00:00,  2.20s/it]\n"
          ]
        },
        {
          "output_type": "stream",
          "name": "stdout",
          "text": [
            "... finished ...\n",
            "query: Cedar Waxwing q_gt:B since:2020-01-01\n",
            "... retrieving metadata ...\n"
          ]
        },
        {
          "output_type": "stream",
          "name": "stderr",
          "text": [
            "process 58129: 100%|██████████| 1/1 [00:01<00:00,  1.55s/it]\n",
            "process 58142: 100%|██████████| 1/1 [00:01<00:00,  1.80s/it]\n",
            "process 58157: 100%|██████████| 1/1 [00:01<00:00,  1.72s/it]\n",
            "process 58123:  50%|█████     | 1/2 [00:02<00:02,  2.38s/it]\n",
            "process 58151: 100%|██████████| 1/1 [00:02<00:00,  2.13s/it]\n",
            "process 58152: 100%|██████████| 1/1 [00:02<00:00,  2.45s/it]\n",
            "process 58163: 100%|██████████| 1/1 [00:02<00:00,  2.47s/it]\n",
            "\n",
            "process 58125: 100%|██████████| 2/2 [00:03<00:00,  1.84s/it]\n",
            "process 58123: 100%|██████████| 2/2 [00:04<00:00,  2.17s/it]\n"
          ]
        },
        {
          "output_type": "stream",
          "name": "stdout",
          "text": [
            "... finished ...\n",
            "query: Northern Shrike q_gt:B since:2020-01-01\n",
            "... retrieving metadata ...\n"
          ]
        },
        {
          "output_type": "stream",
          "name": "stderr",
          "text": [
            "process 58263: 100%|██████████| 1/1 [00:01<00:00,  1.50s/it]\n",
            "process 58265: 100%|██████████| 1/1 [00:01<00:00,  1.80s/it]\n"
          ]
        },
        {
          "output_type": "stream",
          "name": "stdout",
          "text": [
            "... finished ...\n",
            "query: Loggerhead Shrike q_gt:B since:2020-01-01\n",
            "... retrieving metadata ...\n"
          ]
        },
        {
          "output_type": "stream",
          "name": "stderr",
          "text": [
            "process 58311: 100%|██████████| 2/2 [00:02<00:00,  1.24s/it]\n",
            "process 58328: 100%|██████████| 2/2 [00:03<00:00,  1.76s/it]\n",
            "process 58307: 100%|██████████| 2/2 [00:04<00:00,  2.15s/it]\n",
            "process 58312: 100%|██████████| 2/2 [00:04<00:00,  2.15s/it]\n",
            "process 58327: 100%|██████████| 2/2 [00:04<00:00,  2.11s/it]\n",
            "process 58332: 100%|██████████| 2/2 [00:04<00:00,  2.19s/it]\n",
            "process 58338: 100%|██████████| 2/2 [00:04<00:00,  2.25s/it]\n",
            "process 58314: 100%|██████████| 2/2 [00:04<00:00,  2.38s/it]\n",
            "process 58336: 100%|██████████| 2/2 [00:04<00:00,  2.36s/it]\n",
            "process 58320: 100%|██████████| 2/2 [00:05<00:00,  2.54s/it]\n"
          ]
        },
        {
          "output_type": "stream",
          "name": "stdout",
          "text": [
            "... finished ...\n",
            "query: European Starling q_gt:B since:2020-01-01\n",
            "... retrieving metadata ...\n",
            "An unexpected error occurred for bird 'European Starling': integer division or modulo by zero\n",
            "query: White-eyed Vireo q_gt:B since:2020-01-01\n",
            "... retrieving metadata ...\n"
          ]
        },
        {
          "output_type": "stream",
          "name": "stderr",
          "text": [
            "process 58505: 100%|██████████| 4/4 [00:06<00:00,  1.67s/it]\n",
            "process 58517: 100%|██████████| 4/4 [00:06<00:00,  1.70s/it]\n",
            "process 58519: 100%|██████████| 4/4 [00:07<00:00,  1.95s/it]\n",
            "process 58513: 100%|██████████| 4/4 [00:07<00:00,  1.97s/it]\n",
            "process 58497: 100%|██████████| 4/4 [00:07<00:00,  1.99s/it]\n",
            "process 58499: 100%|██████████| 4/4 [00:08<00:00,  2.10s/it]\n",
            "process 58498: 100%|██████████| 4/4 [00:08<00:00,  2.25s/it]\n",
            "process 58487: 100%|██████████| 5/5 [00:10<00:00,  2.05s/it]\n",
            "process 58493: 100%|██████████| 5/5 [00:10<00:00,  2.10s/it]\n",
            "process 58485: 100%|██████████| 5/5 [00:11<00:00,  2.33s/it]\n"
          ]
        },
        {
          "output_type": "stream",
          "name": "stdout",
          "text": [
            "... finished ...\n",
            "query: Blue-headed Vireo q_gt:B since:2020-01-01\n",
            "... retrieving metadata ...\n"
          ]
        },
        {
          "output_type": "stream",
          "name": "stderr",
          "text": [
            "process 58747: 100%|██████████| 3/3 [00:05<00:00,  1.88s/it]\n",
            "process 58728: 100%|██████████| 4/4 [00:08<00:00,  2.09s/it]\n",
            "process 58742: 100%|██████████| 4/4 [00:08<00:00,  2.08s/it]\n",
            "process 58734: 100%|██████████| 4/4 [00:08<00:00,  2.14s/it]\n",
            "process 58739: 100%|██████████| 4/4 [00:08<00:00,  2.23s/it]\n",
            "process 58746: 100%|██████████| 4/4 [00:08<00:00,  2.21s/it]\n",
            "process 58720: 100%|██████████| 4/4 [00:10<00:00,  2.50s/it]\n",
            "process 58718: 100%|██████████| 4/4 [00:10<00:00,  2.62s/it]\n",
            "process 58717: 100%|██████████| 4/4 [00:11<00:00,  2.77s/it]\n",
            "process 58724: 100%|██████████| 4/4 [00:11<00:00,  2.89s/it]\n"
          ]
        },
        {
          "output_type": "stream",
          "name": "stdout",
          "text": [
            "... finished ...\n",
            "query: Yellow-throated Vireo q_gt:B since:2020-01-01\n",
            "... retrieving metadata ...\n"
          ]
        },
        {
          "output_type": "stream",
          "name": "stderr",
          "text": [
            "process 58956: 100%|██████████| 2/2 [00:03<00:00,  1.52s/it]\n",
            "process 58953: 100%|██████████| 2/2 [00:03<00:00,  1.90s/it]\n",
            "process 58970: 100%|██████████| 2/2 [00:03<00:00,  1.81s/it]\n",
            "process 58968: 100%|██████████| 2/2 [00:03<00:00,  1.96s/it]\n",
            "process 58958: 100%|██████████| 2/2 [00:04<00:00,  2.11s/it]\n",
            "process 58965: 100%|██████████| 2/2 [00:04<00:00,  2.19s/it]\n",
            "process 58946: 100%|██████████| 2/2 [00:04<00:00,  2.45s/it]\n",
            "process 58940: 100%|██████████| 2/2 [00:05<00:00,  2.62s/it]\n",
            "process 58942: 100%|██████████| 2/2 [00:05<00:00,  2.82s/it]\n",
            "process 58939: 100%|██████████| 3/3 [00:06<00:00,  2.03s/it]\n"
          ]
        },
        {
          "output_type": "stream",
          "name": "stdout",
          "text": [
            "... finished ...\n",
            "query: Warbling Vireo q_gt:B since:2020-01-01\n",
            "... retrieving metadata ...\n"
          ]
        },
        {
          "output_type": "stream",
          "name": "stderr",
          "text": [
            "process 59137: 100%|██████████| 7/7 [00:13<00:00,  1.98s/it]\n",
            "process 59131: 100%|██████████| 7/7 [00:14<00:00,  2.03s/it]\n",
            "process 59128: 100%|██████████| 7/7 [00:14<00:00,  2.04s/it]\n",
            "process 59141: 100%|██████████| 7/7 [00:15<00:00,  2.22s/it]\n",
            "process 59119: 100%|██████████| 7/7 [00:15<00:00,  2.25s/it]\n",
            "\n",
            "process 59125: 100%|██████████| 7/7 [00:15<00:00,  2.25s/it]\n",
            "process 59101: 100%|██████████| 8/8 [00:17<00:00,  2.18s/it]\n",
            "process 59110: 100%|██████████| 8/8 [00:19<00:00,  2.48s/it]\n",
            "process 59105: 100%|██████████| 8/8 [00:21<00:00,  2.71s/it]\n"
          ]
        },
        {
          "output_type": "stream",
          "name": "stdout",
          "text": [
            "... finished ...\n",
            "query: Philadelphia Vireo q_gt:B since:2020-01-01\n",
            "... retrieving metadata ...\n"
          ]
        },
        {
          "output_type": "stream",
          "name": "stderr",
          "text": [
            "process 59433: 100%|██████████| 1/1 [00:02<00:00,  2.01s/it]\n",
            "process 59445: 100%|██████████| 1/1 [00:02<00:00,  2.15s/it]\n",
            "process 59443: 100%|██████████| 1/1 [00:02<00:00,  2.19s/it]\n",
            "process 59431: 100%|██████████| 1/1 [00:02<00:00,  2.44s/it]\n",
            "process 59436: 100%|██████████| 1/1 [00:03<00:00,  3.49s/it]\n"
          ]
        },
        {
          "output_type": "stream",
          "name": "stdout",
          "text": [
            "... finished ...\n",
            "query: Red-eyed Vireo q_gt:B since:2020-01-01\n",
            "... retrieving metadata ...\n"
          ]
        },
        {
          "output_type": "stream",
          "name": "stderr",
          "text": [
            "process 59535: 100%|██████████| 8/8 [00:15<00:00,  1.91s/it]\n",
            "process 59541: 100%|██████████| 8/8 [00:15<00:00,  1.97s/it]\n",
            "process 59547: 100%|██████████| 8/8 [00:15<00:00,  1.99s/it]\n",
            "process 59552: 100%|██████████| 8/8 [00:16<00:00,  2.09s/it]\n",
            "process 59549: 100%|██████████| 8/8 [00:17<00:00,  2.20s/it]\n",
            "process 59528: 100%|██████████| 8/8 [00:18<00:00,  2.29s/it]\n",
            "process 59521: 100%|██████████| 8/8 [00:18<00:00,  2.32s/it]\n",
            "process 59516: 100%|██████████| 8/8 [00:19<00:00,  2.41s/it]\n",
            "process 59515: 100%|██████████| 9/9 [00:24<00:00,  2.70s/it]\n",
            "process 59518: 100%|██████████| 8/8 [00:24<00:00,  3.09s/it]\n"
          ]
        },
        {
          "output_type": "stream",
          "name": "stdout",
          "text": [
            "... finished ...\n",
            "query: Blue-winged Warbler q_gt:B since:2020-01-01\n",
            "... retrieving metadata ...\n"
          ]
        },
        {
          "output_type": "stream",
          "name": "stderr",
          "text": [
            "process 59877: 100%|██████████| 1/1 [00:02<00:00,  2.18s/it]\n",
            "\n",
            "process 59880: 100%|██████████| 1/1 [00:02<00:00,  2.14s/it]\n",
            "process 59878: 100%|██████████| 1/1 [00:02<00:00,  2.30s/it]\n",
            "process 59892: 100%|██████████| 1/1 [00:02<00:00,  2.22s/it]\n",
            "process 59901: 100%|██████████| 1/1 [00:02<00:00,  2.19s/it]\n",
            "process 59911: 100%|██████████| 1/1 [00:02<00:00,  2.39s/it]\n",
            "process 59895: 100%|██████████| 1/1 [00:02<00:00,  2.66s/it]\n",
            "process 59902: 100%|██████████| 1/1 [00:02<00:00,  2.54s/it]\n",
            "process 59907: 100%|██████████| 1/1 [00:02<00:00,  2.70s/it]\n"
          ]
        },
        {
          "output_type": "stream",
          "name": "stdout",
          "text": [
            "... finished ...\n",
            "query: Golden-winged Warbler q_gt:B since:2020-01-01\n",
            "... retrieving metadata ...\n"
          ]
        },
        {
          "output_type": "stream",
          "name": "stderr",
          "text": [
            "process 60045: 100%|██████████| 1/1 [00:01<00:00,  1.34s/it]\n",
            "process 60046: 100%|██████████| 1/1 [00:01<00:00,  1.75s/it]\n",
            "process 60031: 100%|██████████| 1/1 [00:01<00:00,  1.90s/it]\n",
            "process 60013: 100%|██████████| 1/1 [00:02<00:00,  2.10s/it]\n",
            "process 60041: 100%|██████████| 1/1 [00:01<00:00,  1.99s/it]\n",
            "process 60025: 100%|██████████| 1/1 [00:02<00:00,  2.13s/it]\n",
            "process 60017: 100%|██████████| 1/1 [00:02<00:00,  2.24s/it]\n",
            "process 60018: 100%|██████████| 1/1 [00:02<00:00,  2.30s/it]\n",
            "process 60027: 100%|██████████| 1/1 [00:02<00:00,  2.35s/it]\n",
            "process 60037: 100%|██████████| 1/1 [00:03<00:00,  3.33s/it]\n"
          ]
        },
        {
          "output_type": "stream",
          "name": "stdout",
          "text": [
            "... finished ...\n",
            "query: Tennesee Warbler q_gt:B since:2020-01-01\n",
            "... retrieving metadata ...\n",
            "An unexpected error occurred for bird 'Tennesee Warbler': integer division or modulo by zero\n",
            "query: Orange-crowned Warbler q_gt:B since:2020-01-01\n",
            "... retrieving metadata ...\n"
          ]
        },
        {
          "output_type": "stream",
          "name": "stderr",
          "text": [
            "process 60199: 100%|██████████| 4/4 [00:06<00:00,  1.65s/it]\n",
            "process 60185: 100%|██████████| 5/5 [00:08<00:00,  1.77s/it]\n",
            "process 60161: 100%|██████████| 5/5 [00:10<00:00,  2.01s/it]\n",
            "process 60179: 100%|██████████| 5/5 [00:10<00:00,  2.02s/it]\n",
            "process 60193: 100%|██████████| 5/5 [00:10<00:00,  2.04s/it]\n",
            "process 60189: 100%|██████████| 5/5 [00:10<00:00,  2.06s/it]\n",
            "process 60175: 100%|██████████| 5/5 [00:11<00:00,  2.28s/it]\n",
            "process 60171: 100%|██████████| 5/5 [00:11<00:00,  2.29s/it]\n",
            "process 60163: 100%|██████████| 5/5 [00:12<00:00,  2.45s/it]\n",
            "process 60169: 100%|██████████| 5/5 [00:12<00:00,  2.51s/it]\n"
          ]
        },
        {
          "output_type": "stream",
          "name": "stdout",
          "text": [
            "... finished ...\n",
            "query: Nashville Warbler q_gt:B since:2020-01-01\n",
            "... retrieving metadata ...\n"
          ]
        },
        {
          "output_type": "stream",
          "name": "stderr",
          "text": [
            "process 60435: 100%|██████████| 3/3 [00:05<00:00,  1.69s/it]\n",
            "process 60442: 100%|██████████| 3/3 [00:05<00:00,  1.71s/it]\n",
            "process 60443: 100%|██████████| 3/3 [00:05<00:00,  1.70s/it]\n",
            "process 60438: 100%|██████████| 3/3 [00:05<00:00,  1.89s/it]\n",
            "process 60413: 100%|██████████| 4/4 [00:06<00:00,  1.59s/it]\n",
            "process 60428: 100%|██████████| 3/3 [00:06<00:00,  2.14s/it]\n",
            "process 60418: 100%|██████████| 3/3 [00:06<00:00,  2.18s/it]\n",
            "process 60433: 100%|██████████| 3/3 [00:06<00:00,  2.19s/it]\n",
            "process 60422: 100%|██████████| 3/3 [00:07<00:00,  2.35s/it]\n",
            "process 60415: 100%|██████████| 4/4 [00:08<00:00,  2.14s/it]\n"
          ]
        },
        {
          "output_type": "stream",
          "name": "stdout",
          "text": [
            "... finished ...\n",
            "query: Northern Parula q_gt:B since:2020-01-01\n",
            "... retrieving metadata ...\n"
          ]
        },
        {
          "output_type": "stream",
          "name": "stderr",
          "text": [
            "process 60645: 100%|██████████| 4/4 [00:08<00:00,  2.08s/it]\n",
            "process 60641: 100%|██████████| 4/4 [00:08<00:00,  2.10s/it]\n",
            "process 60630: 100%|██████████| 5/5 [00:09<00:00,  1.91s/it]\n",
            "process 60615: 100%|██████████| 5/5 [00:09<00:00,  1.99s/it]\n",
            "process 60626: 100%|██████████| 5/5 [00:10<00:00,  2.19s/it]\n",
            "process 60622: 100%|██████████| 5/5 [00:11<00:00,  2.37s/it]\n",
            "process 60618: 100%|██████████| 5/5 [00:12<00:00,  2.48s/it]\n",
            "process 60634: 100%|██████████| 5/5 [00:13<00:00,  2.67s/it]\n",
            "process 60611: 100%|██████████| 5/5 [00:14<00:00,  2.88s/it]\n",
            "process 60609: 100%|██████████| 5/5 [00:18<00:00,  3.66s/it]\n"
          ]
        },
        {
          "output_type": "stream",
          "name": "stdout",
          "text": [
            "... finished ...\n",
            "query: Yellow Warbler q_gt:B since:2020-01-01\n",
            "... retrieving metadata ...\n"
          ]
        },
        {
          "output_type": "stream",
          "name": "stderr",
          "text": [
            "process 60917: 100%|██████████| 11/11 [00:18<00:00,  1.70s/it]\n",
            "process 60902: 100%|██████████| 11/11 [00:21<00:00,  1.91s/it]\n",
            "process 60911: 100%|██████████| 11/11 [00:21<00:00,  1.95s/it]\n",
            "process 60894: 100%|██████████| 11/11 [00:21<00:00,  1.99s/it]\n",
            "process 60878: 100%|██████████| 12/12 [00:22<00:00,  1.90s/it]\n",
            "process 60899: 100%|██████████| 11/11 [00:23<00:00,  2.14s/it]\n",
            "process 60893: 100%|██████████| 11/11 [00:24<00:00,  2.22s/it]\n",
            "process 60889: 100%|██████████| 11/11 [00:24<00:00,  2.25s/it]\n",
            "process 60877: 100%|██████████| 12/12 [00:25<00:00,  2.13s/it]\n",
            "process 60883: 100%|██████████| 12/12 [00:26<00:00,  2.25s/it]\n"
          ]
        },
        {
          "output_type": "stream",
          "name": "stdout",
          "text": [
            "... finished ...\n",
            "query: Chestnut-sided Warbler q_gt:B since:2020-01-01\n",
            "... retrieving metadata ...\n"
          ]
        },
        {
          "output_type": "stream",
          "name": "stderr",
          "text": [
            "process 61325: 100%|██████████| 5/5 [00:09<00:00,  1.95s/it]\n",
            "process 61313: 100%|██████████| 5/5 [00:09<00:00,  1.98s/it]\n",
            "process 61342: 100%|██████████| 5/5 [00:10<00:00,  2.01s/it]\n",
            "process 61315: 100%|██████████| 5/5 [00:10<00:00,  2.04s/it]\n",
            "process 61346: 100%|██████████| 5/5 [00:10<00:00,  2.02s/it]\n",
            "process 61334: 100%|██████████| 5/5 [00:10<00:00,  2.11s/it]\n",
            "process 61340: 100%|██████████| 5/5 [00:10<00:00,  2.17s/it]\n",
            "process 61327: 100%|██████████| 5/5 [00:11<00:00,  2.23s/it]\n",
            "process 61310: 100%|██████████| 5/5 [00:13<00:00,  2.75s/it]\n",
            "process 61308: 100%|██████████| 6/6 [00:15<00:00,  2.58s/it]\n"
          ]
        },
        {
          "output_type": "stream",
          "name": "stdout",
          "text": [
            "... finished ...\n",
            "query: Magnolia Warbler q_gt:B since:2020-01-01\n",
            "... retrieving metadata ...\n"
          ]
        },
        {
          "output_type": "stream",
          "name": "stderr",
          "text": [
            "process 61596: 100%|██████████| 3/3 [00:05<00:00,  1.91s/it]\n",
            "process 61601: 100%|██████████| 3/3 [00:05<00:00,  1.94s/it]\n",
            "process 61592: 100%|██████████| 3/3 [00:06<00:00,  2.14s/it]\n",
            "process 61607: 100%|██████████| 3/3 [00:06<00:00,  2.29s/it]\n",
            "process 61581: 100%|██████████| 4/4 [00:07<00:00,  1.89s/it]\n",
            "process 61574: 100%|██████████| 4/4 [00:07<00:00,  1.92s/it]\n",
            "process 61605: 100%|██████████| 3/3 [00:07<00:00,  2.52s/it]\n",
            "process 61588: 100%|██████████| 4/4 [00:08<00:00,  2.18s/it]\n",
            "process 61577: 100%|██████████| 4/4 [00:09<00:00,  2.28s/it]\n",
            "process 61572: 100%|██████████| 4/4 [00:09<00:00,  2.44s/it]\n"
          ]
        },
        {
          "output_type": "stream",
          "name": "stdout",
          "text": [
            "... finished ...\n",
            "query: Cape May Warbler q_gt:B since:2020-01-01\n",
            "... retrieving metadata ...\n"
          ]
        },
        {
          "output_type": "stream",
          "name": "stderr",
          "text": [
            "process 61798: 100%|██████████| 1/1 [00:01<00:00,  1.19s/it]\n",
            "process 61799: 100%|██████████| 1/1 [00:01<00:00,  1.76s/it]\n",
            "process 61780: 100%|██████████| 1/1 [00:02<00:00,  2.11s/it]\n",
            "process 61803: 100%|██████████| 1/1 [00:02<00:00,  2.02s/it]\n",
            "process 61783: 100%|██████████| 1/1 [00:02<00:00,  2.34s/it]\n",
            "process 61778: 100%|██████████| 1/1 [00:02<00:00,  2.46s/it]\n",
            "process 61794: 100%|██████████| 1/1 [00:02<00:00,  2.47s/it]\n",
            "process 61789: 100%|██████████| 1/1 [00:03<00:00,  3.40s/it]\n"
          ]
        },
        {
          "output_type": "stream",
          "name": "stdout",
          "text": [
            "... finished ...\n",
            "query: Black-throated Blue Warbler q_gt:B since:2020-01-01\n",
            "... retrieving metadata ...\n"
          ]
        },
        {
          "output_type": "stream",
          "name": "stderr",
          "text": [
            "process 61920: 100%|██████████| 2/2 [00:03<00:00,  1.62s/it]\n",
            "process 61900: 100%|██████████| 3/3 [00:05<00:00,  1.87s/it]\n",
            "process 61895: 100%|██████████| 3/3 [00:05<00:00,  1.89s/it]\n",
            "process 61908: 100%|██████████| 3/3 [00:06<00:00,  2.09s/it]\n",
            "process 61906: 100%|██████████| 3/3 [00:06<00:00,  2.11s/it]\n",
            "process 61911: 100%|██████████| 3/3 [00:06<00:00,  2.21s/it]\n",
            "process 61890: 100%|██████████| 3/3 [00:07<00:00,  2.37s/it]\n",
            "process 61892: 100%|██████████| 3/3 [00:07<00:00,  2.38s/it]\n",
            "process 61919: 100%|██████████| 3/3 [00:08<00:00,  2.69s/it]\n",
            "process 61916: 100%|██████████| 3/3 [00:08<00:00,  2.89s/it]\n"
          ]
        },
        {
          "output_type": "stream",
          "name": "stdout",
          "text": [
            "... finished ...\n",
            "query: Yellow-rumped Warbler q_gt:B since:2020-01-01\n",
            "... retrieving metadata ...\n",
            "An unexpected error occurred for bird 'Yellow-rumped Warbler': integer division or modulo by zero\n",
            "query: Black-throated Green Warbler q_gt:B since:2020-01-01\n",
            "... retrieving metadata ...\n"
          ]
        },
        {
          "output_type": "stream",
          "name": "stderr",
          "text": [
            "process 62129: 100%|██████████| 1/1 [00:01<00:00,  1.83s/it]\n",
            "process 62121: 100%|██████████| 1/1 [00:02<00:00,  2.65s/it]\n",
            "process 62125: 100%|██████████| 1/1 [00:02<00:00,  2.69s/it]\n",
            "process 62133: 100%|██████████| 1/1 [00:02<00:00,  2.89s/it]\n",
            "process 62096: 100%|██████████| 2/2 [00:03<00:00,  1.89s/it]\n",
            "process 62113: 100%|██████████| 2/2 [00:04<00:00,  2.05s/it]\n",
            "process 62097: 100%|██████████| 2/2 [00:04<00:00,  2.11s/it]\n",
            "process 62103: 100%|██████████| 2/2 [00:04<00:00,  2.09s/it]\n",
            "process 62115: 100%|██████████| 2/2 [00:04<00:00,  2.18s/it]\n",
            "process 62101: 100%|██████████| 2/2 [00:04<00:00,  2.30s/it]\n"
          ]
        },
        {
          "output_type": "stream",
          "name": "stdout",
          "text": [
            "... finished ...\n",
            "query: Blackburnian Warbler q_gt:B since:2020-01-01\n",
            "... retrieving metadata ...\n"
          ]
        },
        {
          "output_type": "stream",
          "name": "stderr",
          "text": [
            "process 62264: 100%|██████████| 2/2 [00:03<00:00,  1.92s/it]\n",
            "process 62258: 100%|██████████| 2/2 [00:03<00:00,  1.95s/it]\n",
            "process 62274: 100%|██████████| 2/2 [00:04<00:00,  2.03s/it]\n",
            "process 62279: 100%|██████████| 2/2 [00:04<00:00,  2.11s/it]\n",
            "process 62262: 100%|██████████| 2/2 [00:04<00:00,  2.24s/it]\n",
            "process 62275: 100%|██████████| 2/2 [00:04<00:00,  2.36s/it]\n",
            "process 62251: 100%|██████████| 2/2 [00:05<00:00,  2.75s/it]\n",
            "process 62248: 100%|██████████| 2/2 [00:05<00:00,  2.77s/it]\n",
            "process 62286: 100%|██████████| 2/2 [00:07<00:00,  3.79s/it]\n",
            "process 62246: 100%|██████████| 3/3 [00:07<00:00,  2.64s/it]\n"
          ]
        },
        {
          "output_type": "stream",
          "name": "stdout",
          "text": [
            "... finished ...\n",
            "query: Yellow-throated Warbler q_gt:B since:2020-01-01\n",
            "... retrieving metadata ...\n"
          ]
        },
        {
          "output_type": "stream",
          "name": "stderr",
          "text": [
            "process 62445: 100%|██████████| 1/1 [00:01<00:00,  1.56s/it]\n",
            "process 62442: 100%|██████████| 1/1 [00:01<00:00,  1.72s/it]\n",
            "process 62434: 100%|██████████| 1/1 [00:01<00:00,  1.84s/it]\n",
            "process 62452: 100%|██████████| 1/1 [00:01<00:00,  1.80s/it]\n",
            "process 62453: 100%|██████████| 1/1 [00:01<00:00,  1.81s/it]\n",
            "process 62425: 100%|██████████| 1/1 [00:02<00:00,  2.21s/it]\n",
            "process 62421: 100%|██████████| 1/1 [00:02<00:00,  2.26s/it]\n",
            "process 62437: 100%|██████████| 1/1 [00:02<00:00,  2.26s/it]\n",
            "process 62429: 100%|██████████| 1/1 [00:02<00:00,  2.35s/it]\n",
            "process 62420: 100%|██████████| 2/2 [00:04<00:00,  2.31s/it]\n"
          ]
        },
        {
          "output_type": "stream",
          "name": "stdout",
          "text": [
            "... finished ...\n",
            "query: Pine Warbler q_gt:B since:2020-01-01\n",
            "... retrieving metadata ...\n"
          ]
        },
        {
          "output_type": "stream",
          "name": "stderr",
          "text": [
            "process 62598: 100%|██████████| 15/15 [00:33<00:00,  2.22s/it]\n",
            "process 62580: 100%|██████████| 16/16 [00:33<00:00,  2.09s/it]\n",
            "process 62594: 100%|██████████| 15/15 [00:34<00:00,  2.32s/it]\n",
            "process 62577: 100%|██████████| 16/16 [00:35<00:00,  2.20s/it]\n",
            "process 62567: 100%|██████████| 16/16 [00:35<00:00,  2.24s/it]\n",
            "process 62586: 100%|██████████| 16/16 [00:37<00:00,  2.35s/it]\n",
            "process 62562: 100%|██████████| 16/16 [00:41<00:00,  2.61s/it]\n",
            "process 62574: 100%|██████████| 16/16 [00:41<00:00,  2.62s/it]\n",
            "process 62564: 100%|██████████| 16/16 [00:44<00:00,  2.79s/it]\n",
            "process 62590: 100%|██████████| 15/15 [00:46<00:00,  3.09s/it]\n"
          ]
        },
        {
          "output_type": "stream",
          "name": "stdout",
          "text": [
            "... finished ...\n",
            "query: Prairie Warbler q_gt:B since:2020-01-01\n",
            "... retrieving metadata ...\n"
          ]
        },
        {
          "output_type": "stream",
          "name": "stderr",
          "text": [
            "process 63200: 100%|██████████| 2/2 [00:03<00:00,  1.73s/it]\n",
            "process 63176: 100%|██████████| 2/2 [00:03<00:00,  1.86s/it]\n",
            "process 63182: 100%|██████████| 2/2 [00:03<00:00,  1.88s/it]\n",
            "process 63168: 100%|██████████| 2/2 [00:04<00:00,  2.00s/it]\n",
            "process 63172: 100%|██████████| 2/2 [00:04<00:00,  2.03s/it]\n",
            "process 63185: 100%|██████████| 2/2 [00:04<00:00,  2.09s/it]\n",
            "process 63160: 100%|██████████| 2/2 [00:04<00:00,  2.22s/it]\n",
            "\n",
            "process 63189: 100%|██████████| 2/2 [00:04<00:00,  2.37s/it]\n",
            "process 63162: 100%|██████████| 2/2 [00:05<00:00,  2.59s/it]\n"
          ]
        },
        {
          "output_type": "stream",
          "name": "stdout",
          "text": [
            "... finished ...\n",
            "query: Palm Warbler q_gt:B since:2020-01-01\n",
            "... retrieving metadata ...\n"
          ]
        },
        {
          "output_type": "stream",
          "name": "stderr",
          "text": [
            "process 63353: 100%|██████████| 1/1 [00:02<00:00,  2.43s/it]\n",
            "process 63345: 100%|██████████| 1/1 [00:02<00:00,  2.51s/it]\n",
            "process 63355: 100%|██████████| 1/1 [00:02<00:00,  2.88s/it]\n",
            "process 63349: 100%|██████████| 1/1 [00:03<00:00,  3.55s/it]\n",
            "process 63340: 100%|██████████| 2/2 [00:04<00:00,  2.40s/it]\n",
            "process 63325: 100%|██████████| 2/2 [00:05<00:00,  2.52s/it]\n",
            "process 63324: 100%|██████████| 2/2 [00:05<00:00,  2.72s/it]\n",
            "process 63342: 100%|██████████| 2/2 [00:05<00:00,  2.89s/it]\n",
            "process 63330: 100%|██████████| 2/2 [00:06<00:00,  3.00s/it]\n",
            "process 63336: 100%|██████████| 2/2 [00:06<00:00,  3.02s/it]\n"
          ]
        },
        {
          "output_type": "stream",
          "name": "stdout",
          "text": [
            "... finished ...\n",
            "query: Bay-breasted Warbler q_gt:B since:2020-01-01\n",
            "... retrieving metadata ...\n"
          ]
        },
        {
          "output_type": "stream",
          "name": "stderr",
          "text": [
            "process 63477: 100%|██████████| 1/1 [00:01<00:00,  1.60s/it]\n",
            "process 63488: 100%|██████████| 1/1 [00:01<00:00,  1.76s/it]\n",
            "process 63492: 100%|██████████| 1/1 [00:01<00:00,  1.97s/it]\n",
            "process 63496: 100%|██████████| 1/1 [00:02<00:00,  2.04s/it]\n",
            "process 63481: 100%|██████████| 1/1 [00:02<00:00,  2.25s/it]\n",
            "process 63476: 100%|██████████| 1/1 [00:02<00:00,  2.44s/it]\n"
          ]
        },
        {
          "output_type": "stream",
          "name": "stdout",
          "text": [
            "... finished ...\n",
            "query: Blackpoll Warbler q_gt:B since:2020-01-01\n",
            "... retrieving metadata ...\n"
          ]
        },
        {
          "output_type": "stream",
          "name": "stderr",
          "text": [
            "process 63562: 100%|██████████| 1/1 [00:02<00:00,  2.02s/it]\n",
            "\n",
            "process 63577: 100%|██████████| 1/1 [00:01<00:00,  1.97s/it]\n",
            "process 63564: 100%|██████████| 1/1 [00:02<00:00,  2.18s/it]\n",
            "process 63589: 100%|██████████| 1/1 [00:02<00:00,  2.22s/it]\n",
            "process 63572: 100%|██████████| 1/1 [00:02<00:00,  2.36s/it]\n",
            "process 63561: 100%|██████████| 1/1 [00:02<00:00,  2.62s/it]\n",
            "process 63585: 100%|██████████| 1/1 [00:02<00:00,  2.57s/it]\n"
          ]
        },
        {
          "output_type": "stream",
          "name": "stdout",
          "text": [
            "... finished ...\n",
            "query: Cerulean Warbler q_gt:B since:2020-01-01\n",
            "... retrieving metadata ...\n"
          ]
        },
        {
          "output_type": "stream",
          "name": "stderr",
          "text": [
            "process 63705: 100%|██████████| 2/2 [00:03<00:00,  2.00s/it]\n",
            "process 63707: 100%|██████████| 2/2 [00:06<00:00,  3.30s/it]\n",
            "process 63679: 100%|██████████| 3/3 [00:07<00:00,  2.37s/it]\n",
            "process 63697: 100%|██████████| 3/3 [00:07<00:00,  2.60s/it]\n",
            "process 63677: 100%|██████████| 3/3 [00:08<00:00,  2.70s/it]\n",
            "process 63690: 100%|██████████| 3/3 [00:08<00:00,  2.74s/it]\n",
            "process 63669: 100%|██████████| 3/3 [00:08<00:00,  2.79s/it]\n",
            "process 63685: 100%|██████████| 3/3 [00:09<00:00,  3.00s/it]\n",
            "process 63682: 100%|██████████| 3/3 [00:09<00:00,  3.04s/it]\n",
            "process 63701: 100%|██████████| 3/3 [00:09<00:00,  3.05s/it]\n"
          ]
        },
        {
          "output_type": "stream",
          "name": "stdout",
          "text": [
            "... finished ...\n",
            "query: Black-and-white Warbler q_gt:B since:2020-01-01\n",
            "... retrieving metadata ...\n"
          ]
        },
        {
          "output_type": "stream",
          "name": "stderr",
          "text": [
            "process 63900: 100%|██████████| 4/4 [00:06<00:00,  1.68s/it]\n",
            "process 63881: 100%|██████████| 4/4 [00:07<00:00,  1.86s/it]\n",
            "process 63889: 100%|██████████| 4/4 [00:07<00:00,  1.92s/it]\n",
            "process 63877: 100%|██████████| 4/4 [00:07<00:00,  2.00s/it]\n",
            "process 63895: 100%|██████████| 4/4 [00:08<00:00,  2.14s/it]\n",
            "process 63896: 100%|██████████| 4/4 [00:08<00:00,  2.16s/it]\n",
            "process 63863: 100%|██████████| 5/5 [00:10<00:00,  2.06s/it]\n",
            "process 63871: 100%|██████████| 5/5 [00:10<00:00,  2.15s/it]\n",
            "process 63865: 100%|██████████| 5/5 [00:14<00:00,  2.88s/it]\n",
            "process 63875: 100%|██████████| 4/4 [00:18<00:00,  4.72s/it]\n"
          ]
        },
        {
          "output_type": "stream",
          "name": "stdout",
          "text": [
            "... finished ...\n",
            "query: American Redstart q_gt:B since:2020-01-01\n",
            "... retrieving metadata ...\n"
          ]
        },
        {
          "output_type": "stream",
          "name": "stderr",
          "text": [
            "process 64151: 100%|██████████| 7/7 [00:13<00:00,  1.91s/it]\n",
            "process 64139: 100%|██████████| 7/7 [00:13<00:00,  1.93s/it]\n",
            "process 64159: 100%|██████████| 7/7 [00:13<00:00,  1.93s/it]\n",
            "process 64155: 100%|██████████| 7/7 [00:14<00:00,  2.09s/it]\n",
            "process 64145: 100%|██████████| 7/7 [00:14<00:00,  2.11s/it]\n",
            "process 64131: 100%|██████████| 7/7 [00:16<00:00,  2.30s/it]\n",
            "process 64135: 100%|██████████| 7/7 [00:17<00:00,  2.49s/it]\n",
            "process 64126: 100%|██████████| 8/8 [00:18<00:00,  2.34s/it]\n",
            "process 64142: 100%|██████████| 7/7 [00:19<00:00,  2.81s/it]\n",
            "process 64128: 100%|██████████| 8/8 [00:28<00:00,  3.60s/it]\n"
          ]
        },
        {
          "output_type": "stream",
          "name": "stdout",
          "text": [
            "... finished ...\n",
            "query: Prothonotary Warbler q_gt:B since:2020-01-01\n",
            "... retrieving metadata ...\n"
          ]
        },
        {
          "output_type": "stream",
          "name": "stderr",
          "text": [
            "process 64519: 100%|██████████| 1/1 [00:02<00:00,  2.51s/it]\n",
            "process 64508: 100%|██████████| 2/2 [00:04<00:00,  2.11s/it]\n",
            "process 64515: 100%|██████████| 2/2 [00:05<00:00,  2.55s/it]\n",
            "process 64502: 100%|██████████| 2/2 [00:05<00:00,  2.90s/it]\n",
            "process 64486: 100%|██████████| 2/2 [00:06<00:00,  3.19s/it]\n",
            "process 64491: 100%|██████████| 2/2 [00:06<00:00,  3.20s/it]\n",
            "process 64506: 100%|██████████| 2/2 [00:06<00:00,  3.20s/it]\n",
            "process 64512: 100%|██████████| 2/2 [00:06<00:00,  3.20s/it]\n",
            "process 64498: 100%|██████████| 2/2 [00:07<00:00,  3.64s/it]\n",
            "process 64488: 100%|██████████| 2/2 [00:10<00:00,  5.41s/it]\n"
          ]
        },
        {
          "output_type": "stream",
          "name": "stdout",
          "text": [
            "... finished ...\n",
            "query: Worm-eating Warbler q_gt:B since:2020-01-01\n",
            "... retrieving metadata ...\n"
          ]
        },
        {
          "output_type": "stream",
          "name": "stderr",
          "text": [
            "process 64702: 100%|██████████| 1/1 [00:02<00:00,  2.02s/it]\n",
            "process 64666: 100%|██████████| 2/2 [00:03<00:00,  1.78s/it]\n",
            "process 64692: 100%|██████████| 2/2 [00:04<00:00,  2.18s/it]\n",
            "process 64675: 100%|██████████| 2/2 [00:04<00:00,  2.26s/it]\n",
            "process 64682: 100%|██████████| 2/2 [00:04<00:00,  2.46s/it]\n",
            "process 64698: 100%|██████████| 2/2 [00:04<00:00,  2.49s/it]\n",
            "process 64679: 100%|██████████| 2/2 [00:05<00:00,  2.64s/it]\n",
            "process 64668: 100%|██████████| 2/2 [00:05<00:00,  2.86s/it]\n",
            "process 64687: 100%|██████████| 2/2 [00:05<00:00,  2.86s/it]\n",
            "process 64671: 100%|██████████| 2/2 [00:05<00:00,  2.98s/it]\n"
          ]
        },
        {
          "output_type": "stream",
          "name": "stdout",
          "text": [
            "... finished ...\n",
            "query: Ovenbird q_gt:B since:2020-01-01\n",
            "... retrieving metadata ...\n"
          ]
        },
        {
          "output_type": "stream",
          "name": "stderr",
          "text": [
            "process 64872: 100%|██████████| 5/5 [00:09<00:00,  1.96s/it]\n",
            "process 64874: 100%|██████████| 5/5 [00:10<00:00,  2.10s/it]\n",
            "process 64849: 100%|██████████| 6/6 [00:11<00:00,  1.87s/it]\n",
            "process 64866: 100%|██████████| 5/5 [00:11<00:00,  2.30s/it]\n",
            "process 64861: 100%|██████████| 5/5 [00:11<00:00,  2.38s/it]\n",
            "process 64856: 100%|██████████| 6/6 [00:13<00:00,  2.19s/it]\n",
            "process 64840: 100%|██████████| 6/6 [00:14<00:00,  2.40s/it]\n",
            "process 64853: 100%|██████████| 6/6 [00:14<00:00,  2.41s/it]\n",
            "process 64848: 100%|██████████| 6/6 [00:16<00:00,  2.77s/it]\n",
            "process 64844: 100%|██████████| 6/6 [00:21<00:00,  3.66s/it]\n"
          ]
        },
        {
          "output_type": "stream",
          "name": "stdout",
          "text": [
            "... finished ...\n",
            "query: Northern Waterthrush q_gt:B since:2020-01-01\n",
            "... retrieving metadata ...\n"
          ]
        },
        {
          "output_type": "stream",
          "name": "stderr",
          "text": [
            "process 65164: 100%|██████████| 5/5 [00:11<00:00,  2.51s/it]\n",
            "process 65164: 100%|██████████| 5/5 [00:11<00:00,  2.38s/it]\n",
            "process 65171: 100%|██████████| 5/5 [00:12<00:00,  2.44s/it]\n",
            "process 65176: 100%|██████████| 5/5 [00:12<00:00,  2.50s/it]\n",
            "process 65160: 100%|██████████| 5/5 [00:12<00:00,  2.58s/it]\n",
            "process 65147: 100%|██████████| 5/5 [00:14<00:00,  2.96s/it]\n",
            "process 65154: 100%|██████████| 5/5 [00:18<00:00,  3.68s/it]\n",
            "process 65156: 100%|██████████| 5/5 [00:20<00:00,  5.04s/it]\n",
            "process 65142: 100%|██████████| 6/6 [00:23<00:00,  3.84s/it]\n",
            "process 65144: 100%|██████████| 5/5 [00:28<00:00,  5.61s/it]\n"
          ]
        },
        {
          "output_type": "stream",
          "name": "stdout",
          "text": [
            "... finished ...\n",
            "query: Louisiana Waterthrush q_gt:B since:2020-01-01\n",
            "... retrieving metadata ...\n"
          ]
        },
        {
          "output_type": "stream",
          "name": "stderr",
          "text": [
            "process 65487: 100%|██████████| 2/2 [00:03<00:00,  1.97s/it]\n",
            "process 65478: 100%|██████████| 2/2 [00:04<00:00,  2.14s/it]\n",
            "process 65486: 100%|██████████| 2/2 [00:04<00:00,  2.12s/it]\n",
            "process 65482: 100%|██████████| 2/2 [00:04<00:00,  2.29s/it]\n",
            "process 65472: 100%|██████████| 3/3 [00:05<00:00,  2.00s/it]\n",
            "process 65470: 100%|██████████| 3/3 [00:06<00:00,  2.02s/it]\n"
          ]
        },
        {
          "output_type": "stream",
          "name": "stdout",
          "text": [
            "Bad url: https://xeno-canto.org/828214/download\n"
          ]
        },
        {
          "output_type": "stream",
          "name": "stderr",
          "text": [
            "process 65466: 100%|██████████| 3/3 [00:07<00:00,  2.37s/it]\n",
            "process 65459: 100%|██████████| 3/3 [00:07<00:00,  2.47s/it]\n",
            "process 65456:  67%|██████▋   | 2/3 [00:08<00:04,  4.08s/it]"
          ]
        },
        {
          "output_type": "stream",
          "name": "stdout",
          "text": [
            "Bad url: https://xeno-canto.org/828215/download\n"
          ]
        },
        {
          "output_type": "stream",
          "name": "stderr",
          "text": [
            "process 65456: 100%|██████████| 3/3 [00:11<00:00,  3.73s/it]\n",
            "process 65454: 100%|██████████| 3/3 [00:11<00:00,  3.86s/it]\n"
          ]
        },
        {
          "output_type": "stream",
          "name": "stdout",
          "text": [
            "... Some encountered failure to download, saved at failed.txt ...\n",
            "... finished ...\n",
            "query: Kentucky Warbler q_gt:B since:2020-01-01\n",
            "... retrieving metadata ...\n"
          ]
        },
        {
          "output_type": "stream",
          "name": "stderr",
          "text": [
            "process 65688: 100%|██████████| 2/2 [00:03<00:00,  1.90s/it]\n",
            "process 65684: 100%|██████████| 2/2 [00:03<00:00,  1.92s/it]\n",
            "process 65674: 100%|██████████| 2/2 [00:04<00:00,  2.03s/it]\n",
            "process 65676: 100%|██████████| 2/2 [00:04<00:00,  2.35s/it]\n",
            "process 65676: 100%|██████████| 2/2 [00:04<00:00,  2.39s/it]\n",
            "process 65661: 100%|██████████| 2/2 [00:04<00:00,  2.48s/it]\n",
            "process 65667: 100%|██████████| 2/2 [00:05<00:00,  2.51s/it]\n",
            "process 65668: 100%|██████████| 2/2 [00:06<00:00,  3.22s/it]\n",
            "process 65655: 100%|██████████| 3/3 [00:06<00:00,  2.22s/it]\n",
            "process 65657: 100%|██████████| 3/3 [00:06<00:00,  2.27s/it]\n"
          ]
        },
        {
          "output_type": "stream",
          "name": "stdout",
          "text": [
            "... finished ...\n",
            "query: Connecticut Warbler q_gt:B since:2020-01-01\n",
            "... retrieving metadata ...\n"
          ]
        },
        {
          "output_type": "stream",
          "name": "stderr",
          "text": [
            "process 65841: 100%|██████████| 1/1 [00:02<00:00,  2.07s/it]\n",
            "process 65839: 100%|██████████| 1/1 [00:02<00:00,  2.18s/it]\n",
            "process 65831: 100%|██████████| 1/1 [00:02<00:00,  2.49s/it]\n",
            "process 65823: 100%|██████████| 1/1 [00:02<00:00,  2.57s/it]\n",
            "process 65825: 100%|██████████| 1/1 [00:02<00:00,  2.60s/it]\n",
            "process 65835: 100%|██████████| 1/1 [00:02<00:00,  2.66s/it]\n",
            "process 65844: 100%|██████████| 1/1 [00:03<00:00,  3.87s/it]\n"
          ]
        },
        {
          "output_type": "stream",
          "name": "stdout",
          "text": [
            "... finished ...\n",
            "query: Mourning Warbler q_gt:B since:2020-01-01\n",
            "... retrieving metadata ...\n"
          ]
        },
        {
          "output_type": "stream",
          "name": "stderr",
          "text": [
            "process 65962: 100%|██████████| 2/2 [00:03<00:00,  1.68s/it]\n",
            "process 65946: 100%|██████████| 2/2 [00:04<00:00,  2.10s/it]\n",
            "process 65950: 100%|██████████| 2/2 [00:04<00:00,  2.11s/it]\n",
            "process 65954: 100%|██████████| 2/2 [00:04<00:00,  2.14s/it]\n",
            "process 65934: 100%|██████████| 3/3 [00:05<00:00,  1.88s/it]\n",
            "process 65930: 100%|██████████| 3/3 [00:06<00:00,  2.09s/it]\n",
            "process 65942: 100%|██████████| 3/3 [00:06<00:00,  2.32s/it]\n",
            "process 65935: 100%|██████████| 3/3 [00:07<00:00,  2.35s/it]\n",
            "process 65956: 100%|██████████| 2/2 [00:07<00:00,  3.73s/it]\n",
            "process 65929: 100%|██████████| 3/3 [00:17<00:00,  5.79s/it]\n"
          ]
        },
        {
          "output_type": "stream",
          "name": "stdout",
          "text": [
            "... finished ...\n",
            "query: Common Yellowthroat q_gt:B since:2020-01-01\n",
            "... retrieving metadata ...\n"
          ]
        },
        {
          "output_type": "stream",
          "name": "stderr",
          "text": [
            "process 66167: 100%|██████████| 11/11 [00:18<00:00,  1.69s/it]\n",
            "process 66178: 100%|██████████| 11/11 [00:20<00:00,  1.86s/it]\n",
            "process 66183: 100%|██████████| 11/11 [00:20<00:00,  1.88s/it]\n",
            "process 66174: 100%|██████████| 11/11 [00:22<00:00,  2.02s/it]\n",
            "process 66163: 100%|██████████| 11/11 [00:22<00:00,  2.05s/it]\n",
            "process 66182: 100%|██████████| 11/11 [00:22<00:00,  2.05s/it]\n",
            "process 66159: 100%|██████████| 11/11 [00:23<00:00,  2.12s/it]\n",
            "process 66155: 100%|██████████| 11/11 [00:25<00:00,  2.32s/it]\n",
            "process 66152: 100%|██████████| 11/11 [00:26<00:00,  2.37s/it]\n",
            "process 66150: 100%|██████████| 11/11 [00:37<00:00,  3.43s/it]\n"
          ]
        },
        {
          "output_type": "stream",
          "name": "stdout",
          "text": [
            "... finished ...\n",
            "query: Hooded Warbler q_gt:B since:2020-01-01\n",
            "... retrieving metadata ...\n"
          ]
        },
        {
          "output_type": "stream",
          "name": "stderr",
          "text": [
            "process 66625:  61%|██████    | 30/49 [02:10<01:08,  3.61s/it]\n",
            "process 66655: 100%|██████████| 49/49 [03:19<00:00,  4.07s/it]\n",
            "process 66625: 100%|██████████| 49/49 [03:31<00:00,  4.32s/it]\n",
            "process 66649: 100%|██████████| 49/49 [03:44<00:00,  4.58s/it]\n",
            "process 66644: 100%|██████████| 49/49 [03:51<00:00,  4.72s/it]\n",
            "process 66636: 100%|██████████| 49/49 [03:56<00:00,  4.83s/it]\n",
            "process 66628: 100%|██████████| 49/49 [04:06<00:00,  5.03s/it]\n",
            "process 66640: 100%|██████████| 49/49 [04:12<00:00,  5.16s/it]\n",
            "process 66630: 100%|██████████| 49/49 [04:15<00:00,  5.21s/it]\n",
            "process 66623: 100%|██████████| 49/49 [04:21<00:00,  4.94s/it]\n",
            "process 66623: 100%|██████████| 49/49 [04:21<00:00,  5.33s/it]"
          ]
        },
        {
          "output_type": "stream",
          "name": "stdout",
          "text": [
            "... finished ...\n",
            "query: Wilsons Warbler q_gt:B since:2020-01-01\n",
            "... retrieving metadata ...\n",
            "Error processing bird 'Wilsons Warbler': 'ascii' codec can't encode character '\\x92' in position 34: ordinal not in range(128)\n",
            "query: Canada Warbler q_gt:B since:2020-01-01\n",
            "... retrieving metadata ...\n"
          ]
        },
        {
          "output_type": "stream",
          "name": "stderr",
          "text": [
            "process 68778: 100%|██████████| 3/3 [00:06<00:00,  2.02s/it]\n",
            "process 68772: 100%|██████████| 3/3 [00:06<00:00,  2.07s/it]\n",
            "process 68795: 100%|██████████| 3/3 [00:06<00:00,  2.26s/it]\n",
            "process 68785: 100%|██████████| 3/3 [00:07<00:00,  2.33s/it]\n",
            "process 68790: 100%|██████████| 3/3 [00:07<00:00,  2.37s/it]\n",
            "process 68761:  67%|██████▋   | 2/3 [00:07<00:04,  4.01s/it]\n",
            "process 68763: 100%|██████████| 3/3 [00:08<00:00,  2.69s/it]\n",
            "process 68766: 100%|██████████| 3/3 [00:08<00:00,  2.72s/it]\n",
            "process 68770: 100%|██████████| 3/3 [00:09<00:00,  3.24s/it]\n",
            "process 68761: 100%|██████████| 3/3 [00:14<00:00,  4.72s/it]\n"
          ]
        },
        {
          "output_type": "stream",
          "name": "stdout",
          "text": [
            "... finished ...\n",
            "query: Yellow-breasted Chat q_gt:B since:2020-01-01\n",
            "... retrieving metadata ...\n"
          ]
        },
        {
          "output_type": "stream",
          "name": "stderr",
          "text": [
            "process 69013: 100%|██████████| 7/7 [00:12<00:00,  1.79s/it]\n",
            "process 68998: 100%|██████████| 8/8 [00:17<00:00,  2.13s/it]\n",
            "process 69004: 100%|██████████| 8/8 [00:17<00:00,  2.13s/it]\n",
            "process 69009: 100%|██████████| 8/8 [00:17<00:00,  2.27s/it]\n",
            "process 69005: 100%|██████████| 8/8 [00:18<00:00,  2.29s/it]\n",
            "process 68993: 100%|██████████| 8/8 [00:19<00:00,  2.40s/it]\n",
            "process 68985: 100%|██████████| 8/8 [00:20<00:00,  2.54s/it]\n",
            "process 68982: 100%|██████████| 8/8 [00:20<00:00,  2.57s/it]\n",
            "process 68989: 100%|██████████| 8/8 [00:21<00:00,  2.72s/it]\n",
            "process 68980: 100%|██████████| 8/8 [00:21<00:00,  2.74s/it]\n"
          ]
        },
        {
          "output_type": "stream",
          "name": "stdout",
          "text": [
            "... finished ...\n",
            "query: Summer Tanager q_gt:B since:2020-01-01\n",
            "... retrieving metadata ...\n"
          ]
        },
        {
          "output_type": "stream",
          "name": "stderr",
          "text": [
            "process 69360: 100%|██████████| 5/5 [00:09<00:00,  1.81s/it]\n",
            "process 69338: 100%|██████████| 5/5 [00:09<00:00,  1.90s/it]\n",
            "process 69351: 100%|██████████| 5/5 [00:10<00:00,  2.05s/it]\n",
            "process 69350: 100%|██████████| 5/5 [00:10<00:00,  2.14s/it]\n",
            "process 69355: 100%|██████████| 5/5 [00:10<00:00,  2.14s/it]\n",
            "process 69331: 100%|██████████| 5/5 [00:11<00:00,  2.22s/it]\n",
            "process 69344: 100%|██████████| 5/5 [00:11<00:00,  2.22s/it]\n",
            "process 69328: 100%|██████████| 5/5 [00:13<00:00,  2.60s/it]\n",
            "process 69322: 100%|██████████| 5/5 [00:14<00:00,  2.82s/it]\n",
            "process 69324: 100%|██████████| 5/5 [00:15<00:00,  3.16s/it]\n"
          ]
        },
        {
          "output_type": "stream",
          "name": "stdout",
          "text": [
            "... finished ...\n",
            "query: Scarlet Tanager q_gt:B since:2020-01-01\n",
            "... retrieving metadata ...\n"
          ]
        },
        {
          "output_type": "stream",
          "name": "stderr",
          "text": [
            "process 69603: 100%|██████████| 3/3 [00:05<00:00,  1.82s/it]\n",
            "process 69622: 100%|██████████| 3/3 [00:05<00:00,  1.99s/it]\n",
            "process 69618: 100%|██████████| 3/3 [00:06<00:00,  2.02s/it]\n",
            "process 69597: 100%|██████████| 3/3 [00:06<00:00,  2.20s/it]\n",
            "process 69614: 100%|██████████| 3/3 [00:07<00:00,  2.41s/it]\n",
            "process 69593: 100%|██████████| 3/3 [00:07<00:00,  2.55s/it]\n",
            "process 69610: 100%|██████████| 3/3 [00:07<00:00,  2.55s/it]\n",
            "process 69586: 100%|██████████| 4/4 [00:08<00:00,  2.02s/it]\n",
            "process 69588: 100%|██████████| 4/4 [00:10<00:00,  2.50s/it]\n",
            "process 69591: 100%|██████████| 4/4 [00:11<00:00,  2.76s/it]\n"
          ]
        },
        {
          "output_type": "stream",
          "name": "stdout",
          "text": [
            "... finished ...\n",
            "query: Northern Cardinal q_gt:B since:2020-01-01\n",
            "... retrieving metadata ...\n"
          ]
        },
        {
          "output_type": "stream",
          "name": "stderr",
          "text": [
            "process 69830: 100%|██████████| 17/17 [00:30<00:00,  1.82s/it]\n",
            "process 69831: 100%|██████████| 16/16 [00:30<00:00,  1.93s/it]\n",
            "process 69813: 100%|██████████| 17/17 [00:31<00:00,  1.86s/it]\n",
            "process 69826: 100%|██████████| 17/17 [00:32<00:00,  1.89s/it]\n",
            "process 69807: 100%|██████████| 17/17 [00:35<00:00,  2.07s/it]\n",
            "process 69820: 100%|██████████| 17/17 [00:35<00:00,  2.09s/it]\n",
            "process 69808: 100%|██████████| 17/17 [00:35<00:00,  2.10s/it]\n",
            "process 69799: 100%|██████████| 17/17 [00:37<00:00,  2.23s/it]\n",
            "process 69803: 100%|██████████| 17/17 [00:42<00:00,  2.49s/it]\n",
            "process 69798: 100%|██████████| 17/17 [00:46<00:00,  2.74s/it]\n"
          ]
        },
        {
          "output_type": "stream",
          "name": "stdout",
          "text": [
            "... finished ...\n",
            "query: Rose-breasted Grosbeak q_gt:B since:2020-01-01\n",
            "... retrieving metadata ...\n"
          ]
        },
        {
          "output_type": "stream",
          "name": "stderr",
          "text": [
            "process 70448: 100%|██████████| 2/2 [00:04<00:00,  2.18s/it]\n",
            "process 70444: 100%|██████████| 2/2 [00:04<00:00,  2.24s/it]\n",
            "process 70449: 100%|██████████| 2/2 [00:04<00:00,  2.23s/it]\n",
            "process 70453: 100%|██████████| 2/2 [00:05<00:00,  2.52s/it]\n",
            "process 70420: 100%|██████████| 3/3 [00:05<00:00,  1.95s/it]\n",
            "process 70422: 100%|██████████| 3/3 [00:05<00:00,  1.96s/it]\n",
            "process 70438: 100%|██████████| 3/3 [00:05<00:00,  1.99s/it]\n",
            "process 70425: 100%|██████████| 3/3 [00:06<00:00,  2.14s/it]\n",
            "process 70431: 100%|██████████| 3/3 [00:07<00:00,  2.47s/it]\n",
            "process 70434: 100%|██████████| 3/3 [00:10<00:00,  3.48s/it]\n"
          ]
        },
        {
          "output_type": "stream",
          "name": "stdout",
          "text": [
            "... finished ...\n",
            "query: Blue Grosbeak q_gt:B since:2020-01-01\n",
            "... retrieving metadata ...\n"
          ]
        },
        {
          "output_type": "stream",
          "name": "stderr",
          "text": [
            "process 70647: 100%|██████████| 6/6 [00:10<00:00,  1.78s/it]\n",
            "process 70631: 100%|██████████| 6/6 [00:11<00:00,  1.99s/it]\n",
            "process 70627: 100%|██████████| 6/6 [00:12<00:00,  2.02s/it]\n",
            "process 70636: 100%|██████████| 6/6 [00:12<00:00,  2.08s/it]\n",
            "process 70643: 100%|██████████| 6/6 [00:13<00:00,  2.27s/it]\n",
            "process 70623: 100%|██████████| 6/6 [00:14<00:00,  2.34s/it]\n",
            "process 70633: 100%|██████████| 6/6 [00:14<00:00,  2.44s/it]\n",
            "process 70615: 100%|██████████| 7/7 [00:16<00:00,  2.33s/it]\n",
            "process 70649: 100%|██████████| 6/6 [00:16<00:00,  2.73s/it]\n",
            "process 70617: 100%|██████████| 6/6 [00:17<00:00,  2.97s/it]\n"
          ]
        },
        {
          "output_type": "stream",
          "name": "stdout",
          "text": [
            "... finished ...\n",
            "query: Indigo Bunting q_gt:B since:2020-01-01\n",
            "... retrieving metadata ...\n"
          ]
        },
        {
          "output_type": "stream",
          "name": "stderr",
          "text": [
            "process 70926: 100%|██████████| 5/5 [00:09<00:00,  1.86s/it]\n",
            "process 70938: 100%|██████████| 5/5 [00:09<00:00,  1.85s/it]\n",
            "process 70933: 100%|██████████| 5/5 [00:10<00:00,  2.07s/it]\n",
            "process 70921: 100%|██████████| 5/5 [00:10<00:00,  2.11s/it]\n",
            "process 70945: 100%|██████████| 5/5 [00:10<00:00,  2.09s/it]\n",
            "process 70924: 100%|██████████| 5/5 [00:10<00:00,  2.13s/it]\n",
            "process 70934: 100%|██████████| 5/5 [00:11<00:00,  2.23s/it]\n",
            "process 70917: 100%|██████████| 5/5 [00:13<00:00,  2.74s/it]\n",
            "process 70911: 100%|██████████| 5/5 [00:13<00:00,  2.76s/it]\n",
            "process 70909: 100%|██████████| 6/6 [00:13<00:00,  2.32s/it]\n"
          ]
        },
        {
          "output_type": "stream",
          "name": "stdout",
          "text": [
            "... finished ...\n",
            "query: Dickcissel q_gt:B since:2020-01-01\n",
            "... retrieving metadata ...\n"
          ]
        },
        {
          "output_type": "stream",
          "name": "stderr",
          "text": [
            "process 71204: 100%|██████████| 5/5 [00:09<00:00,  1.90s/it]\n",
            "process 71175:  83%|████████▎ | 5/6 [00:10<00:02,  2.08s/it]\n",
            "process 71201: 100%|██████████| 5/5 [00:10<00:00,  2.09s/it]\n",
            "process 71199: 100%|██████████| 5/5 [00:11<00:00,  2.27s/it]\n",
            "process 71177: 100%|██████████| 6/6 [00:11<00:00,  1.98s/it]\n",
            "process 71175: 100%|██████████| 6/6 [00:12<00:00,  2.02s/it]\n",
            "process 71183: 100%|██████████| 6/6 [00:13<00:00,  2.17s/it]\n",
            "process 71193: 100%|██████████| 6/6 [00:13<00:00,  2.18s/it]\n",
            "process 71184: 100%|██████████| 6/6 [00:14<00:00,  2.40s/it]\n",
            "process 71188: 100%|██████████| 6/6 [00:15<00:00,  2.59s/it]\n"
          ]
        },
        {
          "output_type": "stream",
          "name": "stdout",
          "text": [
            "... finished ...\n",
            "query: Eastern Towhee q_gt:B since:2020-01-01\n",
            "... retrieving metadata ...\n"
          ]
        },
        {
          "output_type": "stream",
          "name": "stderr",
          "text": [
            "process 71482: 100%|██████████| 7/7 [00:15<00:00,  2.24s/it]\n",
            "process 71470: 100%|██████████| 7/7 [00:17<00:00,  2.51s/it]\n",
            "process 71489: 100%|██████████| 7/7 [00:17<00:00,  2.57s/it]\n",
            "process 71466: 100%|██████████| 7/7 [00:19<00:00,  2.76s/it]\n",
            "process 71456: 100%|██████████| 8/8 [00:20<00:00,  2.57s/it]\n",
            "process 71490: 100%|██████████| 7/7 [00:21<00:00,  3.09s/it]\n",
            "process 71462: 100%|██████████| 8/8 [00:23<00:00,  2.88s/it]\n",
            "process 71453: 100%|██████████| 8/8 [00:23<00:00,  2.69s/it]\n",
            "process 71474: 100%|██████████| 7/7 [00:24<00:00,  3.53s/it]\n",
            "process 71454: 100%|██████████| 8/8 [00:27<00:00,  3.43s/it]\n"
          ]
        },
        {
          "output_type": "stream",
          "name": "stdout",
          "text": [
            "... finished ...\n",
            "query: American tree Sparrow q_gt:B since:2020-01-01\n",
            "... retrieving metadata ...\n"
          ]
        },
        {
          "output_type": "stream",
          "name": "stderr",
          "text": [
            "process 71822: 100%|██████████| 1/1 [00:01<00:00,  1.12s/it]\n",
            "process 71839: 100%|██████████| 1/1 [00:01<00:00,  1.71s/it]\n",
            "process 71819: 100%|██████████| 1/1 [00:01<00:00,  1.84s/it]\n",
            "process 71825: 100%|██████████| 1/1 [00:02<00:00,  2.50s/it]\n",
            "process 71818: 100%|██████████| 1/1 [00:02<00:00,  2.87s/it]\n",
            "process 71838: 100%|██████████| 1/1 [00:02<00:00,  2.76s/it]\n",
            "process 71829: 100%|██████████| 1/1 [00:02<00:00,  2.94s/it]\n",
            "process 71814: 100%|██████████| 2/2 [00:03<00:00,  1.79s/it]\n",
            "process 71808: 100%|██████████| 2/2 [00:04<00:00,  2.37s/it]\n",
            "process 71806: 100%|██████████| 2/2 [00:05<00:00,  2.81s/it]\n"
          ]
        },
        {
          "output_type": "stream",
          "name": "stdout",
          "text": [
            "... finished ...\n",
            "query: Chipping Sparrow q_gt:B since:2020-01-01\n",
            "... retrieving metadata ...\n"
          ]
        },
        {
          "output_type": "stream",
          "name": "stderr",
          "text": [
            "process 71966: 100%|██████████| 4/4 [00:06<00:00,  1.70s/it]\n",
            "process 71989: 100%|██████████| 4/4 [00:07<00:00,  1.94s/it]\n",
            "process 71973: 100%|██████████| 4/4 [00:08<00:00,  2.01s/it]\n",
            "process 71982: 100%|██████████| 4/4 [00:07<00:00,  1.99s/it]\n",
            "\n",
            "process 71974: 100%|██████████| 4/4 [00:08<00:00,  2.13s/it]\n",
            "process 71984: 100%|██████████| 4/4 [00:08<00:00,  2.17s/it]\n",
            "process 71953: 100%|██████████| 5/5 [00:09<00:00,  1.97s/it]\n",
            "process 71956: 100%|██████████| 5/5 [00:12<00:00,  2.47s/it]\n",
            "process 71954: 100%|██████████| 5/5 [00:12<00:00,  2.51s/it]\n"
          ]
        },
        {
          "output_type": "stream",
          "name": "stdout",
          "text": [
            "... finished ...\n",
            "query: Field Sparrow q_gt:B since:2020-01-01\n",
            "... retrieving metadata ...\n"
          ]
        },
        {
          "output_type": "stream",
          "name": "stderr",
          "text": [
            "process 72200: 100%|██████████| 3/3 [00:06<00:00,  2.12s/it]\n",
            "process 72194: 100%|██████████| 3/3 [00:06<00:00,  2.13s/it]\n",
            "process 72198: 100%|██████████| 3/3 [00:06<00:00,  2.16s/it]\n",
            "process 72220: 100%|██████████| 3/3 [00:06<00:00,  2.14s/it]\n",
            "process 72224: 100%|██████████| 3/3 [00:06<00:00,  2.20s/it]\n",
            "process 72214: 100%|██████████| 3/3 [00:07<00:00,  2.38s/it]\n",
            "process 72189: 100%|██████████| 4/4 [00:09<00:00,  2.29s/it]\n",
            "process 72201: 100%|██████████| 3/3 [00:09<00:00,  3.06s/it]\n",
            "process 72191: 100%|██████████| 4/4 [00:09<00:00,  2.49s/it]\n",
            "process 72208: 100%|██████████| 3/3 [00:12<00:00,  4.07s/it]\n"
          ]
        },
        {
          "output_type": "stream",
          "name": "stdout",
          "text": [
            "... finished ...\n",
            "query: Vesper Sparrow q_gt:B since:2020-01-01\n",
            "... retrieving metadata ...\n"
          ]
        },
        {
          "output_type": "stream",
          "name": "stderr",
          "text": [
            "process 72430: 100%|██████████| 2/2 [00:05<00:00,  2.76s/it]\n",
            "process 72435: 100%|██████████| 2/2 [00:05<00:00,  2.99s/it]\n",
            "process 72418: 100%|██████████| 3/3 [00:06<00:00,  2.16s/it]\n",
            "process 72401: 100%|██████████| 3/3 [00:06<00:00,  2.30s/it]\n",
            "process 72403: 100%|██████████| 3/3 [00:06<00:00,  2.31s/it]\n",
            "process 72426: 100%|██████████| 3/3 [00:06<00:00,  2.31s/it]\n",
            "process 72410: 100%|██████████| 3/3 [00:07<00:00,  2.51s/it]\n",
            "process 72415: 100%|██████████| 3/3 [00:07<00:00,  2.58s/it]\n",
            "process 72420: 100%|██████████| 3/3 [00:08<00:00,  2.80s/it]\n",
            "process 72407: 100%|██████████| 3/3 [00:09<00:00,  3.24s/it]\n"
          ]
        },
        {
          "output_type": "stream",
          "name": "stdout",
          "text": [
            "... finished ...\n",
            "query: Lark Sparrow q_gt:B since:2020-01-01\n",
            "... retrieving metadata ...\n"
          ]
        },
        {
          "output_type": "stream",
          "name": "stderr",
          "text": [
            "process 72623: 100%|██████████| 2/2 [00:04<00:00,  2.15s/it]\n",
            "process 72594: 100%|██████████| 3/3 [00:04<00:00,  1.58s/it]\n",
            "process 72598: 100%|██████████| 3/3 [00:05<00:00,  1.79s/it]\n",
            "process 72613: 100%|██████████| 3/3 [00:05<00:00,  1.88s/it]\n",
            "process 72620: 100%|██████████| 3/3 [00:05<00:00,  1.99s/it]\n",
            "process 72603: 100%|██████████| 3/3 [00:07<00:00,  2.52s/it]\n",
            "process 72606: 100%|██████████| 3/3 [00:07<00:00,  2.62s/it]\n",
            "process 72609: 100%|██████████| 3/3 [00:08<00:00,  2.81s/it]\n",
            "process 72593: 100%|██████████| 3/3 [00:08<00:00,  2.95s/it]\n",
            "process 72618: 100%|██████████| 3/3 [00:11<00:00,  3.70s/it]\n"
          ]
        },
        {
          "output_type": "stream",
          "name": "stdout",
          "text": [
            "... finished ...\n",
            "query: Savannah Sparrow q_gt:B since:2020-01-01\n",
            "... retrieving metadata ...\n"
          ]
        },
        {
          "output_type": "stream",
          "name": "stderr",
          "text": [
            "process 72808: 100%|██████████| 9/9 [00:17<00:00,  1.98s/it]\n",
            "process 72823: 100%|██████████| 9/9 [00:18<00:00,  2.01s/it]\n",
            "process 72805: 100%|██████████| 9/9 [00:19<00:00,  2.16s/it]\n",
            "process 72800: 100%|██████████| 10/10 [00:20<00:00,  2.00s/it]\n",
            "process 72828: 100%|██████████| 9/9 [00:20<00:00,  2.27s/it]\n",
            "process 72812: 100%|██████████| 9/9 [00:20<00:00,  2.30s/it]\n",
            "process 72832: 100%|██████████| 9/9 [00:21<00:00,  2.41s/it]\n",
            "process 72795: 100%|██████████| 10/10 [00:26<00:00,  2.64s/it]\n",
            "process 72819: 100%|██████████| 9/9 [00:28<00:00,  3.15s/it]\n",
            "process 72797: 100%|██████████| 10/10 [00:36<00:00,  3.64s/it]\n"
          ]
        },
        {
          "output_type": "stream",
          "name": "stdout",
          "text": [
            "... finished ...\n",
            "query: Grasshopper Sparrow q_gt:B since:2020-01-01\n",
            "... retrieving metadata ...\n"
          ]
        },
        {
          "output_type": "stream",
          "name": "stderr",
          "text": [
            "process 73262: 100%|██████████| 4/4 [00:08<00:00,  2.21s/it]\n",
            "process 73251: 100%|██████████| 4/4 [00:09<00:00,  2.27s/it]\n",
            "process 73261: 100%|██████████| 4/4 [00:09<00:00,  2.29s/it]\n",
            "process 73244: 100%|██████████| 5/5 [00:09<00:00,  1.90s/it]\n",
            "process 73257: 100%|██████████| 4/4 [00:10<00:00,  2.52s/it]\n",
            "process 73231: 100%|██████████| 5/5 [00:11<00:00,  2.32s/it]\n",
            "process 73229: 100%|██████████| 5/5 [00:11<00:00,  2.33s/it]\n",
            "process 73241: 100%|██████████| 5/5 [00:12<00:00,  2.42s/it]\n",
            "process 73235: 100%|██████████| 5/5 [00:13<00:00,  2.68s/it]\n",
            "process 73247: 100%|██████████| 5/5 [00:14<00:00,  2.90s/it]\n"
          ]
        },
        {
          "output_type": "stream",
          "name": "stdout",
          "text": [
            "... finished ...\n",
            "query: Henslows Sparrow q_gt:B since:2020-01-01\n",
            "... retrieving metadata ...\n",
            "Error processing bird 'Henslows Sparrow': 'ascii' codec can't encode character '\\x92' in position 35: ordinal not in range(128)\n",
            "query: Saltmarsh Sharp-tailed Sparrow q_gt:B since:2020-01-01\n",
            "... retrieving metadata ...\n",
            "An unexpected error occurred for bird 'Saltmarsh Sharp-tailed Sparrow': integer division or modulo by zero\n",
            "query: Nelson's Sharp-tailed Sparrow q_gt:B since:2020-01-01\n",
            "... retrieving metadata ...\n",
            "An unexpected error occurred for bird 'Nelson's Sharp-tailed Sparrow': integer division or modulo by zero\n",
            "query: Seaside Sparrow q_gt:B since:2020-01-01\n",
            "... retrieving metadata ...\n"
          ]
        },
        {
          "output_type": "stream",
          "name": "stderr",
          "text": [
            "process 73509: 100%|██████████| 1/1 [00:01<00:00,  1.60s/it]\n",
            "process 73515: 100%|██████████| 1/1 [00:01<00:00,  1.59s/it]\n",
            "process 73511: 100%|██████████| 1/1 [00:01<00:00,  1.74s/it]\n",
            "process 73538: 100%|██████████| 1/1 [00:01<00:00,  1.80s/it]\n",
            "process 73518: 100%|██████████| 1/1 [00:01<00:00,  1.96s/it]\n",
            "process 73527: 100%|██████████| 1/1 [00:02<00:00,  2.05s/it]\n",
            "process 73533: 100%|██████████| 1/1 [00:02<00:00,  2.03s/it]\n",
            "process 73534: 100%|██████████| 1/1 [00:02<00:00,  2.03s/it]\n",
            "process 73523: 100%|██████████| 1/1 [00:02<00:00,  2.14s/it]\n"
          ]
        },
        {
          "output_type": "stream",
          "name": "stdout",
          "text": [
            "... finished ...\n",
            "query: Fox Sparrow q_gt:B since:2020-01-01\n",
            "... retrieving metadata ...\n"
          ]
        },
        {
          "output_type": "stream",
          "name": "stderr",
          "text": [
            "process 73664: 100%|██████████| 8/8 [00:16<00:00,  2.10s/it]\n",
            "process 73654: 100%|██████████| 8/8 [00:17<00:00,  2.14s/it]\n",
            "process 73650: 100%|██████████| 9/9 [00:17<00:00,  2.00s/it]\n",
            "process 73660: 100%|██████████| 8/8 [00:18<00:00,  2.29s/it]\n",
            "process 73628: 100%|██████████| 9/9 [00:18<00:00,  2.09s/it]\n",
            "process 73627: 100%|██████████| 9/9 [00:19<00:00,  2.14s/it]\n",
            "process 73644: 100%|██████████| 9/9 [00:19<00:00,  2.12s/it]\n",
            "process 73638: 100%|██████████| 9/9 [00:19<00:00,  2.13s/it]\n",
            "process 73633: 100%|██████████| 9/9 [00:26<00:00,  2.93s/it]\n",
            "process 73636: 100%|██████████| 9/9 [00:31<00:00,  3.49s/it]\n"
          ]
        },
        {
          "output_type": "stream",
          "name": "stdout",
          "text": [
            "... finished ...\n",
            "query: Song Sparrow q_gt:B since:2020-01-01\n",
            "... retrieving metadata ...\n"
          ]
        },
        {
          "output_type": "stream",
          "name": "stderr",
          "text": [
            "process 74065: 100%|██████████| 24/24 [00:45<00:00,  1.91s/it]\n",
            "process 74042: 100%|██████████| 25/25 [00:50<00:00,  2.02s/it]\n",
            "process 74047: 100%|██████████| 25/25 [00:51<00:00,  2.07s/it]\n",
            "process 74051: 100%|██████████| 25/25 [00:51<00:00,  2.07s/it]\n",
            "process 74037: 100%|██████████| 25/25 [00:54<00:00,  2.17s/it]\n",
            "process 74055: 100%|██████████| 25/25 [00:55<00:00,  2.23s/it]\n",
            "process 74061: 100%|██████████| 25/25 [00:55<00:00,  3.43s/it]\n",
            "process 74045: 100%|██████████| 25/25 [00:56<00:00,  2.25s/it]\n",
            "process 74033: 100%|██████████| 25/25 [01:01<00:00,  2.45s/it]\n",
            "process 74032: 100%|██████████| 25/25 [01:28<00:00,  3.56s/it]\n"
          ]
        },
        {
          "output_type": "stream",
          "name": "stdout",
          "text": [
            "... finished ...\n",
            "query: Lincolns Sparrow q_gt:B since:2020-01-01\n",
            "... retrieving metadata ...\n",
            "Error processing bird 'Lincolns Sparrow': 'ascii' codec can't encode character '\\x92' in position 35: ordinal not in range(128)\n",
            "query: Swamp Sparrow q_gt:B since:2020-01-01\n",
            "... retrieving metadata ...\n"
          ]
        },
        {
          "output_type": "stream",
          "name": "stderr",
          "text": [
            "process 75016: 100%|██████████| 3/3 [00:07<00:00,  2.50s/it]\n",
            "process 75008: 100%|██████████| 4/4 [00:08<00:00,  2.05s/it]\n",
            "process 75021: 100%|██████████| 3/3 [00:08<00:00,  2.72s/it]\n",
            "process 75002: 100%|██████████| 4/4 [00:08<00:00,  2.14s/it]\n",
            "process 75015: 100%|██████████| 3/3 [00:08<00:00,  2.94s/it]\n",
            "process 75006: 100%|██████████| 4/4 [00:09<00:00,  2.36s/it]\n",
            "process 75012: 100%|██████████| 4/4 [00:09<00:00,  2.49s/it]\n",
            "process 74996: 100%|██████████| 4/4 [00:10<00:00,  2.68s/it]\n",
            "process 74992: 100%|██████████| 4/4 [00:13<00:00,  3.41s/it]\n",
            "process 74990: 100%|██████████| 4/4 [00:18<00:00,  4.62s/it]\n"
          ]
        },
        {
          "output_type": "stream",
          "name": "stdout",
          "text": [
            "... finished ...\n",
            "query: White-throated Sparrow q_gt:B since:2020-01-01\n",
            "... retrieving metadata ...\n"
          ]
        },
        {
          "output_type": "stream",
          "name": "stderr",
          "text": [
            "process 75261: 100%|██████████| 6/6 [00:09<00:00,  1.57s/it]\n",
            "process 75265: 100%|██████████| 6/6 [00:12<00:00,  2.03s/it]\n",
            "process 75272: 100%|██████████| 6/6 [00:13<00:00,  2.31s/it]\n",
            "process 75250: 100%|██████████| 7/7 [00:14<00:00,  2.07s/it]\n",
            "process 75245: 100%|██████████| 7/7 [00:16<00:00,  2.43s/it]\n",
            "process 75238: 100%|██████████| 7/7 [00:17<00:00,  2.46s/it]\n",
            "process 75249: 100%|██████████| 7/7 [00:17<00:00,  2.46s/it]\n",
            "process 75257: 100%|██████████| 6/6 [00:18<00:00,  3.01s/it]\n",
            "process 75236: 100%|██████████| 7/7 [00:20<00:00,  2.88s/it]\n",
            "process 75244: 100%|██████████| 7/7 [00:27<00:00,  3.91s/it]\n"
          ]
        },
        {
          "output_type": "stream",
          "name": "stdout",
          "text": [
            "... finished ...\n",
            "query: White-crowned Sparrow q_gt:B since:2020-01-01\n",
            "... retrieving metadata ...\n"
          ]
        },
        {
          "output_type": "stream",
          "name": "stderr",
          "text": [
            "process 75606: 100%|██████████| 6/6 [00:11<00:00,  1.93s/it]\n",
            "process 75596: 100%|██████████| 6/6 [00:11<00:00,  1.99s/it]\n",
            "process 75593: 100%|██████████| 6/6 [00:12<00:00,  2.01s/it]\n",
            "process 75610: 100%|██████████| 6/6 [00:12<00:00,  2.06s/it]\n",
            "process 75589: 100%|██████████| 6/6 [00:13<00:00,  2.17s/it]\n",
            "process 75583: 100%|██████████| 6/6 [00:13<00:00,  2.23s/it]\n",
            "process 75607: 100%|██████████| 6/6 [00:13<00:00,  2.22s/it]\n",
            "process 75587: 100%|██████████| 6/6 [00:14<00:00,  2.48s/it]\n",
            "process 75580: 100%|██████████| 7/7 [00:16<00:00,  2.40s/it]\n",
            "process 75578: 100%|██████████| 7/7 [00:21<00:00,  3.10s/it]\n"
          ]
        },
        {
          "output_type": "stream",
          "name": "stdout",
          "text": [
            "... finished ...\n",
            "query: Dark-eyed Junco q_gt:B since:2020-01-01\n",
            "... retrieving metadata ...\n"
          ]
        },
        {
          "output_type": "stream",
          "name": "stderr",
          "text": [
            "process 75901: 100%|██████████| 8/8 [00:14<00:00,  1.87s/it]\n",
            "process 75920: 100%|██████████| 8/8 [00:15<00:00,  1.93s/it]\n",
            "process 75916: 100%|██████████| 8/8 [00:15<00:00,  1.99s/it]\n",
            "process 75905: 100%|██████████| 8/8 [00:16<00:00,  2.05s/it]\n",
            "process 75892: 100%|██████████| 8/8 [00:17<00:00,  2.19s/it]\n",
            "process 75913: 100%|██████████| 8/8 [00:17<00:00,  2.17s/it]\n",
            "process 75911: 100%|██████████| 8/8 [00:17<00:00,  2.23s/it]\n",
            "process 75889: 100%|██████████| 9/9 [00:20<00:00,  2.33s/it]\n",
            "process 75899: 100%|██████████| 8/8 [00:22<00:00,  2.82s/it]\n",
            "process 75887: 100%|██████████| 9/9 [00:32<00:00,  3.57s/it]\n"
          ]
        },
        {
          "output_type": "stream",
          "name": "stdout",
          "text": [
            "... finished ...\n",
            "query: Lapland Longspur q_gt:B since:2020-01-01\n",
            "... retrieving metadata ...\n"
          ]
        },
        {
          "output_type": "stream",
          "name": "stderr",
          "text": [
            "process 76311: 100%|██████████| 7/7 [00:11<00:00,  1.70s/it]\n",
            "process 76309: 100%|██████████| 7/7 [00:13<00:00,  1.87s/it]\n",
            "process 76305: 100%|██████████| 7/7 [00:14<00:00,  2.11s/it]\n",
            "process 76301: 100%|██████████| 7/7 [00:14<00:00,  2.12s/it]\n",
            "process 76297: 100%|██████████| 7/7 [00:15<00:00,  2.16s/it]\n",
            "process 76286: 100%|██████████| 8/8 [00:15<00:00,  1.93s/it]\n",
            "process 76290: 100%|██████████| 8/8 [00:16<00:00,  2.08s/it]\n",
            "process 76314: 100%|██████████| 7/7 [00:16<00:00,  2.39s/it]\n",
            "process 76281: 100%|██████████| 8/8 [00:17<00:00,  2.23s/it]\n",
            "process 76283: 100%|██████████| 8/8 [00:18<00:00,  2.37s/it]\n"
          ]
        },
        {
          "output_type": "stream",
          "name": "stdout",
          "text": [
            "... finished ...\n",
            "query: Snow Bunting q_gt:B since:2020-01-01\n",
            "... retrieving metadata ...\n"
          ]
        },
        {
          "output_type": "stream",
          "name": "stderr",
          "text": [
            "process 76625: 100%|██████████| 2/2 [00:03<00:00,  1.78s/it]\n",
            "process 76631: 100%|██████████| 2/2 [00:03<00:00,  1.79s/it]\n",
            "process 76631: 100%|██████████| 2/2 [00:03<00:00,  1.84s/it]\n",
            "process 76606: 100%|██████████| 3/3 [00:04<00:00,  1.66s/it]\n",
            "process 76601: 100%|██████████| 3/3 [00:05<00:00,  1.81s/it]\n",
            "process 76603: 100%|██████████| 3/3 [00:05<00:00,  1.82s/it]\n",
            "process 76615: 100%|██████████| 3/3 [00:05<00:00,  1.93s/it]\n",
            "process 76619: 100%|██████████| 3/3 [00:05<00:00,  1.96s/it]\n",
            "process 76634: 100%|██████████| 2/2 [00:06<00:00,  3.12s/it]\n",
            "process 76610: 100%|██████████| 3/3 [00:07<00:00,  2.48s/it]\n"
          ]
        },
        {
          "output_type": "stream",
          "name": "stdout",
          "text": [
            "... finished ...\n",
            "query: Bobolink q_gt:B since:2020-01-01\n",
            "... retrieving metadata ...\n"
          ]
        },
        {
          "output_type": "stream",
          "name": "stderr",
          "text": [
            "process 76813: 100%|██████████| 2/2 [00:03<00:00,  1.59s/it]\n",
            "process 76823: 100%|██████████| 2/2 [00:03<00:00,  1.93s/it]\n",
            "process 76830: 100%|██████████| 2/2 [00:04<00:00,  2.02s/it]\n",
            "process 76824: 100%|██████████| 2/2 [00:04<00:00,  2.08s/it]\n",
            "process 76799:  67%|██████▋   | 2/3 [00:04<00:02,  2.15s/it]\n",
            "process 76828: 100%|██████████| 2/2 [00:04<00:00,  2.39s/it]\n",
            "process 76799: 100%|██████████| 3/3 [00:05<00:00,  2.00s/it]\n",
            "process 76809: 100%|██████████| 3/3 [00:06<00:00,  2.00s/it]\n",
            "process 76807: 100%|██████████| 3/3 [00:07<00:00,  2.48s/it]\n",
            "process 76801: 100%|██████████| 3/3 [00:08<00:00,  2.73s/it]\n"
          ]
        },
        {
          "output_type": "stream",
          "name": "stdout",
          "text": [
            "... finished ...\n",
            "query: Red-winged Blackbird q_gt:B since:2020-01-01\n",
            "... retrieving metadata ...\n"
          ]
        },
        {
          "output_type": "stream",
          "name": "stderr",
          "text": [
            "process 77005: 100%|██████████| 15/15 [00:28<00:00,  1.90s/it]\n",
            "process 76996: 100%|██████████| 15/15 [00:30<00:00,  2.00s/it]\n",
            "process 77004: 100%|██████████| 15/15 [00:31<00:00,  2.13s/it]\n",
            "process 76992: 100%|██████████| 16/16 [00:33<00:00,  2.08s/it]\n",
            "process 77000: 100%|██████████| 15/15 [00:33<00:00,  2.24s/it]\n",
            "process 76988: 100%|██████████| 16/16 [00:34<00:00,  2.15s/it]\n",
            "process 77013: 100%|██████████| 15/15 [00:35<00:00,  2.38s/it]\n",
            "process 76984: 100%|██████████| 16/16 [00:37<00:00,  2.35s/it]\n",
            "process 76981: 100%|██████████| 16/16 [00:48<00:00,  3.06s/it]\n",
            "process 76979: 100%|██████████| 16/16 [00:49<00:00,  3.10s/it]\n"
          ]
        },
        {
          "output_type": "stream",
          "name": "stdout",
          "text": [
            "... finished ...\n",
            "query: Eastern Meadowlark q_gt:B since:2020-01-01\n",
            "... retrieving metadata ...\n"
          ]
        },
        {
          "output_type": "stream",
          "name": "stderr",
          "text": [
            "process 77626: 100%|██████████| 8/8 [00:16<00:00,  2.05s/it]\n",
            "process 77612: 100%|██████████| 8/8 [00:16<00:00,  2.10s/it]\n",
            "process 77624: 100%|██████████| 8/8 [00:17<00:00,  2.14s/it]\n",
            "process 77632: 100%|██████████| 8/8 [00:17<00:00,  2.18s/it]\n",
            "process 77620: 100%|██████████| 8/8 [00:17<00:00,  2.20s/it]\n",
            "process 77616: 100%|██████████| 8/8 [00:18<00:00,  2.36s/it]\n",
            "process 77602: 100%|██████████| 8/8 [00:19<00:00,  2.42s/it]\n",
            "process 77596: 100%|██████████| 9/9 [00:20<00:00,  2.29s/it]\n",
            "process 77607: 100%|██████████| 8/8 [00:24<00:00,  3.03s/it]\n",
            "process 77598: 100%|██████████| 8/8 [00:24<00:00,  3.10s/it]\n"
          ]
        },
        {
          "output_type": "stream",
          "name": "stdout",
          "text": [
            "... finished ...\n",
            "query: Rusty Blackbird q_gt:B since:2020-01-01\n",
            "... retrieving metadata ...\n"
          ]
        },
        {
          "output_type": "stream",
          "name": "stderr",
          "text": [
            "process 77967: 100%|██████████| 1/1 [00:02<00:00,  2.02s/it]\n",
            "process 77974: 100%|██████████| 1/1 [00:01<00:00,  2.00s/it]\n",
            "process 77975: 100%|██████████| 1/1 [00:02<00:00,  2.04s/it]\n",
            "process 77990: 100%|██████████| 1/1 [00:02<00:00,  2.08s/it]\n",
            "process 77979: 100%|██████████| 1/1 [00:02<00:00,  2.22s/it]\n",
            "process 77984: 100%|██████████| 1/1 [00:02<00:00,  2.27s/it]\n",
            "process 77956: 100%|██████████| 2/2 [00:04<00:00,  2.15s/it]\n",
            "process 77963: 100%|██████████| 2/2 [00:04<00:00,  2.16s/it]\n",
            "process 77962: 100%|██████████| 2/2 [00:04<00:00,  2.25s/it]\n",
            "process 77954: 100%|██████████| 2/2 [00:04<00:00,  2.39s/it]\n"
          ]
        },
        {
          "output_type": "stream",
          "name": "stdout",
          "text": [
            "... finished ...\n",
            "query: Boat-tailed Grackle q_gt:B since:2020-01-01\n",
            "... retrieving metadata ...\n"
          ]
        },
        {
          "output_type": "stream",
          "name": "stderr",
          "text": [
            "process 78100: 100%|██████████| 2/2 [00:03<00:00,  1.80s/it]\n",
            "process 78116: 100%|██████████| 2/2 [00:03<00:00,  1.80s/it]\n",
            "process 78110: 100%|██████████| 2/2 [00:03<00:00,  1.92s/it]\n",
            "process 78114: 100%|██████████| 2/2 [00:03<00:00,  1.94s/it]\n",
            "process 78127: 100%|██████████| 2/2 [00:04<00:00,  2.13s/it]\n",
            "process 78131: 100%|██████████| 2/2 [00:04<00:00,  2.14s/it]\n",
            "process 78123: 100%|██████████| 2/2 [00:04<00:00,  2.28s/it]\n",
            "process 78103: 100%|██████████| 2/2 [00:04<00:00,  2.46s/it]\n",
            "process 78098: 100%|██████████| 3/3 [00:04<00:00,  1.67s/it]\n",
            "process 78119: 100%|██████████| 2/2 [00:05<00:00,  2.72s/it]\n"
          ]
        },
        {
          "output_type": "stream",
          "name": "stdout",
          "text": [
            "... finished ...\n",
            "query: Common Grackle q_gt:B since:2020-01-01\n",
            "... retrieving metadata ...\n"
          ]
        },
        {
          "output_type": "stream",
          "name": "stderr",
          "text": [
            "process 78297: 100%|██████████| 3/3 [00:07<00:00,  2.54s/it]\n",
            "process 78289: 100%|██████████| 4/4 [00:08<00:00,  2.00s/it]\n",
            "process 78284: 100%|██████████| 4/4 [00:09<00:00,  2.28s/it]\n",
            "process 78266: 100%|██████████| 4/4 [00:09<00:00,  2.32s/it]\n",
            "process 78293: 100%|██████████| 4/4 [00:09<00:00,  2.28s/it]\n",
            "process 78293: 100%|██████████| 4/4 [00:09<00:00,  2.38s/it]\n",
            "process 78277: 100%|██████████| 4/4 [00:10<00:00,  2.51s/it]\n",
            "process 78263: 100%|██████████| 4/4 [00:11<00:00,  2.87s/it]\n",
            "process 78260: 100%|██████████| 4/4 [00:11<00:00,  2.93s/it]\n",
            "process 78261: 100%|██████████| 4/4 [00:15<00:00,  3.90s/it]\n"
          ]
        },
        {
          "output_type": "stream",
          "name": "stdout",
          "text": [
            "... finished ...\n",
            "query: Brown-headed Cowbird q_gt:B since:2020-01-01\n",
            "... retrieving metadata ...\n"
          ]
        },
        {
          "output_type": "stream",
          "name": "stderr",
          "text": [
            "process 78536: 100%|██████████| 5/5 [00:12<00:00,  2.46s/it]\n",
            "process 78521: 100%|██████████| 6/6 [00:14<00:00,  2.41s/it]\n",
            "process 78517: 100%|██████████| 6/6 [00:14<00:00,  2.50s/it]\n",
            "process 78540: 100%|██████████| 5/5 [00:15<00:00,  3.00s/it]\n",
            "process 78530: 100%|██████████| 6/6 [00:15<00:00,  2.58s/it]\n",
            "process 78526: 100%|██████████| 6/6 [00:17<00:00,  2.87s/it]\n",
            "process 78511: 100%|██████████| 6/6 [00:17<00:00,  2.89s/it]\n",
            "process 78510: 100%|██████████| 6/6 [00:17<00:00,  2.94s/it]\n",
            "process 78504: 100%|██████████| 6/6 [00:19<00:00,  3.29s/it]\n",
            "process 78506: 100%|██████████| 6/6 [00:20<00:00,  3.40s/it]\n"
          ]
        },
        {
          "output_type": "stream",
          "name": "stdout",
          "text": [
            "... finished ...\n",
            "query: Orchard Oriole q_gt:B since:2020-01-01\n",
            "... retrieving metadata ...\n"
          ]
        },
        {
          "output_type": "stream",
          "name": "stderr",
          "text": [
            "process 78834: 100%|██████████| 2/2 [00:04<00:00,  2.04s/it]\n",
            "process 78816: 100%|██████████| 3/3 [00:05<00:00,  1.98s/it]\n",
            "process 78822: 100%|██████████| 3/3 [00:06<00:00,  2.01s/it]\n",
            "process 78826: 100%|██████████| 3/3 [00:06<00:00,  2.07s/it]\n",
            "process 78830: 100%|██████████| 3/3 [00:06<00:00,  2.22s/it]\n",
            "process 78821: 100%|██████████| 3/3 [00:06<00:00,  2.28s/it]\n",
            "process 78801: 100%|██████████| 3/3 [00:07<00:00,  2.35s/it]\n",
            "process 78806: 100%|██████████| 3/3 [00:07<00:00,  2.35s/it]\n",
            "process 78810: 100%|██████████| 3/3 [00:07<00:00,  2.45s/it]\n",
            "process 78802: 100%|██████████| 3/3 [00:10<00:00,  3.40s/it]\n"
          ]
        },
        {
          "output_type": "stream",
          "name": "stdout",
          "text": [
            "... finished ...\n",
            "query: Baltimore Oriole q_gt:B since:2020-01-01\n",
            "... retrieving metadata ...\n"
          ]
        },
        {
          "output_type": "stream",
          "name": "stderr",
          "text": [
            "process 79036: 100%|██████████| 4/4 [00:07<00:00,  1.77s/it]\n",
            "process 79021: 100%|██████████| 4/4 [00:07<00:00,  1.97s/it]\n",
            "process 79003: 100%|██████████| 4/4 [00:08<00:00,  2.09s/it]\n",
            "process 79035: 100%|██████████| 4/4 [00:08<00:00,  2.03s/it]\n",
            "process 79018: 100%|██████████| 4/4 [00:08<00:00,  2.16s/it]\n",
            "process 79031: 100%|██████████| 4/4 [00:09<00:00,  2.26s/it]\n",
            "process 79015: 100%|██████████| 4/4 [00:10<00:00,  2.70s/it]\n",
            "process 79005: 100%|██████████| 4/4 [00:11<00:00,  2.94s/it]\n",
            "process 79008: 100%|██████████| 4/4 [00:12<00:00,  3.02s/it]\n",
            "process 79024: 100%|██████████| 4/4 [00:13<00:00,  3.33s/it]\n"
          ]
        },
        {
          "output_type": "stream",
          "name": "stdout",
          "text": [
            "... finished ...\n",
            "query: Pine Grosbeak q_gt:B since:2020-01-01\n",
            "... retrieving metadata ...\n"
          ]
        },
        {
          "output_type": "stream",
          "name": "stderr",
          "text": [
            "process 79273: 100%|██████████| 2/2 [00:03<00:00,  1.59s/it]\n",
            "process 79238: 100%|██████████| 3/3 [00:05<00:00,  1.76s/it]\n",
            "process 79267: 100%|██████████| 3/3 [00:05<00:00,  1.67s/it]\n",
            "process 79240: 100%|██████████| 3/3 [00:05<00:00,  1.81s/it]\n",
            "process 79262: 100%|██████████| 3/3 [00:05<00:00,  1.77s/it]\n",
            "process 79251: 100%|██████████| 3/3 [00:05<00:00,  1.82s/it]\n",
            "process 79246: 100%|██████████| 3/3 [00:05<00:00,  2.00s/it]\n",
            "process 79256: 100%|██████████| 3/3 [00:05<00:00,  1.98s/it]\n",
            "process 79254: 100%|██████████| 3/3 [00:06<00:00,  2.03s/it]\n",
            "process 79237: 100%|██████████| 3/3 [00:06<00:00,  2.11s/it]\n"
          ]
        },
        {
          "output_type": "stream",
          "name": "stdout",
          "text": [
            "... finished ...\n",
            "query: Purple Finch q_gt:B since:2020-01-01\n",
            "... retrieving metadata ...\n"
          ]
        },
        {
          "output_type": "stream",
          "name": "stderr",
          "text": [
            "process 79452: 100%|██████████| 2/2 [00:04<00:00,  2.44s/it]\n",
            "process 79437: 100%|██████████| 3/3 [00:05<00:00,  1.95s/it]\n",
            "process 79448: 100%|██████████| 3/3 [00:05<00:00,  1.93s/it]\n",
            "process 79447: 100%|██████████| 3/3 [00:06<00:00,  2.13s/it]\n",
            "process 79421: 100%|██████████| 3/3 [00:06<00:00,  2.24s/it]\n",
            "process 79431: 100%|██████████| 3/3 [00:06<00:00,  2.29s/it]\n",
            "\n",
            "process 79435: 100%|██████████| 3/3 [00:06<00:00,  2.31s/it]\n",
            "process 79424: 100%|██████████| 3/3 [00:07<00:00,  2.44s/it]\n",
            "process 79419: 100%|██████████| 3/3 [00:07<00:00,  2.62s/it]\n"
          ]
        },
        {
          "output_type": "stream",
          "name": "stdout",
          "text": [
            "... finished ...\n",
            "query: House Finch q_gt:B since:2020-01-01\n",
            "... retrieving metadata ...\n"
          ]
        },
        {
          "output_type": "stream",
          "name": "stderr",
          "text": [
            "process 79637: 100%|██████████| 9/9 [00:16<00:00,  1.80s/it]\n",
            "process 79641: 100%|██████████| 9/9 [00:18<00:00,  2.05s/it]\n",
            "process 79624: 100%|██████████| 10/10 [00:20<00:00,  2.03s/it]\n",
            "process 79620: 100%|██████████| 10/10 [00:20<00:00,  2.06s/it]\n",
            "process 79633: 100%|██████████| 9/9 [00:21<00:00,  2.33s/it]\n",
            "process 79626: 100%|██████████| 10/10 [00:21<00:00,  2.18s/it]\n",
            "process 79614: 100%|██████████| 10/10 [00:23<00:00,  2.34s/it]\n",
            "process 79610: 100%|██████████| 10/10 [00:24<00:00,  2.44s/it]\n",
            "process 79605: 100%|██████████| 10/10 [00:25<00:00,  2.52s/it]\n",
            "process 79606: 100%|██████████| 10/10 [00:34<00:00,  3.47s/it]\n"
          ]
        },
        {
          "output_type": "stream",
          "name": "stdout",
          "text": [
            "... finished ...\n",
            "query: Red Crossbill q_gt:B since:2020-01-01\n",
            "... retrieving metadata ...\n"
          ]
        },
        {
          "output_type": "stream",
          "name": "stderr",
          "text": [
            "process 80043: 100%|██████████| 21/21 [00:38<00:00,  1.82s/it]\n",
            "process 80055: 100%|██████████| 21/21 [00:40<00:00,  1.93s/it]\n",
            "process 80060: 100%|██████████| 21/21 [00:41<00:00,  1.95s/it]\n",
            "process 80059: 100%|██████████| 21/21 [00:41<00:00,  1.98s/it]\n",
            "process 80045: 100%|██████████| 21/21 [00:42<00:00,  2.03s/it]\n",
            "process 80048: 100%|██████████| 21/21 [00:42<00:00,  2.04s/it]\n",
            "process 80066: 100%|██████████| 20/20 [00:43<00:00,  2.15s/it]\n",
            "process 80070: 100%|██████████| 20/20 [00:44<00:00,  2.23s/it]\n",
            "process 80062: 100%|██████████| 20/20 [00:47<00:00,  2.39s/it]\n",
            "process 80073: 100%|██████████| 20/20 [00:50<00:00,  2.55s/it]\n"
          ]
        },
        {
          "output_type": "stream",
          "name": "stdout",
          "text": [
            "... finished ...\n",
            "query: White-winged Crossbill q_gt:B since:2020-01-01\n",
            "... retrieving metadata ...\n",
            "An unexpected error occurred for bird 'White-winged Crossbill': integer division or modulo by zero\n",
            "query: Common Redpoll q_gt:B since:2020-01-01\n",
            "... retrieving metadata ...\n"
          ]
        },
        {
          "output_type": "stream",
          "name": "stderr",
          "text": [
            "process 80809: 100%|██████████| 2/2 [00:03<00:00,  1.68s/it]\n",
            "process 80801: 100%|██████████| 2/2 [00:03<00:00,  1.80s/it]\n",
            "process 80812: 100%|██████████| 2/2 [00:03<00:00,  1.89s/it]\n",
            "process 80803: 100%|██████████| 2/2 [00:04<00:00,  2.03s/it]\n",
            "process 80814: 100%|██████████| 2/2 [00:04<00:00,  2.04s/it]\n",
            "process 80799: 100%|██████████| 2/2 [00:04<00:00,  2.14s/it]\n",
            "process 80792: 100%|██████████| 3/3 [00:05<00:00,  1.67s/it]\n",
            "process 80795: 100%|██████████| 3/3 [00:05<00:00,  1.73s/it]\n",
            "process 80786: 100%|██████████| 3/3 [00:05<00:00,  2.00s/it]\n",
            "process 80788: 100%|██████████| 3/3 [00:06<00:00,  2.27s/it]\n"
          ]
        },
        {
          "output_type": "stream",
          "name": "stdout",
          "text": [
            "... finished ...\n",
            "query: Pine Siskin q_gt:B since:2020-01-01\n",
            "... retrieving metadata ...\n"
          ]
        },
        {
          "output_type": "stream",
          "name": "stderr",
          "text": [
            "process 80970: 100%|██████████| 3/3 [00:04<00:00,  1.59s/it]\n",
            "process 80981: 100%|██████████| 3/3 [00:05<00:00,  1.79s/it]\n",
            "process 80991: 100%|██████████| 3/3 [00:05<00:00,  1.79s/it]\n",
            "process 80976: 100%|██████████| 3/3 [00:06<00:00,  2.01s/it]\n",
            "process 80974: 100%|██████████| 3/3 [00:06<00:00,  2.04s/it]\n",
            "process 80980: 100%|██████████| 3/3 [00:06<00:00,  2.04s/it]\n",
            "process 80960: 100%|██████████| 3/3 [00:06<00:00,  2.37s/it]\n",
            "process 80987: 100%|██████████| 3/3 [00:06<00:00,  2.22s/it]\n",
            "process 80963: 100%|██████████| 3/3 [00:07<00:00,  2.46s/it]\n",
            "process 80958: 100%|██████████| 4/4 [00:08<00:00,  2.12s/it]\n"
          ]
        },
        {
          "output_type": "stream",
          "name": "stdout",
          "text": [
            "... finished ...\n",
            "query: American Goldfinch q_gt:B since:2020-01-01\n",
            "... retrieving metadata ...\n"
          ]
        },
        {
          "output_type": "stream",
          "name": "stderr",
          "text": [
            "process 81171: 100%|██████████| 4/4 [00:06<00:00,  1.72s/it]\n",
            "process 81181: 100%|██████████| 4/4 [00:07<00:00,  1.88s/it]\n",
            "process 81178: 100%|██████████| 4/4 [00:07<00:00,  1.90s/it]\n",
            "process 81185: 100%|██████████| 4/4 [00:08<00:00,  2.21s/it]\n",
            "process 81161: 100%|██████████| 5/5 [00:09<00:00,  1.98s/it]\n",
            "process 81152: 100%|██████████| 5/5 [00:10<00:00,  2.00s/it]\n",
            "process 81160: 100%|██████████| 5/5 [00:10<00:00,  2.07s/it]\n",
            "process 81167: 100%|██████████| 5/5 [00:10<00:00,  2.19s/it]\n",
            "process 81165: 100%|██████████| 5/5 [00:11<00:00,  2.22s/it]\n",
            "process 81154: 100%|██████████| 5/5 [00:13<00:00,  2.61s/it]\n"
          ]
        },
        {
          "output_type": "stream",
          "name": "stdout",
          "text": [
            "... finished ...\n",
            "query: Evening Grosbeak q_gt:B since:2020-01-01\n",
            "... retrieving metadata ...\n"
          ]
        },
        {
          "output_type": "stream",
          "name": "stderr",
          "text": [
            "process 81429: 100%|██████████| 2/2 [00:02<00:00,  1.47s/it]\n",
            "process 81418: 100%|██████████| 2/2 [00:03<00:00,  1.79s/it]\n",
            "process 81413: 100%|██████████| 2/2 [00:04<00:00,  2.11s/it]\n",
            "process 81433: 100%|██████████| 2/2 [00:04<00:00,  2.24s/it]\n",
            "process 81423: 100%|██████████| 2/2 [00:04<00:00,  2.38s/it]\n",
            "process 81402: 100%|██████████| 3/3 [00:05<00:00,  1.85s/it]\n",
            "process 81393: 100%|██████████| 3/3 [00:06<00:00,  2.17s/it]\n",
            "process 81406: 100%|██████████| 3/3 [00:06<00:00,  2.21s/it]\n",
            "process 81401: 100%|██████████| 3/3 [00:07<00:00,  2.61s/it]\n",
            "process 81411: 100%|██████████| 2/2 [00:09<00:00,  4.63s/it]\n"
          ]
        },
        {
          "output_type": "stream",
          "name": "stdout",
          "text": [
            "... finished ...\n",
            "query: House Sparrow q_gt:B since:2020-01-01\n",
            "... retrieving metadata ...\n"
          ]
        },
        {
          "output_type": "stream",
          "name": "stderr",
          "text": [
            "process 81612: 100%|██████████| 58/58 [01:55<00:00,  2.00s/it]\n",
            "process 81626: 100%|██████████| 58/58 [01:58<00:00,  2.04s/it]\n",
            "process 81618: 100%|██████████| 58/58 [01:58<00:00,  2.04s/it]\n",
            "process 81622: 100%|██████████| 58/58 [01:59<00:00,  2.07s/it]\n",
            "process 81634: 100%|██████████| 57/57 [02:03<00:00,  2.17s/it]\n",
            "process 81628: 100%|██████████| 57/57 [02:07<00:00,  2.23s/it]\n",
            "process 81602: 100%|██████████| 58/58 [02:08<00:00,  2.21s/it]\n",
            "process 81608: 100%|██████████| 58/58 [02:18<00:00,  2.39s/it]\n",
            "process 81604: 100%|██████████| 58/58 [02:40<00:00,  2.77s/it]\n",
            "process 81601: 100%|██████████| 58/58 [02:46<00:00,  2.87s/it]\n"
          ]
        },
        {
          "output_type": "stream",
          "name": "stdout",
          "text": [
            "... finished ...\n"
          ]
        }
      ]
    },
    {
      "cell_type": "code",
      "source": [
        "failed_birds"
      ],
      "metadata": {
        "id": "s228Fs2--QO6",
        "colab": {
          "base_uri": "https://localhost:8080/"
        },
        "outputId": "ad6a91e1-2047-4782-e56c-04e0c19c6de6"
      },
      "execution_count": null,
      "outputs": [
        {
          "output_type": "execute_result",
          "data": {
            "text/plain": [
              "['Cory\\x92s Shearwater',\n",
              " 'Greater Shearwater',\n",
              " 'Wilson\\x92s Storm-petrel',\n",
              " 'Leach\\x92s Storm-petrel',\n",
              " 'Canvasback',\n",
              " 'Oldsquaw',\n",
              " 'Black Scoter',\n",
              " 'Surf Scoter',\n",
              " 'White-winged Scoter',\n",
              " 'Hooded Merganser',\n",
              " 'Amer. Swallowtail Kite',\n",
              " 'Cooper\\x92s Hawk',\n",
              " 'Rough-legged Hawk',\n",
              " 'Ring-necked Pheasant',\n",
              " 'Eastern Wild Turkey',\n",
              " 'Black-bellied Plover',\n",
              " 'American Golden-plover',\n",
              " 'Baird\\x92s Sandpiper',\n",
              " 'Stilt Sandpiper',\n",
              " 'Wilson\\x92s Phalarope',\n",
              " 'Pomarine Jaeger',\n",
              " 'Common Black-headed Gull',\n",
              " 'Bonaparte\\x92s Gull',\n",
              " 'Forster\\x92s Tern',\n",
              " 'Dovekie',\n",
              " 'Common Barn Owl',\n",
              " 'Chuck-will\\x92s-widow',\n",
              " 'No. Rough-winged Swallow',\n",
              " 'Bank Swallow',\n",
              " 'Common Raven',\n",
              " 'Blue-gray Gnatcatcher',\n",
              " 'Gray-cheeked Thrush',\n",
              " 'Swainson\\x92s Thrush',\n",
              " 'Gray Catbird',\n",
              " 'European Starling',\n",
              " 'Tennesee Warbler',\n",
              " 'Yellow-rumped Warbler',\n",
              " 'Wilson\\x92s Warbler',\n",
              " 'Henslow\\x92s Sparrow',\n",
              " 'Saltmarsh Sharp-tailed Sparrow',\n",
              " \"Nelson's Sharp-tailed Sparrow\",\n",
              " 'Lincoln\\x92s Sparrow',\n",
              " 'White-winged Crossbill']"
            ]
          },
          "metadata": {},
          "execution_count": 48
        }
      ]
    },
    {
      "cell_type": "code",
      "source": [
        "failed_birds_df = pd.DataFrame(failed_birds)"
      ],
      "metadata": {
        "id": "tiJW8J04lHr9"
      },
      "execution_count": null,
      "outputs": []
    },
    {
      "cell_type": "code",
      "source": [
        "failed_birds_df.to_csv(base_dir + 'failed_birds.csv')"
      ],
      "metadata": {
        "id": "81FlL3ftlW1E"
      },
      "execution_count": null,
      "outputs": []
    }
  ]
}